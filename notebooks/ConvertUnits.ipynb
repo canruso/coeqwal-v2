{
 "cells": [
  {
   "cell_type": "code",
   "id": "initial_id",
   "metadata": {
    "collapsed": true,
    "ExecuteTime": {
     "end_time": "2024-07-03T14:04:03.610493Z",
     "start_time": "2024-07-03T14:04:03.608868Z"
    }
   },
   "source": [
    "import pandas as pd\n",
    "import numpy as np"
   ],
   "outputs": [],
   "execution_count": 1
  },
  {
   "metadata": {
    "ExecuteTime": {
     "end_time": "2024-07-03T14:04:03.613014Z",
     "start_time": "2024-07-03T14:04:03.611291Z"
    }
   },
   "cell_type": "code",
   "source": [
    "# filepaths\n",
    "all_data = \"EDA_data_07_01_2024.csv\"\n",
    "wet_data = \"wet_EDA_data_07_01_24.csv\"\n",
    "dry_data = \"dry_EDA_data_07_01_24.csv\"\n",
    "\n",
    "output_fp = \"../output/convert/\""
   ],
   "id": "7fcba9c6cd909698",
   "outputs": [],
   "execution_count": 2
  },
  {
   "metadata": {
    "ExecuteTime": {
     "end_time": "2024-07-03T14:06:31.796756Z",
     "start_time": "2024-07-03T14:06:16.366408Z"
    }
   },
   "cell_type": "code",
   "source": [
    "df = pd.read_csv(\"../output/extract/\" + all_data,header=[0, 1, 2, 3, 4, 5, 6], index_col=0, parse_dates=True)\n",
    "wet_df = pd.read_csv(\"../output/extract/\" + wet_data, header=[0, 1, 2, 3, 4, 5, 6], index_col=0, parse_dates=True)\n",
    "dry_df = pd.read_csv(\"../output/extract/\" + dry_data, header=[0, 1, 2, 3, 4, 5, 6], index_col=0, parse_dates=True)"
   ],
   "id": "1f3d95df8fce3070",
   "outputs": [],
   "execution_count": 7
  },
  {
   "metadata": {},
   "cell_type": "code",
   "outputs": [],
   "execution_count": null,
   "source": [
    "def convert_cfs_to_taf(df):\n",
    "    date_column = df.index\n",
    "    months = date_column.strftime('%m')\n",
    "    years = date_column.strftime('%Y')\n",
    "\n",
    "    days_in_month = np.zeros(len(df))\n",
    "\n",
    "    # Compute the number of days in each month, considering leap years for February\n",
    "    for i in range(len(months)):\n",
    "        if months[i] in {\"01\", \"03\", \"05\", \"07\", \"08\", \"10\", \"12\"}:\n",
    "            days_in_month[i] = 31\n",
    "        elif months[i] == \"02\":\n",
    "            year = int(years[i])\n",
    "            if year % 4 == 0 and (year % 100 != 0 or year % 400 == 0):\n",
    "                days_in_month[i] = 29\n",
    "            else:\n",
    "                days_in_month[i] = 28\n",
    "        elif months[i] in {\"04\", \"06\", \"09\", \"11\"}:\n",
    "            days_in_month[i] = 30\n",
    "\n",
    "    columns_to_convert = [col for col in df.columns if ('DEL' in col[1] or 'NDO' in col[1] or 'D_TOTAL' in col[1]) and 'CFS' in col[6]]\n",
    "    new_columns_dict = {}\n",
    "\n",
    "    for column in columns_to_convert:\n",
    "        new_values = df[column].values * 2.29568e-5 * 86400 * days_in_month / 1000\n",
    "        new_column_name = list(column)\n",
    "        new_column_name[1] = new_column_name[1] + '_TAF'\n",
    "        new_column_name[6] = 'TAF'\n",
    "        new_column_name = tuple(new_column_name)\n",
    "        new_columns_dict[new_column_name] = new_values\n",
    "\n",
    "    for new_col, new_values in new_columns_dict.items():\n",
    "        df[new_col] = new_values\n",
    "\n",
    "    return df"
   ],
   "id": "195ef3bcb6871e3c"
  },
  {
   "metadata": {},
   "cell_type": "code",
   "outputs": [],
   "execution_count": null,
   "source": "df = convert_cfs_to_taf(df)",
   "id": "518134d2aff589db"
  },
  {
   "metadata": {},
   "cell_type": "code",
   "outputs": [],
   "execution_count": null,
   "source": "wet_df = convert_cfs_to_taf(wet_df)",
   "id": "a255eca8289b37d0"
  },
  {
   "metadata": {},
   "cell_type": "code",
   "outputs": [],
   "execution_count": null,
   "source": "dry_df = convert_cfs_to_taf(dry_df)",
   "id": "311200e1f45f472e"
  },
  {
   "metadata": {},
   "cell_type": "code",
   "outputs": [],
   "execution_count": null,
   "source": [
    "df.to_csv(output_fp + \"convert_\" + all_data, header=True, index=True)\n",
    "wet_df.to_csv(output_fp + \"convert_\" + wet_data, header=True, index=True)\n",
    "dry_df.to_csv(output_fp + \"convert_\" + dry_data, header=True, index=True)"
   ],
   "id": "87cac7916fcde211"
  }
 ],
 "metadata": {
  "kernelspec": {
   "display_name": "Python 3",
   "language": "python",
   "name": "python3"
  },
  "language_info": {
   "codemirror_mode": {
    "name": "ipython",
    "version": 2
   },
   "file_extension": ".py",
   "mimetype": "text/x-python",
   "name": "python",
   "nbconvert_exporter": "python",
   "pygments_lexer": "ipython2",
   "version": "2.7.6"
  }
 },
 "nbformat": 4,
 "nbformat_minor": 5
}
