{
 "cells": [
  {
   "cell_type": "markdown",
   "id": "e45f814080c0b939",
   "metadata": {},
   "source": [
    "## Import"
   ]
  },
  {
   "cell_type": "code",
   "execution_count": 14,
   "id": "93c91bd1a1e8beca",
   "metadata": {
    "ExecuteTime": {
     "end_time": "2024-06-06T07:01:21.071900Z",
     "start_time": "2024-06-06T07:01:20.985504Z"
    }
   },
   "outputs": [],
   "source": [
    "import os\n",
    "import datetime as dt\n",
    "import pandas as pd\n",
    "import numpy as np"
   ]
  },
  {
   "cell_type": "code",
   "execution_count": 15,
   "id": "1f61561cb3284fbd",
   "metadata": {
    "ExecuteTime": {
     "end_time": "2024-06-06T07:01:29.304394Z",
     "start_time": "2024-06-06T07:01:28.541477Z"
    }
   },
   "outputs": [
    {
     "ename": "OSError",
     "evalue": "dlopen(../ExcelDSSAdd-inPackage_Feb2016/libraries/64-bit/heclib_x64.dll, 0x0006): tried: '../ExcelDSSAdd-inPackage_Feb2016/libraries/64-bit/heclib_x64.dll' (not a mach-o file), '/System/Volumes/Preboot/Cryptexes/OS../ExcelDSSAdd-inPackage_Feb2016/libraries/64-bit/heclib_x64.dll' (no such file), '/Users/canruso/opt/anaconda3/lib/../ExcelDSSAdd-inPackage_Feb2016/libraries/64-bit/heclib_x64.dll' (no such file), '/System/Volumes/Preboot/Cryptexes/OS/Users/canruso/opt/anaconda3/lib/../ExcelDSSAdd-inPackage_Feb2016/libraries/64-bit/heclib_x64.dll' (no such file), '/Users/canruso/opt/anaconda3/lib/../ExcelDSSAdd-inPackage_Feb2016/libraries/64-bit/heclib_x64.dll' (no such file), '/System/Volumes/Preboot/Cryptexes/OS/Users/canruso/opt/anaconda3/lib/../ExcelDSSAdd-inPackage_Feb2016/libraries/64-bit/heclib_x64.dll' (no such file), '/Users/canruso/opt/anaconda3/lib/python3.9/lib-dynload/../../../ExcelDSSAdd-inPackage_Feb2016/libraries/64-bit/heclib_x64.dll' (no such file), '/Users/canruso/opt/anaconda3/lib/../ExcelDSSAdd-inPackage_Feb2016/libraries/64-bit/heclib_x64.dll' (no such file), '/System/Volumes/Preboot/Cryptexes/OS/Users/canruso/opt/anaconda3/lib/../ExcelDSSAdd-inPackage_Feb2016/libraries/64-bit/heclib_x64.dll' (no such file), '/Users/canruso/opt/anaconda3/bin/../lib/../ExcelDSSAdd-inPackage_Feb2016/libraries/64-bit/heclib_x64.dll' (no such file), '/usr/lib/../ExcelDSSAdd-inPackage_Feb2016/libraries/64-bit/heclib_x64.dll' (no such file, not in dyld cache), '../ExcelDSSAdd-inPackage_Feb2016/libraries/64-bit/heclib_x64.dll' (not a mach-o file), '/Users/canruso/Desktop/CoEQWAL/ExcelDSSAdd-inPackage_Feb2016/libraries/64-bit/heclib_x64.dll' (not a mach-o file), '/System/Volumes/Preboot/Cryptexes/OS/Users/canruso/Desktop/CoEQWAL/ExcelDSSAdd-inPackage_Feb2016/libraries/64-bit/heclib_x64.dll' (no such file), '/Users/canruso/Desktop/CoEQWAL/ExcelDSSAdd-inPackage_Feb2016/libraries/64-bit/heclib_x64.dll' (not a mach-o file)",
     "output_type": "error",
     "traceback": [
      "\u001B[0;31m---------------------------------------------------------------------------\u001B[0m",
      "\u001B[0;31mOSError\u001B[0m                                   Traceback (most recent call last)",
      "Input \u001B[0;32mIn [15]\u001B[0m, in \u001B[0;36m<cell line: 3>\u001B[0;34m()\u001B[0m\n\u001B[1;32m      1\u001B[0m \u001B[38;5;66;03m# Import custom modules - NEED WINDOWS OS\u001B[39;00m\n\u001B[1;32m      2\u001B[0m \u001B[38;5;66;03m#from CoEQWAL.imports import AuxFunctions as af, cs3, csPlots, cs_util as util, dss3_functions_reference as dss\u001B[39;00m\n\u001B[0;32m----> 3\u001B[0m \u001B[38;5;28;01mimport\u001B[39;00m \u001B[38;5;21;01mAuxFunctions\u001B[39;00m \u001B[38;5;28;01mas\u001B[39;00m \u001B[38;5;21;01maf\u001B[39;00m\u001B[38;5;241m,\u001B[39m \u001B[38;5;21;01mcs3\u001B[39;00m\u001B[38;5;241m,\u001B[39m \u001B[38;5;21;01mcsPlots\u001B[39;00m\u001B[38;5;241m,\u001B[39m \u001B[38;5;21;01mcs_util\u001B[39;00m \u001B[38;5;28;01mas\u001B[39;00m \u001B[38;5;21;01mutil\u001B[39;00m\u001B[38;5;241m,\u001B[39m \u001B[38;5;21;01mdss3_functions_reference\u001B[39;00m \u001B[38;5;28;01mas\u001B[39;00m \u001B[38;5;21;01mdss\u001B[39;00m\n",
      "File \u001B[0;32m~/Desktop/CoEQWAL/notebooks/AuxFunctions.py:30\u001B[0m, in \u001B[0;36m<module>\u001B[0;34m\u001B[0m\n\u001B[1;32m     27\u001B[0m \u001B[38;5;28;01mimport\u001B[39;00m \u001B[38;5;21;01mos\u001B[39;00m\n\u001B[1;32m     28\u001B[0m \u001B[38;5;28;01mimport\u001B[39;00m \u001B[38;5;21;01mdatetime\u001B[39;00m \u001B[38;5;28;01mas\u001B[39;00m \u001B[38;5;21;01mdt\u001B[39;00m\n\u001B[0;32m---> 30\u001B[0m \u001B[38;5;28;01mimport\u001B[39;00m \u001B[38;5;21;01mdss3_functions_reference\u001B[39;00m \u001B[38;5;28;01mas\u001B[39;00m \u001B[38;5;21;01mdss\u001B[39;00m  \u001B[38;5;66;03m####IMPORTANT - change import to reflect Python3 vs Python2.x versions!!!\u001B[39;00m\n\u001B[1;32m     32\u001B[0m \u001B[38;5;66;03m#%% other utility functions - taken from PlotAllocDiff.py\u001B[39;00m\n\u001B[1;32m     34\u001B[0m \u001B[38;5;28;01mdef\u001B[39;00m \u001B[38;5;21mcalc_exceed\u001B[39m(series):\n\u001B[1;32m     35\u001B[0m     \u001B[38;5;66;03m#series = series.dropna()  # get rid of any missing values\u001B[39;00m\n",
      "File \u001B[0;32m~/Desktop/CoEQWAL/notebooks/dss3_functions_reference.py:51\u001B[0m, in \u001B[0;36m<module>\u001B[0;34m\u001B[0m\n\u001B[1;32m     48\u001B[0m     sys\u001B[38;5;241m.\u001B[39mpath\u001B[38;5;241m.\u001B[39mappend(\u001B[38;5;124mr\u001B[39m\u001B[38;5;124m'\u001B[39m\u001B[38;5;124mD:\u001B[39m\u001B[38;5;124m\\\u001B[39m\u001B[38;5;124m02_Projects\u001B[39m\u001B[38;5;124m\\\u001B[39m\u001B[38;5;124mCalSim\u001B[39m\u001B[38;5;124m\\\u001B[39m\u001B[38;5;124mutil\u001B[39m\u001B[38;5;124m\\\u001B[39m\u001B[38;5;124mCalSim_Utilities\u001B[39m\u001B[38;5;124m\\\u001B[39m\u001B[38;5;124mPython_Functions\u001B[39m\u001B[38;5;124m\\\u001B[39m\u001B[38;5;124mHecLibSource\u001B[39m\u001B[38;5;124m\\\u001B[39m\u001B[38;5;124mmingw64_build\u001B[39m\u001B[38;5;124m\\\u001B[39m\u001B[38;5;124mheclib\u001B[39m\u001B[38;5;124m\\\u001B[39m\u001B[38;5;124mrelease\u001B[39m\u001B[38;5;124m'\u001B[39m)\n\u001B[1;32m     49\u001B[0m     dll_path \u001B[38;5;241m=\u001B[39m \u001B[38;5;124mr\u001B[39m\u001B[38;5;124m\"\u001B[39m\u001B[38;5;124mD:\u001B[39m\u001B[38;5;124m\\\u001B[39m\u001B[38;5;124m02_Projects\u001B[39m\u001B[38;5;124m\\\u001B[39m\u001B[38;5;124mCalSim\u001B[39m\u001B[38;5;124m\\\u001B[39m\u001B[38;5;124mutil\u001B[39m\u001B[38;5;124m\\\u001B[39m\u001B[38;5;124mCalSim_Utilities\u001B[39m\u001B[38;5;124m\\\u001B[39m\u001B[38;5;124mPython_Functions\u001B[39m\u001B[38;5;124m\\\u001B[39m\u001B[38;5;124mHecLibSource\u001B[39m\u001B[38;5;124m\\\u001B[39m\u001B[38;5;124mmingw64_build\u001B[39m\u001B[38;5;124m\\\u001B[39m\u001B[38;5;124mheclib\u001B[39m\u001B[38;5;124m\\\u001B[39m\u001B[38;5;124mrelease\u001B[39m\u001B[38;5;124m\\\u001B[39m\u001B[38;5;124mheclib2.dll\u001B[39m\u001B[38;5;124m\"\u001B[39m\n\u001B[0;32m---> 51\u001B[0m dsslib \u001B[38;5;241m=\u001B[39m \u001B[43mC\u001B[49m\u001B[38;5;241;43m.\u001B[39;49m\u001B[43mcdll\u001B[49m\u001B[38;5;241;43m.\u001B[39;49m\u001B[43mLoadLibrary\u001B[49m\u001B[43m(\u001B[49m\u001B[43mdll_path\u001B[49m\u001B[43m)\u001B[49m\n\u001B[1;32m     52\u001B[0m \u001B[38;5;66;03m#C.cdll.LoadLibrary(r\"D:/02_Projects/CalSim/util/CalSim_Utilities/Python_Functions/HecLibSource/mingw64_build/heclib/release/libgfortran-5.dll\")\u001B[39;00m\n\u001B[1;32m     53\u001B[0m \u001B[38;5;66;03m#C.cdll.LoadLibrary('libquadmath-0.dll')\u001B[39;00m\n\u001B[1;32m     54\u001B[0m \u001B[38;5;66;03m#%%\u001B[39;00m\n\u001B[1;32m     55\u001B[0m \u001B[38;5;28;01mdef\u001B[39;00m \u001B[38;5;21mopen_dss\u001B[39m(fpi):\n",
      "File \u001B[0;32m~/opt/anaconda3/lib/python3.9/ctypes/__init__.py:460\u001B[0m, in \u001B[0;36mLibraryLoader.LoadLibrary\u001B[0;34m(self, name)\u001B[0m\n\u001B[1;32m    459\u001B[0m \u001B[38;5;28;01mdef\u001B[39;00m \u001B[38;5;21mLoadLibrary\u001B[39m(\u001B[38;5;28mself\u001B[39m, name):\n\u001B[0;32m--> 460\u001B[0m     \u001B[38;5;28;01mreturn\u001B[39;00m \u001B[38;5;28;43mself\u001B[39;49m\u001B[38;5;241;43m.\u001B[39;49m\u001B[43m_dlltype\u001B[49m\u001B[43m(\u001B[49m\u001B[43mname\u001B[49m\u001B[43m)\u001B[49m\n",
      "File \u001B[0;32m~/opt/anaconda3/lib/python3.9/ctypes/__init__.py:382\u001B[0m, in \u001B[0;36mCDLL.__init__\u001B[0;34m(self, name, mode, handle, use_errno, use_last_error, winmode)\u001B[0m\n\u001B[1;32m    379\u001B[0m \u001B[38;5;28mself\u001B[39m\u001B[38;5;241m.\u001B[39m_FuncPtr \u001B[38;5;241m=\u001B[39m _FuncPtr\n\u001B[1;32m    381\u001B[0m \u001B[38;5;28;01mif\u001B[39;00m handle \u001B[38;5;129;01mis\u001B[39;00m \u001B[38;5;28;01mNone\u001B[39;00m:\n\u001B[0;32m--> 382\u001B[0m     \u001B[38;5;28mself\u001B[39m\u001B[38;5;241m.\u001B[39m_handle \u001B[38;5;241m=\u001B[39m \u001B[43m_dlopen\u001B[49m\u001B[43m(\u001B[49m\u001B[38;5;28;43mself\u001B[39;49m\u001B[38;5;241;43m.\u001B[39;49m\u001B[43m_name\u001B[49m\u001B[43m,\u001B[49m\u001B[43m \u001B[49m\u001B[43mmode\u001B[49m\u001B[43m)\u001B[49m\n\u001B[1;32m    383\u001B[0m \u001B[38;5;28;01melse\u001B[39;00m:\n\u001B[1;32m    384\u001B[0m     \u001B[38;5;28mself\u001B[39m\u001B[38;5;241m.\u001B[39m_handle \u001B[38;5;241m=\u001B[39m handle\n",
      "\u001B[0;31mOSError\u001B[0m: dlopen(../ExcelDSSAdd-inPackage_Feb2016/libraries/64-bit/heclib_x64.dll, 0x0006): tried: '../ExcelDSSAdd-inPackage_Feb2016/libraries/64-bit/heclib_x64.dll' (not a mach-o file), '/System/Volumes/Preboot/Cryptexes/OS../ExcelDSSAdd-inPackage_Feb2016/libraries/64-bit/heclib_x64.dll' (no such file), '/Users/canruso/opt/anaconda3/lib/../ExcelDSSAdd-inPackage_Feb2016/libraries/64-bit/heclib_x64.dll' (no such file), '/System/Volumes/Preboot/Cryptexes/OS/Users/canruso/opt/anaconda3/lib/../ExcelDSSAdd-inPackage_Feb2016/libraries/64-bit/heclib_x64.dll' (no such file), '/Users/canruso/opt/anaconda3/lib/../ExcelDSSAdd-inPackage_Feb2016/libraries/64-bit/heclib_x64.dll' (no such file), '/System/Volumes/Preboot/Cryptexes/OS/Users/canruso/opt/anaconda3/lib/../ExcelDSSAdd-inPackage_Feb2016/libraries/64-bit/heclib_x64.dll' (no such file), '/Users/canruso/opt/anaconda3/lib/python3.9/lib-dynload/../../../ExcelDSSAdd-inPackage_Feb2016/libraries/64-bit/heclib_x64.dll' (no such file), '/Users/canruso/opt/anaconda3/lib/../ExcelDSSAdd-inPackage_Feb2016/libraries/64-bit/heclib_x64.dll' (no such file), '/System/Volumes/Preboot/Cryptexes/OS/Users/canruso/opt/anaconda3/lib/../ExcelDSSAdd-inPackage_Feb2016/libraries/64-bit/heclib_x64.dll' (no such file), '/Users/canruso/opt/anaconda3/bin/../lib/../ExcelDSSAdd-inPackage_Feb2016/libraries/64-bit/heclib_x64.dll' (no such file), '/usr/lib/../ExcelDSSAdd-inPackage_Feb2016/libraries/64-bit/heclib_x64.dll' (no such file, not in dyld cache), '../ExcelDSSAdd-inPackage_Feb2016/libraries/64-bit/heclib_x64.dll' (not a mach-o file), '/Users/canruso/Desktop/CoEQWAL/ExcelDSSAdd-inPackage_Feb2016/libraries/64-bit/heclib_x64.dll' (not a mach-o file), '/System/Volumes/Preboot/Cryptexes/OS/Users/canruso/Desktop/CoEQWAL/ExcelDSSAdd-inPackage_Feb2016/libraries/64-bit/heclib_x64.dll' (no such file), '/Users/canruso/Desktop/CoEQWAL/ExcelDSSAdd-inPackage_Feb2016/libraries/64-bit/heclib_x64.dll' (not a mach-o file)"
     ]
    }
   ],
   "source": [
    "# Import custom modules - NEED WINDOWS OS\n",
    "#from CoEQWAL.imports import AuxFunctions as af, cs3, csPlots, cs_util as util, dss3_functions_reference as dss\n",
    "import AuxFunctions as af, cs3, csPlots, cs_util as util, dss3_functions_reference as dss"
   ]
  },
  {
   "cell_type": "markdown",
   "id": "38a886dad8c6c902",
   "metadata": {},
   "source": [
    "## Define file names and ranges for DSS and vars"
   ]
  },
  {
   "cell_type": "code",
   "execution_count": 16,
   "id": "ef7c2c9fbf679fd5",
   "metadata": {
    "ExecuteTime": {
     "end_time": "2024-06-06T07:01:58.390453Z",
     "start_time": "2024-06-06T07:01:58.368740Z"
    }
   },
   "outputs": [],
   "source": [
    "# list of study names file, tab, range, and extension\n",
    "DssList = r'../dss_may_2024/Exploratory_Results_v03/callite_expl03_run_listing.xlsx'\n",
    "DssTab = 'callite_expl03_run_listing'\n",
    "DssMin = 'A1'\n",
    "DssMax = 'A601'\n",
    "DssExt = '_DV.dss'\n",
    "DssOut = 'EDA_06_04_24_dss_names.csv'\n",
    "\n",
    "# list of relevant variables file, tab, and range (B & C parts)\n",
    "VarList = r'../Selected Studies and Variables/May27_variables.xlsx'\n",
    "VarTab = 'May EDA'\n",
    "VarMin = 'B1'\n",
    "VarMax = 'C51'\n",
    "VarOut = 'EDA_vars_06_04_24.csv'\n",
    "\n",
    "# launch file path to (or CalSim) studies and output csv name\n",
    "StudyDir = r'../dss_may_2024/Exploratory_Results_v03'\n",
    "DataDir = r'../data'\n",
    "DataOut = 'EDA_data_06_04_24.csv'\n",
    "\n",
    "# WY csv\n",
    "WYcsv = 'wytypestable.csv'\n",
    "\n",
    "# time intervals\n",
    "begYear = 1921\n",
    "begMonth = 10\n",
    "begDay = 31\n",
    "endYear = 2003\n",
    "endMonth = 9\n",
    "endDay = 30"
   ]
  },
  {
   "cell_type": "markdown",
   "id": "e02cf686-69bd-4a22-bc35-42769740aae7",
   "metadata": {},
   "source": [
    "## Read names and construct study name"
   ]
  },
  {
   "cell_type": "code",
   "execution_count": null,
   "id": "79d2a998-acab-49e7-a2bd-25e6336f0ede",
   "metadata": {},
   "outputs": [],
   "source": [
    "dsshdr, dssname = af.read_from_excel(DssList, DssTab, DssMin, DssMax, hdr=True)\n",
    "dss_names = []\n",
    "for i in range(len(dssname)):\n",
    "    dss_names.append(dssname[i][0] + DssExt)\n",
    "dss_names"
   ]
  },
  {
   "cell_type": "markdown",
   "id": "a29e2bcf-61a4-43ac-9592-265c4697b238",
   "metadata": {},
   "source": [
    "## Write dss names to file"
   ]
  },
  {
   "cell_type": "code",
   "execution_count": null,
   "id": "9c833f80b59df8b2",
   "metadata": {},
   "outputs": [],
   "source": [
    "dss_df = (pd.DataFrame(dss_names))\n",
    "dss_df.to_csv(os.path.join(DataDir, DssOut))"
   ]
  },
  {
   "cell_type": "markdown",
   "id": "19277cc0585f1d94",
   "metadata": {},
   "source": [
    "## Read variables"
   ]
  },
  {
   "cell_type": "code",
   "execution_count": null,
   "id": "3fb3f15cd87dd616",
   "metadata": {},
   "outputs": [],
   "source": [
    "hdr, vars = af.read_from_excel(VarList, VarTab,VarMin,VarMax,hdr=True)\n",
    "var_df = pd.DataFrame(data=vars, columns=hdr)\n",
    "var_df"
   ]
  },
  {
   "cell_type": "code",
   "execution_count": null,
   "id": "46bf197511748b99",
   "metadata": {},
   "outputs": [],
   "source": [
    "var_df.to_csv(os.path.join(DataDir,VarOut))"
   ]
  },
  {
   "cell_type": "markdown",
   "id": "cbc8e233cec7fc17",
   "metadata": {},
   "source": [
    "## Create datasets across studies\n"
   ]
  },
  {
   "cell_type": "code",
   "execution_count": null,
   "id": "c5709778e1970d93",
   "metadata": {},
   "outputs": [],
   "source": [
    "def preprocess_data_dss(df, begYear, begMonth, begDay, endYear, endMonth, endDay, addsl=False, addres = True, addpump = True, adddelcvp = True, adddelcvpag = True, addcvpscex = True, addcvpprf = True):\n",
    "    dvar_list = []\n",
    "    combined_df = pd.DataFrame()\n",
    "    TAF_MO_PER_CFS = 60.3707 / 1000\n",
    "    \n",
    "    for i, r in df.iterrows():\n",
    "        dvar_list.append(f'/{r[\"DSS Part B\"]}/{r[\"DSS Part C\"]}/')\n",
    "\n",
    "    for dss_name in dss_names:\n",
    "\n",
    "        print(dss_name)\n",
    "\n",
    "        # Create a blank python \"calsim\" object\n",
    "        thiscs3 = cs3.calsim()\n",
    "\n",
    "        # add start and end dates\n",
    "        thiscs3.StartDate = dt.datetime(begYear,begMonth,begDay)\n",
    "        thiscs3.EndDate = dt.datetime(endYear,endMonth,endDay)\n",
    "\n",
    "        # add path to DSS (CURRENTLY EXPECTING DSS IN THE BASE DIRECTORY, BUT WE SHOULD MAKE IT A PARAMETER)\n",
    "        DSS_FP = os.path.join(StudyDir, dss_name)\n",
    "        thiscs3.DV_FP = DSS_FP\n",
    "\n",
    "        # Retrieve the DSS data variables from the DSS file\n",
    "        thiscs3.DVdata = cs3.csDVdata(thiscs3)\n",
    "        thiscs3.DVdata.getDVts(filter=dvar_list)\n",
    "\n",
    "        df = thiscs3.DVdata.DVtsDF.copy(deep=True)\n",
    "\n",
    "        # if storage add the 2 variables to create a new one\n",
    "        # Add S_SLSCVP and S_SLSWP into S_SLTOT\n",
    "\n",
    "        if addsl:\n",
    "            df[('CALLITE', 'S_SLTOT', 'STORAGE', '1MON', '2020D09E', 'PER-AVER', 'TAF')] = df.loc[:,[('CALLITE', 'S_SLCVP', 'STORAGE', '1MON', '2020D09E', 'PER-AVER', 'TAF'),('CALLITE', 'S_SLSWP', 'STORAGE', '1MON', '2020D09E', 'PER-AVER', 'TAF')]].sum(axis=1)\n",
    "\n",
    "        if addpump:\n",
    "            #df[('CALLITE', 'D_JONES_TAF', 'FLOW-DELIVERY', '1MON', '2020D09E', 'PER-AVER', 'TAF')] = df.loc[:,('CALLITE', 'D_JONES', 'FLOW-DELIVERY', '1MON', '2020D09E', 'PER-AVER', 'CFS')] * TAF_MO_PER_CFS\n",
    "            #df[('CALLITE', 'D_BANKS_TAF', 'FLOW-DELIVERY', '1MON', '2020D09E', 'PER-AVER', 'TAF')] = df.loc[:,('CALLITE', 'D_BANKS', 'FLOW-DELIVERY', '1MON', '2020D09E', 'PER-AVER', 'CFS')] * TAF_MO_PER_CFS\n",
    "            #df[('CALLITE', 'D_TOTAL_TAF', 'FLOW-DELIVERY', '1MON', '2020D09E', 'PER-AVER', 'TAF')] = df.loc[:,[('CALLITE', 'D_JONES_TAF', 'FLOW-DELIVERY', '1MON', '2020D09E', 'PER-AVER', 'TAF'),('CALLITE', 'D_BANKS_TAF', 'FLOW-DELIVERY', '1MON', '2020D09E', 'PER-AVER', 'TAF')]].sum(axis=1)\n",
    "            df[('CALLITE', 'D_TOTAL', 'FLOW-DELIVERY', '1MON', '2020D09E', 'PER-AVER', 'CFS')] = df.loc[:,[('CALLITE', 'D_JONES', 'FLOW-DELIVERY', '1MON', '2020D09E', 'PER-AVER', 'CFS'),('CALLITE', 'D_BANKS', 'FLOW-DELIVERY', '1MON', '2020D09E', 'PER-AVER', 'CFS')]].sum(axis=1)\n",
    "\n",
    "        if addres:\n",
    "            df[('CALLITE', 'S_RESTOT', 'STORAGE', '1MON', '2020D09E', 'PER-AVER', 'TAF')] = df.loc[:,[('CALLITE', 'S_OROVL', 'STORAGE', '1MON', '2020D09E', 'PER-AVER', 'TAF'),('CALLITE', 'S_MELON', 'STORAGE', '1MON', '2020D09E', 'PER-AVER', 'TAF'), ('CALLITE', 'S_SHSTA', 'STORAGE', '1MON', '2020D09E', 'PER-AVER', 'TAF'), ('CALLITE', 'S_MLRTN', 'STORAGE', '1MON', '2020D09E', 'PER-AVER', 'TAF'), ('CALLITE', 'S_FOLSM', 'STORAGE', '1MON', '2020D09E', 'PER-AVER', 'TAF'), ('CALLITE', 'S_TRNTY', 'STORAGE', '1MON', '2020D09E', 'PER-AVER', 'TAF')]].sum(axis=1)\n",
    "            df[('CALLITE', 'S_RESTOT_NOD', 'STORAGE', '1MON', '2020D09E', 'PER-AVER', 'TAF')] = df.loc[:,[('CALLITE', 'S_OROVL', 'STORAGE', '1MON', '2020D09E', 'PER-AVER', 'TAF'),('CALLITE', 'S_SHSTA', 'STORAGE', '1MON', '2020D09E', 'PER-AVER', 'TAF'), ('CALLITE', 'S_TRNTY', 'STORAGE', '1MON', '2020D09E', 'PER-AVER', 'TAF'), ('CALLITE', 'S_FOLSM', 'STORAGE', '1MON', '2020D09E', 'PER-AVER', 'TAF') ]].sum(axis=1)\n",
    "\n",
    "        if adddelcvp:\n",
    "            #df[('CALLITE', 'DEL_CVP_TOTAL_N_TAF', 'DELIVERY-CVP', '1MON', '2020D09E', 'PER-AVER', 'TAF')] = df.loc[:,('CALLITE', 'DEL_CVP_TOTAL_N', 'DELIVERY-CVP', '1MON', '2020D09E', 'PER-AVER', 'CFS')] * TAF_MO_PER_CFS\n",
    "            #df[('CALLITE', 'DEL_CVP_TOTAL_S_TAF', 'DELIVERY-CVP', '1MON', '2020D09E', 'PER-AVER', 'TAF')] = df.loc[:,('CALLITE', 'DEL_CVP_TOTAL_S', 'DELIVERY-CVP', '1MON', '2020D09E', 'PER-AVER', 'CFS')] * TAF_MO_PER_CFS\n",
    "            #df[('CALLITE', 'DEL_CVP_TOTAL_TAF', 'DELIVERY-CVP', '1MON', '2020D09E', 'PER-AVER', 'TAF')] = df.loc[:,[('CALLITE', 'DEL_CVP_TOTAL_N_TAF', 'DELIVERY-CVP', '1MON', '2020D09E', 'PER-AVER', 'TAF'),('CALLITE', 'DEL_CVP_TOTAL_S_TAF', 'DELIVERY-CVP', '1MON', '2020D09E', 'PER-AVER', 'TAF')]].sum(axis=1)\n",
    "            df[('CALLITE', 'DEL_CVP_TOTAL', 'DELIVERY-CVP', '1MON', '2020D09E', 'PER-AVER', 'TAF')] = df.loc[:,[('CALLITE', 'DEL_CVP_TOTAL_N', 'DELIVERY-CVP', '1MON', '2020D09E', 'PER-AVER', 'CFS'),('CALLITE', 'DEL_CVP_TOTAL_S', 'DELIVERY-CVP', '1MON', '2020D09E', 'PER-AVER', 'CFS')]].sum(axis=1)\n",
    "\n",
    "        if adddelcvpag:\n",
    "            #df[('CALLITE', 'DEL_CVP_PAG_N_TAF', 'DELIVERY-CVP', '1MON', '2020D09E', 'PER-AVER', 'TAF')] = df.loc[:,('CALLITE', 'DEL_CVP_PAG_N', 'DELIVERY-CVP', '1MON', '2020D09E', 'PER-AVER', 'CFS')] * TAF_MO_PER_CFS\n",
    "            #df[('CALLITE', 'DEL_CVP_PAG_S_TAF', 'DELIVERY-CVP', '1MON', '2020D09E', 'PER-AVER', 'TAF')] = df.loc[:,('CALLITE', 'DEL_CVP_PAG_S', 'DELIVERY-CVP', '1MON', '2020D09E', 'PER-AVER', 'CFS')] * TAF_MO_PER_CFS\n",
    "            #df[('CALLITE', 'DEL_CVP_PAG_TOTAL_TAF', 'DELIVERY-CVP', '1MON', '2020D09E', 'PER-AVER', 'TAF')] = df.loc[:,[('CALLITE', 'DEL_CVP_PAG_N_TAF', 'DELIVERY-CVP', '1MON', '2020D09E', 'PER-AVER', 'TAF'),('CALLITE', 'DEL_CVP_PAG_S_TAF', 'DELIVERY-CVP', '1MON', '2020D09E', 'PER-AVER', 'TAF')]].sum(axis=1)\n",
    "            df[('CALLITE', 'DEL_CVP_PAG_TOTAL', 'DELIVERY-CVP', '1MON', '2020D09E', 'PER-AVER', 'CFS')] = df.loc[:,[('CALLITE', 'DEL_CVP_PAG_N', 'DELIVERY-CVP', '1MON', '2020D09E', 'PER-AVER', 'CFS'),('CALLITE', 'DEL_CVP_PAG_S', 'DELIVERY-CVP', '1MON', '2020D09E', 'PER-AVER', 'CFS')]].sum(axis=1)\n",
    "\n",
    "        if addcvpscex:\n",
    "            #df[('CALLITE', 'DEL_CVP_PSC_N_TAF', 'DELIVERY-CVP', '1MON', '2020D09E', 'PER-AVER', 'TAF')] = df.loc[:,('CALLITE', 'DEL_CVP_PSC_N', 'DELIVERY-CVP', '1MON', '2020D09E', 'PER-AVER', 'CFS')] * TAF_MO_PER_CFS\n",
    "            #df[('CALLITE', 'DEL_CVP_PEX_S_TAF', 'DELIVERY-CVP', '1MON', '2020D09E', 'PER-AVER', 'TAF')] = df.loc[:,('CALLITE', 'DEL_CVP_PEX_S', 'DELIVERY-CVP', '1MON', '2020D09E', 'PER-AVER', 'CFS')] * TAF_MO_PER_CFS\n",
    "            #df[('CALLITE', 'DEL_CVP_PSCEX_TOTAL_TAF', 'DELIVERY-CVP', '1MON', '2020D09E', 'PER-AVER', 'TAF')] = df.loc[:,[('CALLITE', 'DEL_CVP_PSC_N_TAF', 'DELIVERY-CVP', '1MON', '2020D09E', 'PER-AVER', 'TAF'),('CALLITE', 'DEL_CVP_PEX_S_TAF', 'DELIVERY-CVP', '1MON', '2020D09E', 'PER-AVER', 'TAF')]].sum(axis=1)\n",
    "            df[('CALLITE', 'DEL_CVP_PSCEX_TOTAL', 'DELIVERY-CVP', '1MON', '2020D09E', 'PER-AVER', 'CFS')] = df.loc[:,[('CALLITE', 'DEL_CVP_PSC_N', 'DELIVERY-CVP', '1MON', '2020D09E', 'PER-AVER', 'CFS'),('CALLITE', 'DEL_CVP_PEX_S', 'DELIVERY-CVP', '1MON', '2020D09E', 'PER-AVER', 'CFS')]].sum(axis=1)\n",
    "\n",
    "        if addcvpprf:\n",
    "            #df[('CALLITE', 'DEL_CVP_PRF_N_TAF', 'DELIVERY-CVP', '1MON', '2020D09E', 'PER-AVER', 'TAF')] = df.loc[:,('CALLITE', 'DEL_CVP_PRF_N', 'DELIVERY-CVP', '1MON', '2020D09E', 'PER-AVER', 'CFS')] * TAF_MO_PER_CFS\n",
    "            #df[('CALLITE', 'DEL_CVP_PRF_S_TAF', 'DELIVERY-CVP', '1MON', '2020D09E', 'PER-AVER', 'TAF')] = df.loc[:,('CALLITE', 'DEL_CVP_PRF_S', 'DELIVERY-CVP', '1MON', '2020D09E', 'PER-AVER', 'CFS')] * TAF_MO_PER_CFS\n",
    "            #df[('CALLITE', 'DEL_CVP_PRF_TOTAL_TAF', 'DELIVERY-CVP', '1MON', '2020D09E', 'PER-AVER', 'TAF')] = df.loc[:,[('CALLITE', 'DEL_CVP_PRF_N_TAF', 'DELIVERY-CVP', '1MON', '2020D09E', 'PER-AVER', 'TAF'),('CALLITE', 'DEL_CVP_PRF_S_TAF', 'DELIVERY-CVP', '1MON', '2020D09E', 'PER-AVER', 'TAF')]].sum(axis=1)\n",
    "            df[('CALLITE', 'DEL_CVP_PRF_TOTAL', 'DELIVERY-CVP', '1MON', '2020D09E', 'PER-AVER', 'CFS')] = df.loc[:,[('CALLITE', 'DEL_CVP_PRF_N', 'DELIVERY-CVP', '1MON', '2020D09E', 'PER-AVER', 'CFS'),('CALLITE', 'DEL_CVP_PRF_S', 'DELIVERY-CVP', '1MON', '2020D09E', 'PER-AVER', 'CFS')]].sum(axis=1)\n",
    "\n",
    "        new_columns = [(col[0], f'{col[1]}_{dss_name[:-7]}', *col[2:]) if len(col) > 1 else (col[0], '') for col in df.columns]\n",
    "        df.columns = pd.MultiIndex.from_tuples(new_columns)\n",
    "        df.columns.names = ['A', 'B', 'C', 'D', 'E', 'F', 'Units']\n",
    "        combined_df = pd.concat([combined_df, df], axis=1)\n",
    "\n",
    "    return combined_df"
   ]
  },
  {
   "cell_type": "code",
   "execution_count": null,
   "id": "7302a6de1b9a8a6",
   "metadata": {},
   "outputs": [],
   "source": [
    "df = preprocess_data_dss(var_df, begYear, begMonth, begDay, endYear, endMonth, endDay)\n",
    "df.head(5)"
   ]
  },
  {
   "cell_type": "markdown",
   "id": "84eddf7e-1f02-4754-b238-6879ea627f63",
   "metadata": {
    "ExecuteTime": {
     "end_time": "2024-03-01T20:35:53.135900100Z",
     "start_time": "2024-03-01T20:35:52.981660500Z"
    }
   },
   "source": [
    "## Write dataframes to file"
   ]
  },
  {
   "cell_type": "code",
   "execution_count": null,
   "id": "75d4d440f12a9d4",
   "metadata": {},
   "outputs": [],
   "source": [
    "df.to_csv(os.path.join(DataDir, DataOut), header=True, index=True)"
   ]
  },
  {
   "cell_type": "markdown",
   "id": "d0eecd3262964c2b",
   "metadata": {},
   "source": [
    "### Separate Into Dry & Wet Years"
   ]
  },
  {
   "cell_type": "code",
   "execution_count": 7,
   "id": "9915e92831396606",
   "metadata": {
    "ExecuteTime": {
     "end_time": "2024-06-05T17:57:30.093162Z",
     "start_time": "2024-06-05T17:57:09.532852Z"
    }
   },
   "outputs": [
    {
     "data": {
      "text/plain": "A                    CALLITE                                           \\\nB          C_SJRVER_expl0000 C_WILKNS_expl0000 DEL_CVP_PAG_N_expl0000   \nC               FLOW-CHANNEL      FLOW-CHANNEL           DELIVERY-CVP   \nD                       1MON              1MON                   1MON   \nE                   2020D09E          2020D09E               2020D09E   \nF                   PER-AVER          PER-AVER               PER-AVER   \nUnits                    CFS               CFS                    CFS   \n1921-10-31         2505.2790         5427.5645               79.62269   \n1921-11-30         1977.8469         4904.4517                0.00000   \n\nA                                                         \\\nB          DEL_CVP_PAG_S_expl0000 DEL_CVP_PEX_S_expl0000   \nC                    DELIVERY-CVP           DELIVERY-CVP   \nD                            1MON                   1MON   \nE                        2020D09E               2020D09E   \nF                        PER-AVER               PER-AVER   \nUnits                         CFS                    CFS   \n1921-10-31              922.12427              978.93085   \n1921-11-30              703.33960              336.38205   \n\nA                                                         \\\nB          DEL_CVP_PMI_N_expl0000 DEL_CVP_PMI_S_expl0000   \nC                    DELIVERY-CVP           DELIVERY-CVP   \nD                            1MON                   1MON   \nE                        2020D09E               2020D09E   \nF                        PER-AVER               PER-AVER   \nUnits                         CFS                    CFS   \n1921-10-31              175.15205               177.9746   \n1921-11-30              137.90486               239.3647   \n\nA                                                         \\\nB          DEL_CVP_PRF_N_expl0000 DEL_CVP_PRF_S_expl0000   \nC                    DELIVERY-CVP           DELIVERY-CVP   \nD                            1MON                   1MON   \nE                        2020D09E               2020D09E   \nF                        PER-AVER               PER-AVER   \nUnits                         CFS                    CFS   \n1921-10-31              330.14786             1070.54060   \n1921-11-30              268.88890              689.73926   \n\nA                                  ...                                       \\\nB          DEL_CVP_PSC_N_expl0000  ... WYT_SJR__expl0599 WYT_TRIN__expl0599   \nC                    DELIVERY-CVP  ...   WATER-YEAR-TYPE    WATER-YEAR-TYPE   \nD                            1MON  ...              1MON               1MON   \nE                        2020D09E  ...          2020D09E           2020D09E   \nF                        PER-AVER  ...          PER-AVER           PER-AVER   \nUnits                         CFS  ...            NONE.1               NONE   \n1921-10-31               776.8217  ...               2.0                3.0   \n1921-11-30               990.7904  ...               2.0                3.0   \n\nA                                                               \\\nB           X2_PRV_expl0599 D_TOTAL_expl0599 S_RESTOT_expl0599   \nC          X2-POSITION-PREV    FLOW-DELIVERY           STORAGE   \nD                      1MON             1MON              1MON   \nE                  2020D09E         2020D09E          2020D09E   \nF                  PER-AVER         PER-AVER          PER-AVER   \nUnits                    KM              CFS               TAF   \n1921-10-31         68.20287        9404.3550          9270.104   \n1921-11-30         67.41410        7729.3105          9145.287   \n\nA                                                        \\\nB          S_RESTOT_NOD_expl0599 DEL_CVP_TOTAL_expl0599   \nC                        STORAGE           DELIVERY-CVP   \nD                           1MON                   1MON   \nE                       2020D09E               2020D09E   \nF                       PER-AVER               PER-AVER   \nUnits                        CFS                    TAF   \n1921-10-31              7347.322              3488.7666   \n1921-11-30              7191.747              2524.2285   \n\nA                                                                   \\\nB          DEL_CVP_PAG_TOTAL_expl0599 DEL_CVP_PSCEX_TOTAL_expl0599   \nC                        DELIVERY-CVP                 DELIVERY-CVP   \nD                                1MON                         1MON   \nE                            2020D09E                     2020D09E   \nF                            PER-AVER                     PER-AVER   \nUnits                             CFS                          CFS   \n1921-10-31                  602.30680                   1006.93964   \n1921-11-30                  421.99603                    728.17200   \n\nA                                      \nB          DEL_CVP_PRF_TOTAL_expl0599  \nC                        DELIVERY-CVP  \nD                                1MON  \nE                            2020D09E  \nF                            PER-AVER  \nUnits                             CFS  \n1921-10-31                  1387.5029  \n1921-11-30                   948.3119  \n\n[2 rows x 32400 columns]",
      "text/html": "<div>\n<style scoped>\n    .dataframe tbody tr th:only-of-type {\n        vertical-align: middle;\n    }\n\n    .dataframe tbody tr th {\n        vertical-align: top;\n    }\n\n    .dataframe thead tr th {\n        text-align: left;\n    }\n</style>\n<table border=\"1\" class=\"dataframe\">\n  <thead>\n    <tr>\n      <th>A</th>\n      <th colspan=\"21\" halign=\"left\">CALLITE</th>\n    </tr>\n    <tr>\n      <th>B</th>\n      <th>C_SJRVER_expl0000</th>\n      <th>C_WILKNS_expl0000</th>\n      <th>DEL_CVP_PAG_N_expl0000</th>\n      <th>DEL_CVP_PAG_S_expl0000</th>\n      <th>DEL_CVP_PEX_S_expl0000</th>\n      <th>DEL_CVP_PMI_N_expl0000</th>\n      <th>DEL_CVP_PMI_S_expl0000</th>\n      <th>DEL_CVP_PRF_N_expl0000</th>\n      <th>DEL_CVP_PRF_S_expl0000</th>\n      <th>DEL_CVP_PSC_N_expl0000</th>\n      <th>...</th>\n      <th>WYT_SJR__expl0599</th>\n      <th>WYT_TRIN__expl0599</th>\n      <th>X2_PRV_expl0599</th>\n      <th>D_TOTAL_expl0599</th>\n      <th>S_RESTOT_expl0599</th>\n      <th>S_RESTOT_NOD_expl0599</th>\n      <th>DEL_CVP_TOTAL_expl0599</th>\n      <th>DEL_CVP_PAG_TOTAL_expl0599</th>\n      <th>DEL_CVP_PSCEX_TOTAL_expl0599</th>\n      <th>DEL_CVP_PRF_TOTAL_expl0599</th>\n    </tr>\n    <tr>\n      <th>C</th>\n      <th>FLOW-CHANNEL</th>\n      <th>FLOW-CHANNEL</th>\n      <th>DELIVERY-CVP</th>\n      <th>DELIVERY-CVP</th>\n      <th>DELIVERY-CVP</th>\n      <th>DELIVERY-CVP</th>\n      <th>DELIVERY-CVP</th>\n      <th>DELIVERY-CVP</th>\n      <th>DELIVERY-CVP</th>\n      <th>DELIVERY-CVP</th>\n      <th>...</th>\n      <th>WATER-YEAR-TYPE</th>\n      <th>WATER-YEAR-TYPE</th>\n      <th>X2-POSITION-PREV</th>\n      <th>FLOW-DELIVERY</th>\n      <th>STORAGE</th>\n      <th>STORAGE</th>\n      <th>DELIVERY-CVP</th>\n      <th>DELIVERY-CVP</th>\n      <th>DELIVERY-CVP</th>\n      <th>DELIVERY-CVP</th>\n    </tr>\n    <tr>\n      <th>D</th>\n      <th>1MON</th>\n      <th>1MON</th>\n      <th>1MON</th>\n      <th>1MON</th>\n      <th>1MON</th>\n      <th>1MON</th>\n      <th>1MON</th>\n      <th>1MON</th>\n      <th>1MON</th>\n      <th>1MON</th>\n      <th>...</th>\n      <th>1MON</th>\n      <th>1MON</th>\n      <th>1MON</th>\n      <th>1MON</th>\n      <th>1MON</th>\n      <th>1MON</th>\n      <th>1MON</th>\n      <th>1MON</th>\n      <th>1MON</th>\n      <th>1MON</th>\n    </tr>\n    <tr>\n      <th>E</th>\n      <th>2020D09E</th>\n      <th>2020D09E</th>\n      <th>2020D09E</th>\n      <th>2020D09E</th>\n      <th>2020D09E</th>\n      <th>2020D09E</th>\n      <th>2020D09E</th>\n      <th>2020D09E</th>\n      <th>2020D09E</th>\n      <th>2020D09E</th>\n      <th>...</th>\n      <th>2020D09E</th>\n      <th>2020D09E</th>\n      <th>2020D09E</th>\n      <th>2020D09E</th>\n      <th>2020D09E</th>\n      <th>2020D09E</th>\n      <th>2020D09E</th>\n      <th>2020D09E</th>\n      <th>2020D09E</th>\n      <th>2020D09E</th>\n    </tr>\n    <tr>\n      <th>F</th>\n      <th>PER-AVER</th>\n      <th>PER-AVER</th>\n      <th>PER-AVER</th>\n      <th>PER-AVER</th>\n      <th>PER-AVER</th>\n      <th>PER-AVER</th>\n      <th>PER-AVER</th>\n      <th>PER-AVER</th>\n      <th>PER-AVER</th>\n      <th>PER-AVER</th>\n      <th>...</th>\n      <th>PER-AVER</th>\n      <th>PER-AVER</th>\n      <th>PER-AVER</th>\n      <th>PER-AVER</th>\n      <th>PER-AVER</th>\n      <th>PER-AVER</th>\n      <th>PER-AVER</th>\n      <th>PER-AVER</th>\n      <th>PER-AVER</th>\n      <th>PER-AVER</th>\n    </tr>\n    <tr>\n      <th>Units</th>\n      <th>CFS</th>\n      <th>CFS</th>\n      <th>CFS</th>\n      <th>CFS</th>\n      <th>CFS</th>\n      <th>CFS</th>\n      <th>CFS</th>\n      <th>CFS</th>\n      <th>CFS</th>\n      <th>CFS</th>\n      <th>...</th>\n      <th>NONE.1</th>\n      <th>NONE</th>\n      <th>KM</th>\n      <th>CFS</th>\n      <th>TAF</th>\n      <th>CFS</th>\n      <th>TAF</th>\n      <th>CFS</th>\n      <th>CFS</th>\n      <th>CFS</th>\n    </tr>\n  </thead>\n  <tbody>\n    <tr>\n      <th>1921-10-31</th>\n      <td>2505.2790</td>\n      <td>5427.5645</td>\n      <td>79.62269</td>\n      <td>922.12427</td>\n      <td>978.93085</td>\n      <td>175.15205</td>\n      <td>177.9746</td>\n      <td>330.14786</td>\n      <td>1070.54060</td>\n      <td>776.8217</td>\n      <td>...</td>\n      <td>2.0</td>\n      <td>3.0</td>\n      <td>68.20287</td>\n      <td>9404.3550</td>\n      <td>9270.104</td>\n      <td>7347.322</td>\n      <td>3488.7666</td>\n      <td>602.30680</td>\n      <td>1006.93964</td>\n      <td>1387.5029</td>\n    </tr>\n    <tr>\n      <th>1921-11-30</th>\n      <td>1977.8469</td>\n      <td>4904.4517</td>\n      <td>0.00000</td>\n      <td>703.33960</td>\n      <td>336.38205</td>\n      <td>137.90486</td>\n      <td>239.3647</td>\n      <td>268.88890</td>\n      <td>689.73926</td>\n      <td>990.7904</td>\n      <td>...</td>\n      <td>2.0</td>\n      <td>3.0</td>\n      <td>67.41410</td>\n      <td>7729.3105</td>\n      <td>9145.287</td>\n      <td>7191.747</td>\n      <td>2524.2285</td>\n      <td>421.99603</td>\n      <td>728.17200</td>\n      <td>948.3119</td>\n    </tr>\n  </tbody>\n</table>\n<p>2 rows × 32400 columns</p>\n</div>"
     },
     "execution_count": 7,
     "metadata": {},
     "output_type": "execute_result"
    }
   ],
   "source": [
    "df = pd.read_csv(os.path.join(DataDir, DataOut), header=[0, 1, 2, 3, 4, 5, 6], index_col=0, parse_dates=True)\n",
    "df = df.loc[:, ~df.columns.get_level_values(6).str.contains('CFS.1')]\n",
    "df.head(2)"
   ]
  },
  {
   "cell_type": "code",
   "execution_count": 4,
   "id": "2ba4837fb3ecad8a",
   "metadata": {
    "ExecuteTime": {
     "end_time": "2024-06-05T17:54:36.866813Z",
     "start_time": "2024-06-05T17:54:36.839489Z"
    }
   },
   "outputs": [
    {
     "data": {
      "text/plain": "    SACindex_0  WATERYEAR\n0            2       1920\n1            2       1921\n2            2       1922\n3            3       1923\n4            5       1924\n..         ...        ...\n79           1       1999\n80           2       2000\n81           4       2001\n82           2       2003\n83           4       2002\n\n[84 rows x 2 columns]",
      "text/html": "<div>\n<style scoped>\n    .dataframe tbody tr th:only-of-type {\n        vertical-align: middle;\n    }\n\n    .dataframe tbody tr th {\n        vertical-align: top;\n    }\n\n    .dataframe thead th {\n        text-align: right;\n    }\n</style>\n<table border=\"1\" class=\"dataframe\">\n  <thead>\n    <tr style=\"text-align: right;\">\n      <th></th>\n      <th>SACindex_0</th>\n      <th>WATERYEAR</th>\n    </tr>\n  </thead>\n  <tbody>\n    <tr>\n      <th>0</th>\n      <td>2</td>\n      <td>1920</td>\n    </tr>\n    <tr>\n      <th>1</th>\n      <td>2</td>\n      <td>1921</td>\n    </tr>\n    <tr>\n      <th>2</th>\n      <td>2</td>\n      <td>1922</td>\n    </tr>\n    <tr>\n      <th>3</th>\n      <td>3</td>\n      <td>1923</td>\n    </tr>\n    <tr>\n      <th>4</th>\n      <td>5</td>\n      <td>1924</td>\n    </tr>\n    <tr>\n      <th>...</th>\n      <td>...</td>\n      <td>...</td>\n    </tr>\n    <tr>\n      <th>79</th>\n      <td>1</td>\n      <td>1999</td>\n    </tr>\n    <tr>\n      <th>80</th>\n      <td>2</td>\n      <td>2000</td>\n    </tr>\n    <tr>\n      <th>81</th>\n      <td>4</td>\n      <td>2001</td>\n    </tr>\n    <tr>\n      <th>82</th>\n      <td>2</td>\n      <td>2003</td>\n    </tr>\n    <tr>\n      <th>83</th>\n      <td>4</td>\n      <td>2002</td>\n    </tr>\n  </tbody>\n</table>\n<p>84 rows × 2 columns</p>\n</div>"
     },
     "execution_count": 4,
     "metadata": {},
     "output_type": "execute_result"
    }
   ],
   "source": [
    "df_wy = pd.read_csv(os.path.join(DataDir, WYcsv))\n",
    "df_wy = df_wy[[\"SACindex_0\", \"WATERYEAR\"]]\n",
    "df_wy"
   ]
  },
  {
   "cell_type": "code",
   "execution_count": null,
   "outputs": [],
   "source": [
    "### CHECK MAPPING"
   ],
   "metadata": {
    "collapsed": false
   },
   "id": "4b0eaa473d085398"
  },
  {
   "cell_type": "code",
   "execution_count": 5,
   "id": "5643a2b8062d2064",
   "metadata": {
    "ExecuteTime": {
     "end_time": "2024-06-05T17:56:20.628017Z",
     "start_time": "2024-06-05T17:56:20.606689Z"
    }
   },
   "outputs": [],
   "source": [
    "wy_value_map = {\n",
    "    1: \"Wet\",\n",
    "    2: \"Wet\",\n",
    "    3: \"Wet\",\n",
    "    4: \"Dry\",\n",
    "    5: \"Dry\",\n",
    "}"
   ]
  },
  {
   "cell_type": "code",
   "execution_count": null,
   "outputs": [],
   "source": [
    "def add_water_year_column(df):\n",
    "    df['Date'] = pd.to_datetime(df.index)\n",
    "    df['Year'] = df['Date'].dt.year\n",
    "    df['Month'] = df['Date'].dt.month\n",
    "    df['WaterYear'] = np.where(df['Month'] >= 10, df['Year'] + 1, df['Year'])\n",
    "    return df"
   ],
   "metadata": {
    "collapsed": false
   },
   "id": "a3e3f6e5660d54cb"
  },
  {
   "cell_type": "code",
   "execution_count": 8,
   "id": "6f1f834970f6f7ef",
   "metadata": {
    "ExecuteTime": {
     "end_time": "2024-06-05T17:58:07.593668Z",
     "start_time": "2024-06-05T17:58:07.132305Z"
    }
   },
   "outputs": [],
   "source": [
    "year_to_category = df_wy.set_index('WATERYEAR')['SACindex_0'].map(wy_value_map).to_dict()\n",
    "df['Year'] = df.index.year\n",
    "df['Category'] = df['Year'].map(year_to_category)\n",
    "df_wet = df[df['Category'] == \"Wet\"]\n",
    "df_dry = df[df['Category'] == \"Dry\"]\n",
    "df.drop(columns=['Year', 'Category'], inplace=True)"
   ]
  },
  {
   "cell_type": "code",
   "execution_count": 12,
   "id": "b8d7f5bdbc690eca",
   "metadata": {
    "ExecuteTime": {
     "end_time": "2024-06-05T17:58:41.681749Z",
     "start_time": "2024-06-05T17:58:41.659103Z"
    }
   },
   "outputs": [
    {
     "data": {
      "text/plain": "30.0"
     },
     "execution_count": 12,
     "metadata": {},
     "output_type": "execute_result"
    }
   ],
   "source": [
    "len(df_dry) / 12"
   ]
  },
  {
   "cell_type": "code",
   "execution_count": 13,
   "id": "21c36d872c030c8a",
   "metadata": {
    "ExecuteTime": {
     "end_time": "2024-06-05T17:58:47.508980Z",
     "start_time": "2024-06-05T17:58:47.469668Z"
    }
   },
   "outputs": [
    {
     "data": {
      "text/plain": "52.0"
     },
     "execution_count": 13,
     "metadata": {},
     "output_type": "execute_result"
    }
   ],
   "source": [
    "len(df_wet) / 12"
   ]
  },
  {
   "cell_type": "code",
   "execution_count": null,
   "id": "cd31ba71068b8cfb",
   "metadata": {},
   "outputs": [],
   "source": [
    "df_wet.to_csv(os.path.join(DataDir, \"wet_\" + DataOut), header=True, index=True)"
   ]
  },
  {
   "cell_type": "code",
   "execution_count": null,
   "id": "8c5ccff53d0b33ed",
   "metadata": {},
   "outputs": [],
   "source": [
    "df_dry.to_csv(os.path.join(DataDir, \"dry_\" + DataOut), header=True, index=True)"
   ]
  },
  {
   "cell_type": "markdown",
   "id": "da772ba0-d65e-476e-8ad8-68f6816e8156",
   "metadata": {},
   "source": [
    "## End of data extaction"
   ]
  },
  {
   "cell_type": "code",
   "execution_count": null,
   "id": "f64fd146128b2674",
   "metadata": {},
   "outputs": [],
   "source": []
  }
 ],
 "metadata": {
  "kernelspec": {
   "display_name": "Python 3 (ipykernel)",
   "language": "python",
   "name": "python3"
  },
  "language_info": {
   "codemirror_mode": {
    "name": "ipython",
    "version": 3
   },
   "file_extension": ".py",
   "mimetype": "text/x-python",
   "name": "python",
   "nbconvert_exporter": "python",
   "pygments_lexer": "ipython3",
   "version": "3.11.7"
  }
 },
 "nbformat": 4,
 "nbformat_minor": 5
}
