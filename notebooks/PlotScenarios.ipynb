{
 "cells": [
  {
   "cell_type": "code",
   "id": "93c91bd1a1e8beca",
   "metadata": {
    "ExecuteTime": {
     "end_time": "2024-06-27T13:04:47.170444Z",
     "start_time": "2024-06-27T13:04:47.167492Z"
    }
   },
   "source": [
    "# Import standard libraries\n",
    "import os\n",
    "import sys\n",
    "import importlib\n",
    "import datetime as dt\n",
    "import time\n",
    "from pathlib import Path\n",
    "from contextlib import redirect_stdout\n",
    "\n",
    "# Import data manipulation libraries\n",
    "import numpy as np\n",
    "import pandas as pd\n",
    "\n",
    "# Import visualization libraries\n",
    "import matplotlib.pyplot as plt\n",
    "import seaborn as sns"
   ],
   "outputs": [],
   "execution_count": 2
  },
  {
   "cell_type": "code",
   "execution_count": 2,
   "id": "1f61561cb3284fbd",
   "metadata": {
    "ExecuteTime": {
     "end_time": "2024-03-07T20:35:57.550559300Z",
     "start_time": "2024-03-07T20:35:57.462942100Z"
    }
   },
   "outputs": [],
   "source": [
    "# Import custom modules - NEED WINDOWS OS\n",
    "from CoEQWAL.imports import AuxFunctions as af, cs3, csPlots, cs_util as util, dss3_functions_reference as dss"
   ]
  },
  {
   "cell_type": "markdown",
   "id": "74f7b0df81fe8aec",
   "metadata": {},
   "source": [
    "### Read Data"
   ]
  },
  {
   "cell_type": "code",
   "source": [
    "df = pd.read_csv(\"../data/EDA_data_04_09_24.csv\", header=[0, 1, 2, 3, 4, 5, 6], index_col=0, parse_dates=True)\n",
    "df = df.loc[:, ~df.columns.get_level_values(6).str.contains('CFS.1')]\n",
    "dss_names = pd.read_csv(\"../data/dss_names.csv\")[\"0\"].tolist()\n",
    "df.head(5)"
   ],
   "metadata": {
    "collapsed": false,
    "ExecuteTime": {
     "end_time": "2024-06-27T13:05:11.382708Z",
     "start_time": "2024-06-27T13:04:49.747120Z"
    }
   },
   "id": "d10872ed80acd9d6",
   "outputs": [
    {
     "data": {
      "text/plain": [
       "A                    CALLITE                                           \\\n",
       "B          C_SJRVER_expl0000 C_WILKNS_expl0000 DEL_CVP_PAG_N_expl0000   \n",
       "C               FLOW-CHANNEL      FLOW-CHANNEL           DELIVERY-CVP   \n",
       "D                       1MON              1MON                   1MON   \n",
       "E                   2020D09E          2020D09E               2020D09E   \n",
       "F                   PER-AVER          PER-AVER               PER-AVER   \n",
       "Units                    CFS               CFS                    CFS   \n",
       "1921-10-31         2505.2790         5427.5645               79.62269   \n",
       "1921-11-30         1977.8469         4904.4517                0.00000   \n",
       "1921-12-31         2740.8728         9056.1770                0.00000   \n",
       "1922-01-31         2577.6514         6841.2305                0.00000   \n",
       "1922-02-28         5592.3980        16573.0140                0.00000   \n",
       "\n",
       "A                                                         \\\n",
       "B          DEL_CVP_PAG_S_expl0000 DEL_CVP_PEX_S_expl0000   \n",
       "C                    DELIVERY-CVP           DELIVERY-CVP   \n",
       "D                            1MON                   1MON   \n",
       "E                        2020D09E               2020D09E   \n",
       "F                        PER-AVER               PER-AVER   \n",
       "Units                         CFS                    CFS   \n",
       "1921-10-31              922.12427              978.93085   \n",
       "1921-11-30              703.33960              336.38205   \n",
       "1921-12-31              973.17610              147.93547   \n",
       "1922-01-31             1708.29530              153.59721   \n",
       "1922-02-28             2154.23100              442.68655   \n",
       "\n",
       "A                                                         \\\n",
       "B          DEL_CVP_PMI_N_expl0000 DEL_CVP_PMI_S_expl0000   \n",
       "C                    DELIVERY-CVP           DELIVERY-CVP   \n",
       "D                            1MON                   1MON   \n",
       "E                        2020D09E               2020D09E   \n",
       "F                        PER-AVER               PER-AVER   \n",
       "Units                         CFS                    CFS   \n",
       "1921-10-31             175.152050              177.97460   \n",
       "1921-11-30             137.904860              239.36470   \n",
       "1921-12-31             122.706566              237.11830   \n",
       "1922-01-31             119.161470              156.20477   \n",
       "1922-02-28             131.604660               80.27110   \n",
       "\n",
       "A                                                         \\\n",
       "B          DEL_CVP_PRF_N_expl0000 DEL_CVP_PRF_S_expl0000   \n",
       "C                    DELIVERY-CVP           DELIVERY-CVP   \n",
       "D                            1MON                   1MON   \n",
       "E                        2020D09E               2020D09E   \n",
       "F                        PER-AVER               PER-AVER   \n",
       "Units                         CFS                    CFS   \n",
       "1921-10-31             330.147860            1070.540600   \n",
       "1921-11-30             268.888900             689.739260   \n",
       "1921-12-31             157.755370             314.705470   \n",
       "1922-01-31              74.811830             141.364430   \n",
       "1922-02-28              68.422615             106.018906   \n",
       "\n",
       "A                                  ...                                       \\\n",
       "B          DEL_CVP_PSC_N_expl0000  ... WYT_SJR__expl0599 WYT_TRIN__expl0599   \n",
       "C                    DELIVERY-CVP  ...   WATER-YEAR-TYPE    WATER-YEAR-TYPE   \n",
       "D                            1MON  ...              1MON               1MON   \n",
       "E                        2020D09E  ...          2020D09E           2020D09E   \n",
       "F                        PER-AVER  ...          PER-AVER           PER-AVER   \n",
       "Units                         CFS  ...            NONE.1               NONE   \n",
       "1921-10-31             776.821700  ...               2.0                3.0   \n",
       "1921-11-30             990.790400  ...               2.0                3.0   \n",
       "1921-12-31               0.000000  ...               2.0                3.0   \n",
       "1922-01-31              24.395163  ...               2.0                3.0   \n",
       "1922-02-28               0.000000  ...               1.0                3.0   \n",
       "\n",
       "A                                                               \\\n",
       "B           X2_PRV_expl0599 D_TOTAL_expl0599 S_RESTOT_expl0599   \n",
       "C          X2-POSITION-PREV    FLOW-DELIVERY           STORAGE   \n",
       "D                      1MON             1MON              1MON   \n",
       "E                  2020D09E         2020D09E          2020D09E   \n",
       "F                  PER-AVER         PER-AVER          PER-AVER   \n",
       "Units                    KM              CFS               TAF   \n",
       "1921-10-31         68.20287        9404.3550          9270.104   \n",
       "1921-11-30         67.41410        7729.3105          9145.287   \n",
       "1921-12-31         73.77786       11280.0000          9187.259   \n",
       "1922-01-31         73.25478        8157.7305          9453.143   \n",
       "1922-02-28         70.16119       11280.0000          9932.215   \n",
       "\n",
       "A                                                        \\\n",
       "B          S_RESTOT_NOD_expl0599 DEL_CVP_TOTAL_expl0599   \n",
       "C                        STORAGE           DELIVERY-CVP   \n",
       "D                           1MON                   1MON   \n",
       "E                       2020D09E               2020D09E   \n",
       "F                       PER-AVER               PER-AVER   \n",
       "Units                        TAF                    CFS   \n",
       "1921-10-31              7347.322              3488.7666   \n",
       "1921-11-30              7191.747              2524.2285   \n",
       "1921-12-31              7189.641              1591.1171   \n",
       "1922-01-31              7418.521              1731.6113   \n",
       "1922-02-28              7835.668              2126.8743   \n",
       "\n",
       "A                                                                   \\\n",
       "B          DEL_CVP_PAG_TOTAL_expl0599 DEL_CVP_PSCEX_TOTAL_expl0599   \n",
       "C                        DELIVERY-CVP                 DELIVERY-CVP   \n",
       "D                                1MON                         1MON   \n",
       "E                            2020D09E                     2020D09E   \n",
       "F                            PER-AVER                     PER-AVER   \n",
       "Units                             CFS                          CFS   \n",
       "1921-10-31                  602.30680                  1006.939640   \n",
       "1921-11-30                  421.99603                   728.172000   \n",
       "1921-12-31                  583.89496                    88.761280   \n",
       "1922-01-31                 1024.95840                   105.010345   \n",
       "1922-02-28                 1292.51480                   265.611940   \n",
       "\n",
       "A                                      \n",
       "B          DEL_CVP_PRF_TOTAL_expl0599  \n",
       "C                        DELIVERY-CVP  \n",
       "D                                1MON  \n",
       "E                            2020D09E  \n",
       "F                            PER-AVER  \n",
       "Units                             CFS  \n",
       "1921-10-31                 1387.50290  \n",
       "1921-11-30                  948.31190  \n",
       "1921-12-31                  472.46307  \n",
       "1922-01-31                  216.17726  \n",
       "1922-02-28                  173.28299  \n",
       "\n",
       "[5 rows x 32400 columns]"
      ],
      "text/html": [
       "<div>\n",
       "<style scoped>\n",
       "    .dataframe tbody tr th:only-of-type {\n",
       "        vertical-align: middle;\n",
       "    }\n",
       "\n",
       "    .dataframe tbody tr th {\n",
       "        vertical-align: top;\n",
       "    }\n",
       "\n",
       "    .dataframe thead tr th {\n",
       "        text-align: left;\n",
       "    }\n",
       "</style>\n",
       "<table border=\"1\" class=\"dataframe\">\n",
       "  <thead>\n",
       "    <tr>\n",
       "      <th>A</th>\n",
       "      <th colspan=\"21\" halign=\"left\">CALLITE</th>\n",
       "    </tr>\n",
       "    <tr>\n",
       "      <th>B</th>\n",
       "      <th>C_SJRVER_expl0000</th>\n",
       "      <th>C_WILKNS_expl0000</th>\n",
       "      <th>DEL_CVP_PAG_N_expl0000</th>\n",
       "      <th>DEL_CVP_PAG_S_expl0000</th>\n",
       "      <th>DEL_CVP_PEX_S_expl0000</th>\n",
       "      <th>DEL_CVP_PMI_N_expl0000</th>\n",
       "      <th>DEL_CVP_PMI_S_expl0000</th>\n",
       "      <th>DEL_CVP_PRF_N_expl0000</th>\n",
       "      <th>DEL_CVP_PRF_S_expl0000</th>\n",
       "      <th>DEL_CVP_PSC_N_expl0000</th>\n",
       "      <th>...</th>\n",
       "      <th>WYT_SJR__expl0599</th>\n",
       "      <th>WYT_TRIN__expl0599</th>\n",
       "      <th>X2_PRV_expl0599</th>\n",
       "      <th>D_TOTAL_expl0599</th>\n",
       "      <th>S_RESTOT_expl0599</th>\n",
       "      <th>S_RESTOT_NOD_expl0599</th>\n",
       "      <th>DEL_CVP_TOTAL_expl0599</th>\n",
       "      <th>DEL_CVP_PAG_TOTAL_expl0599</th>\n",
       "      <th>DEL_CVP_PSCEX_TOTAL_expl0599</th>\n",
       "      <th>DEL_CVP_PRF_TOTAL_expl0599</th>\n",
       "    </tr>\n",
       "    <tr>\n",
       "      <th>C</th>\n",
       "      <th>FLOW-CHANNEL</th>\n",
       "      <th>FLOW-CHANNEL</th>\n",
       "      <th>DELIVERY-CVP</th>\n",
       "      <th>DELIVERY-CVP</th>\n",
       "      <th>DELIVERY-CVP</th>\n",
       "      <th>DELIVERY-CVP</th>\n",
       "      <th>DELIVERY-CVP</th>\n",
       "      <th>DELIVERY-CVP</th>\n",
       "      <th>DELIVERY-CVP</th>\n",
       "      <th>DELIVERY-CVP</th>\n",
       "      <th>...</th>\n",
       "      <th>WATER-YEAR-TYPE</th>\n",
       "      <th>WATER-YEAR-TYPE</th>\n",
       "      <th>X2-POSITION-PREV</th>\n",
       "      <th>FLOW-DELIVERY</th>\n",
       "      <th>STORAGE</th>\n",
       "      <th>STORAGE</th>\n",
       "      <th>DELIVERY-CVP</th>\n",
       "      <th>DELIVERY-CVP</th>\n",
       "      <th>DELIVERY-CVP</th>\n",
       "      <th>DELIVERY-CVP</th>\n",
       "    </tr>\n",
       "    <tr>\n",
       "      <th>D</th>\n",
       "      <th>1MON</th>\n",
       "      <th>1MON</th>\n",
       "      <th>1MON</th>\n",
       "      <th>1MON</th>\n",
       "      <th>1MON</th>\n",
       "      <th>1MON</th>\n",
       "      <th>1MON</th>\n",
       "      <th>1MON</th>\n",
       "      <th>1MON</th>\n",
       "      <th>1MON</th>\n",
       "      <th>...</th>\n",
       "      <th>1MON</th>\n",
       "      <th>1MON</th>\n",
       "      <th>1MON</th>\n",
       "      <th>1MON</th>\n",
       "      <th>1MON</th>\n",
       "      <th>1MON</th>\n",
       "      <th>1MON</th>\n",
       "      <th>1MON</th>\n",
       "      <th>1MON</th>\n",
       "      <th>1MON</th>\n",
       "    </tr>\n",
       "    <tr>\n",
       "      <th>E</th>\n",
       "      <th>2020D09E</th>\n",
       "      <th>2020D09E</th>\n",
       "      <th>2020D09E</th>\n",
       "      <th>2020D09E</th>\n",
       "      <th>2020D09E</th>\n",
       "      <th>2020D09E</th>\n",
       "      <th>2020D09E</th>\n",
       "      <th>2020D09E</th>\n",
       "      <th>2020D09E</th>\n",
       "      <th>2020D09E</th>\n",
       "      <th>...</th>\n",
       "      <th>2020D09E</th>\n",
       "      <th>2020D09E</th>\n",
       "      <th>2020D09E</th>\n",
       "      <th>2020D09E</th>\n",
       "      <th>2020D09E</th>\n",
       "      <th>2020D09E</th>\n",
       "      <th>2020D09E</th>\n",
       "      <th>2020D09E</th>\n",
       "      <th>2020D09E</th>\n",
       "      <th>2020D09E</th>\n",
       "    </tr>\n",
       "    <tr>\n",
       "      <th>F</th>\n",
       "      <th>PER-AVER</th>\n",
       "      <th>PER-AVER</th>\n",
       "      <th>PER-AVER</th>\n",
       "      <th>PER-AVER</th>\n",
       "      <th>PER-AVER</th>\n",
       "      <th>PER-AVER</th>\n",
       "      <th>PER-AVER</th>\n",
       "      <th>PER-AVER</th>\n",
       "      <th>PER-AVER</th>\n",
       "      <th>PER-AVER</th>\n",
       "      <th>...</th>\n",
       "      <th>PER-AVER</th>\n",
       "      <th>PER-AVER</th>\n",
       "      <th>PER-AVER</th>\n",
       "      <th>PER-AVER</th>\n",
       "      <th>PER-AVER</th>\n",
       "      <th>PER-AVER</th>\n",
       "      <th>PER-AVER</th>\n",
       "      <th>PER-AVER</th>\n",
       "      <th>PER-AVER</th>\n",
       "      <th>PER-AVER</th>\n",
       "    </tr>\n",
       "    <tr>\n",
       "      <th>Units</th>\n",
       "      <th>CFS</th>\n",
       "      <th>CFS</th>\n",
       "      <th>CFS</th>\n",
       "      <th>CFS</th>\n",
       "      <th>CFS</th>\n",
       "      <th>CFS</th>\n",
       "      <th>CFS</th>\n",
       "      <th>CFS</th>\n",
       "      <th>CFS</th>\n",
       "      <th>CFS</th>\n",
       "      <th>...</th>\n",
       "      <th>NONE.1</th>\n",
       "      <th>NONE</th>\n",
       "      <th>KM</th>\n",
       "      <th>CFS</th>\n",
       "      <th>TAF</th>\n",
       "      <th>TAF</th>\n",
       "      <th>CFS</th>\n",
       "      <th>CFS</th>\n",
       "      <th>CFS</th>\n",
       "      <th>CFS</th>\n",
       "    </tr>\n",
       "  </thead>\n",
       "  <tbody>\n",
       "    <tr>\n",
       "      <th>1921-10-31</th>\n",
       "      <td>2505.2790</td>\n",
       "      <td>5427.5645</td>\n",
       "      <td>79.62269</td>\n",
       "      <td>922.12427</td>\n",
       "      <td>978.93085</td>\n",
       "      <td>175.152050</td>\n",
       "      <td>177.97460</td>\n",
       "      <td>330.147860</td>\n",
       "      <td>1070.540600</td>\n",
       "      <td>776.821700</td>\n",
       "      <td>...</td>\n",
       "      <td>2.0</td>\n",
       "      <td>3.0</td>\n",
       "      <td>68.20287</td>\n",
       "      <td>9404.3550</td>\n",
       "      <td>9270.104</td>\n",
       "      <td>7347.322</td>\n",
       "      <td>3488.7666</td>\n",
       "      <td>602.30680</td>\n",
       "      <td>1006.939640</td>\n",
       "      <td>1387.50290</td>\n",
       "    </tr>\n",
       "    <tr>\n",
       "      <th>1921-11-30</th>\n",
       "      <td>1977.8469</td>\n",
       "      <td>4904.4517</td>\n",
       "      <td>0.00000</td>\n",
       "      <td>703.33960</td>\n",
       "      <td>336.38205</td>\n",
       "      <td>137.904860</td>\n",
       "      <td>239.36470</td>\n",
       "      <td>268.888900</td>\n",
       "      <td>689.739260</td>\n",
       "      <td>990.790400</td>\n",
       "      <td>...</td>\n",
       "      <td>2.0</td>\n",
       "      <td>3.0</td>\n",
       "      <td>67.41410</td>\n",
       "      <td>7729.3105</td>\n",
       "      <td>9145.287</td>\n",
       "      <td>7191.747</td>\n",
       "      <td>2524.2285</td>\n",
       "      <td>421.99603</td>\n",
       "      <td>728.172000</td>\n",
       "      <td>948.31190</td>\n",
       "    </tr>\n",
       "    <tr>\n",
       "      <th>1921-12-31</th>\n",
       "      <td>2740.8728</td>\n",
       "      <td>9056.1770</td>\n",
       "      <td>0.00000</td>\n",
       "      <td>973.17610</td>\n",
       "      <td>147.93547</td>\n",
       "      <td>122.706566</td>\n",
       "      <td>237.11830</td>\n",
       "      <td>157.755370</td>\n",
       "      <td>314.705470</td>\n",
       "      <td>0.000000</td>\n",
       "      <td>...</td>\n",
       "      <td>2.0</td>\n",
       "      <td>3.0</td>\n",
       "      <td>73.77786</td>\n",
       "      <td>11280.0000</td>\n",
       "      <td>9187.259</td>\n",
       "      <td>7189.641</td>\n",
       "      <td>1591.1171</td>\n",
       "      <td>583.89496</td>\n",
       "      <td>88.761280</td>\n",
       "      <td>472.46307</td>\n",
       "    </tr>\n",
       "    <tr>\n",
       "      <th>1922-01-31</th>\n",
       "      <td>2577.6514</td>\n",
       "      <td>6841.2305</td>\n",
       "      <td>0.00000</td>\n",
       "      <td>1708.29530</td>\n",
       "      <td>153.59721</td>\n",
       "      <td>119.161470</td>\n",
       "      <td>156.20477</td>\n",
       "      <td>74.811830</td>\n",
       "      <td>141.364430</td>\n",
       "      <td>24.395163</td>\n",
       "      <td>...</td>\n",
       "      <td>2.0</td>\n",
       "      <td>3.0</td>\n",
       "      <td>73.25478</td>\n",
       "      <td>8157.7305</td>\n",
       "      <td>9453.143</td>\n",
       "      <td>7418.521</td>\n",
       "      <td>1731.6113</td>\n",
       "      <td>1024.95840</td>\n",
       "      <td>105.010345</td>\n",
       "      <td>216.17726</td>\n",
       "    </tr>\n",
       "    <tr>\n",
       "      <th>1922-02-28</th>\n",
       "      <td>5592.3980</td>\n",
       "      <td>16573.0140</td>\n",
       "      <td>0.00000</td>\n",
       "      <td>2154.23100</td>\n",
       "      <td>442.68655</td>\n",
       "      <td>131.604660</td>\n",
       "      <td>80.27110</td>\n",
       "      <td>68.422615</td>\n",
       "      <td>106.018906</td>\n",
       "      <td>0.000000</td>\n",
       "      <td>...</td>\n",
       "      <td>1.0</td>\n",
       "      <td>3.0</td>\n",
       "      <td>70.16119</td>\n",
       "      <td>11280.0000</td>\n",
       "      <td>9932.215</td>\n",
       "      <td>7835.668</td>\n",
       "      <td>2126.8743</td>\n",
       "      <td>1292.51480</td>\n",
       "      <td>265.611940</td>\n",
       "      <td>173.28299</td>\n",
       "    </tr>\n",
       "  </tbody>\n",
       "</table>\n",
       "<p>5 rows × 32400 columns</p>\n",
       "</div>"
      ]
     },
     "execution_count": 3,
     "metadata": {},
     "output_type": "execute_result"
    }
   ],
   "execution_count": 3
  },
  {
   "metadata": {},
   "cell_type": "code",
   "outputs": [],
   "execution_count": null,
   "source": [
    "var_df = pd.read_csv(\"../data/EDA_vars_04_09_24.csv\")\n",
    "var_list = var_df[\"DSS Part B\"].tolist()"
   ],
   "id": "53f0f8d2c1d98519"
  },
  {
   "cell_type": "markdown",
   "id": "cce0ec91acb5f32",
   "metadata": {},
   "source": [
    "## Subset by variable across studies"
   ]
  },
  {
   "cell_type": "code",
   "execution_count": 26,
   "id": "6f525fa4b6b731fc",
   "metadata": {
    "ExecuteTime": {
     "end_time": "2024-04-09T21:18:21.766863Z",
     "start_time": "2024-04-09T21:18:21.734600Z"
    }
   },
   "outputs": [],
   "source": [
    "def create_subset(df, varname):\n",
    "    \"\"\" \n",
    "    Filters df to return columns that contain the string varname\n",
    "    :param df: Dataframe to filter\n",
    "    :param varname: variable of interest, e.g. S_SHSTA\n",
    "    \"\"\"\n",
    "    filtered_columns = df.columns.get_level_values(1).str.contains(varname)\n",
    "    return df.loc[:, filtered_columns]"
   ]
  },
  {
   "cell_type": "code",
   "execution_count": 27,
   "id": "f72a1386c74efa53",
   "metadata": {
    "ExecuteTime": {
     "end_time": "2024-04-09T21:18:21.910238Z",
     "start_time": "2024-04-09T21:18:21.878531Z"
    },
    "collapsed": false
   },
   "outputs": [],
   "source": [
    "def create_subset_list(df, var_names):\n",
    "    \"\"\" \n",
    "    Filters df to return columns that contain any of the strings in var_names.\n",
    "    :param df: Dataframe to filter.\n",
    "    :param var_names: List of variables of interest, e.g. ['S_SHSTA', 'S_OROVL'].\n",
    "    \"\"\"\n",
    "    filtered_columns = df.columns.get_level_values(1).str.contains('|'.join(var_names))\n",
    "    return df.loc[:, filtered_columns]"
   ]
  },
  {
   "cell_type": "code",
   "execution_count": 35,
   "id": "91414460-87fa-4063-90d5-66ca74cd0b42",
   "metadata": {},
   "outputs": [],
   "source": [
    "def convert_cfs_to_taf(df):\n",
    "    date_column = df.index\n",
    "    months = date_column.strftime('%m')\n",
    "    years = date_column.strftime('%Y')\n",
    "\n",
    "    days_in_month = np.zeros(len(df))\n",
    "\n",
    "    # Compute the number of days in each month, considering leap years for February\n",
    "    for i in range(len(months)):\n",
    "        if months[i] in {\"01\", \"03\", \"05\", \"07\", \"08\", \"10\", \"12\"}:\n",
    "            days_in_month[i] = 31\n",
    "        elif months[i] == \"02\":\n",
    "            year = int(years[i])\n",
    "            if year % 4 == 0 and (year % 100 != 0 or year % 400 == 0):\n",
    "                days_in_month[i] = 29\n",
    "            else:\n",
    "                days_in_month[i] = 28\n",
    "        elif months[i] in {\"04\", \"06\", \"09\", \"11\"}:\n",
    "            days_in_month[i] = 30\n",
    "\n",
    "    columns_to_convert = [col for col in df.columns if ('DEL' in col[1] or 'NDO' in col[1] or 'D_TOTAL' in col[1]) and 'CFS' in col[6]]\n",
    "    new_columns_dict = {}\n",
    "\n",
    "    for column in columns_to_convert:\n",
    "        new_values = df[column].values * 2.29568e-5 * 86400 * days_in_month / 1000\n",
    "        new_column_name = list(column)\n",
    "        new_column_name[1] = new_column_name[1] + '_TAF'\n",
    "        new_column_name[6] = 'TAF'\n",
    "        new_column_name = tuple(new_column_name)\n",
    "        new_columns_dict[new_column_name] = new_values\n",
    "\n",
    "    for new_col, new_values in new_columns_dict.items():\n",
    "        df[new_col] = new_values\n",
    "\n",
    "    return df"
   ]
  },
  {
   "cell_type": "code",
   "execution_count": 34,
   "outputs": [],
   "source": "fPath = \"../output/plots\"",
   "metadata": {
    "collapsed": false,
    "ExecuteTime": {
     "start_time": "2024-04-09T01:54:18.836770Z"
    }
   },
   "id": "73dfb876b115cb59"
  },
  {
   "cell_type": "code",
   "execution_count": 37,
   "id": "930bca1e-b998-4cd6-8c68-1d60d0970426",
   "metadata": {},
   "outputs": [
    {
     "data": {
      "text/html": [
       "<div>\n",
       "<style scoped>\n",
       "    .dataframe tbody tr th:only-of-type {\n",
       "        vertical-align: middle;\n",
       "    }\n",
       "\n",
       "    .dataframe tbody tr th {\n",
       "        vertical-align: top;\n",
       "    }\n",
       "\n",
       "    .dataframe thead tr th {\n",
       "        text-align: left;\n",
       "    }\n",
       "</style>\n",
       "<table border=\"1\" class=\"dataframe\">\n",
       "  <thead>\n",
       "    <tr>\n",
       "      <th></th>\n",
       "      <th colspan=\"21\" halign=\"left\">CALLITE</th>\n",
       "    </tr>\n",
       "    <tr>\n",
       "      <th></th>\n",
       "      <th>C_SJRVER_expl0000</th>\n",
       "      <th>C_WILKNS_expl0000</th>\n",
       "      <th>DEL_CVP_PAG_N_expl0000</th>\n",
       "      <th>DEL_CVP_PAG_S_expl0000</th>\n",
       "      <th>DEL_CVP_PRF_S_expl0000</th>\n",
       "      <th>DEL_CVP_PSC_N_expl0000</th>\n",
       "      <th>DEL_CVP_TOTAL_N_expl0000</th>\n",
       "      <th>DEL_CVP_TOTAL_S_expl0000</th>\n",
       "      <th>DEL_SWP_MWD_expl0000</th>\n",
       "      <th>DEL_SWP_PMI_expl0000</th>\n",
       "      <th>...</th>\n",
       "      <th>UNIMP_SJ_CFS_DV_expl0383</th>\n",
       "      <th>UNIMP_SRBB_CFS_DV_expl0383</th>\n",
       "      <th>UNIMP_TU_CFS_DV_expl0383</th>\n",
       "      <th>UNIMP_YUBA_CFS_DV_expl0383</th>\n",
       "      <th>UNIMP_YUBFEA_CFS_DV_expl0383</th>\n",
       "      <th>X2_PRV_expl0383</th>\n",
       "      <th>D_JONES_TAF_expl0383</th>\n",
       "      <th>D_BANKS_TAF_expl0383</th>\n",
       "      <th>D_TOT_expl0383</th>\n",
       "      <th>S_RESTOT_expl0383</th>\n",
       "    </tr>\n",
       "    <tr>\n",
       "      <th></th>\n",
       "      <th>FLOW-CHANNEL</th>\n",
       "      <th>FLOW-CHANNEL</th>\n",
       "      <th>DELIVERY-CVP</th>\n",
       "      <th>DELIVERY-CVP</th>\n",
       "      <th>DELIVERY-CVP</th>\n",
       "      <th>DELIVERY-CVP</th>\n",
       "      <th>DELIVERY-CVP</th>\n",
       "      <th>DELIVERY-CVP</th>\n",
       "      <th>DELIVERY-SWP</th>\n",
       "      <th>DELIVERY-SWP</th>\n",
       "      <th>...</th>\n",
       "      <th>FLOW-UNIMPAIRED</th>\n",
       "      <th>FLOW-UNIMPAIRED</th>\n",
       "      <th>FLOW-UNIMPAIRED</th>\n",
       "      <th>FLOW-UNIMPAIRED</th>\n",
       "      <th>FLOW-UNIMPAIRED</th>\n",
       "      <th>X2-POSITION-PREV</th>\n",
       "      <th>FLOW-DELIVERY</th>\n",
       "      <th>FLOW-DELIVERY</th>\n",
       "      <th>FLOW-DELIVERY</th>\n",
       "      <th>STORAGE</th>\n",
       "    </tr>\n",
       "    <tr>\n",
       "      <th></th>\n",
       "      <th>1MON</th>\n",
       "      <th>1MON</th>\n",
       "      <th>1MON</th>\n",
       "      <th>1MON</th>\n",
       "      <th>1MON</th>\n",
       "      <th>1MON</th>\n",
       "      <th>1MON</th>\n",
       "      <th>1MON</th>\n",
       "      <th>1MON</th>\n",
       "      <th>1MON</th>\n",
       "      <th>...</th>\n",
       "      <th>1MON</th>\n",
       "      <th>1MON</th>\n",
       "      <th>1MON</th>\n",
       "      <th>1MON</th>\n",
       "      <th>1MON</th>\n",
       "      <th>1MON</th>\n",
       "      <th>1MON</th>\n",
       "      <th>1MON</th>\n",
       "      <th>1MON</th>\n",
       "      <th>1MON</th>\n",
       "    </tr>\n",
       "    <tr>\n",
       "      <th></th>\n",
       "      <th>2020D09E</th>\n",
       "      <th>2020D09E</th>\n",
       "      <th>2020D09E</th>\n",
       "      <th>2020D09E</th>\n",
       "      <th>2020D09E</th>\n",
       "      <th>2020D09E</th>\n",
       "      <th>2020D09E</th>\n",
       "      <th>2020D09E</th>\n",
       "      <th>2020D09E</th>\n",
       "      <th>2020D09E</th>\n",
       "      <th>...</th>\n",
       "      <th>2020D09E</th>\n",
       "      <th>2020D09E</th>\n",
       "      <th>2020D09E</th>\n",
       "      <th>2020D09E</th>\n",
       "      <th>2020D09E</th>\n",
       "      <th>2020D09E</th>\n",
       "      <th>2020D09E</th>\n",
       "      <th>2020D09E</th>\n",
       "      <th>2020D09E</th>\n",
       "      <th>2020D09E</th>\n",
       "    </tr>\n",
       "    <tr>\n",
       "      <th></th>\n",
       "      <th>PER-AVER</th>\n",
       "      <th>PER-AVER</th>\n",
       "      <th>PER-AVER</th>\n",
       "      <th>PER-AVER</th>\n",
       "      <th>PER-AVER</th>\n",
       "      <th>PER-AVER</th>\n",
       "      <th>PER-AVER</th>\n",
       "      <th>PER-AVER</th>\n",
       "      <th>PER-AVER</th>\n",
       "      <th>PER-AVER</th>\n",
       "      <th>...</th>\n",
       "      <th>PER-AVER</th>\n",
       "      <th>PER-AVER</th>\n",
       "      <th>PER-AVER</th>\n",
       "      <th>PER-AVER</th>\n",
       "      <th>PER-AVER</th>\n",
       "      <th>PER-AVER</th>\n",
       "      <th>PER-AVER</th>\n",
       "      <th>PER-AVER</th>\n",
       "      <th>PER-AVER</th>\n",
       "      <th>PER-AVER</th>\n",
       "    </tr>\n",
       "    <tr>\n",
       "      <th></th>\n",
       "      <th>CFS</th>\n",
       "      <th>CFS</th>\n",
       "      <th>TAF</th>\n",
       "      <th>TAF</th>\n",
       "      <th>TAF</th>\n",
       "      <th>TAF</th>\n",
       "      <th>TAF</th>\n",
       "      <th>TAF</th>\n",
       "      <th>TAF</th>\n",
       "      <th>TAF</th>\n",
       "      <th>...</th>\n",
       "      <th>CFS</th>\n",
       "      <th>CFS</th>\n",
       "      <th>CFS</th>\n",
       "      <th>CFS</th>\n",
       "      <th>CFS</th>\n",
       "      <th>KM</th>\n",
       "      <th>TAF</th>\n",
       "      <th>TAF</th>\n",
       "      <th>TAF</th>\n",
       "      <th>TAF</th>\n",
       "    </tr>\n",
       "  </thead>\n",
       "  <tbody>\n",
       "    <tr>\n",
       "      <th>1921-10-31</th>\n",
       "      <td>2505.2790</td>\n",
       "      <td>5427.5645</td>\n",
       "      <td>2.092484e+05</td>\n",
       "      <td>2.423343e+06</td>\n",
       "      <td>2.813381e+06</td>\n",
       "      <td>2.041487e+06</td>\n",
       "      <td>3.710914e+06</td>\n",
       "      <td>8.575424e+06</td>\n",
       "      <td>6.493492e+06</td>\n",
       "      <td>1.116402e+07</td>\n",
       "      <td>...</td>\n",
       "      <td>174.01881</td>\n",
       "      <td>3935.7527</td>\n",
       "      <td>94.32796</td>\n",
       "      <td>408.21237</td>\n",
       "      <td>1728.8037</td>\n",
       "      <td>68.202870</td>\n",
       "      <td>170.78238</td>\n",
       "      <td>403.27628</td>\n",
       "      <td>574.05865</td>\n",
       "      <td>8793.0510</td>\n",
       "    </tr>\n",
       "    <tr>\n",
       "      <th>1921-11-30</th>\n",
       "      <td>1977.8469</td>\n",
       "      <td>4904.4517</td>\n",
       "      <td>0.000000e+00</td>\n",
       "      <td>1.848376e+06</td>\n",
       "      <td>1.812635e+06</td>\n",
       "      <td>2.603797e+06</td>\n",
       "      <td>3.688032e+06</td>\n",
       "      <td>5.393127e+06</td>\n",
       "      <td>6.396417e+06</td>\n",
       "      <td>1.186342e+07</td>\n",
       "      <td>...</td>\n",
       "      <td>166.37500</td>\n",
       "      <td>4856.8057</td>\n",
       "      <td>102.17778</td>\n",
       "      <td>524.33340</td>\n",
       "      <td>2204.8890</td>\n",
       "      <td>67.435990</td>\n",
       "      <td>141.08742</td>\n",
       "      <td>331.10460</td>\n",
       "      <td>472.19202</td>\n",
       "      <td>8698.9300</td>\n",
       "    </tr>\n",
       "    <tr>\n",
       "      <th>1921-12-31</th>\n",
       "      <td>2740.8728</td>\n",
       "      <td>9056.1770</td>\n",
       "      <td>0.000000e+00</td>\n",
       "      <td>2.557507e+06</td>\n",
       "      <td>8.270460e+05</td>\n",
       "      <td>0.000000e+00</td>\n",
       "      <td>7.394474e+05</td>\n",
       "      <td>4.620543e+06</td>\n",
       "      <td>5.373313e+06</td>\n",
       "      <td>1.044180e+07</td>\n",
       "      <td>...</td>\n",
       "      <td>959.54300</td>\n",
       "      <td>8814.7850</td>\n",
       "      <td>887.98380</td>\n",
       "      <td>1836.14250</td>\n",
       "      <td>4991.2500</td>\n",
       "      <td>73.796830</td>\n",
       "      <td>254.83131</td>\n",
       "      <td>426.15015</td>\n",
       "      <td>680.98145</td>\n",
       "      <td>8713.6930</td>\n",
       "    </tr>\n",
       "    <tr>\n",
       "      <th>1922-01-31</th>\n",
       "      <td>2577.6514</td>\n",
       "      <td>6841.2305</td>\n",
       "      <td>0.000000e+00</td>\n",
       "      <td>4.489400e+06</td>\n",
       "      <td>3.715057e+05</td>\n",
       "      <td>6.411049e+04</td>\n",
       "      <td>5.762657e+05</td>\n",
       "      <td>5.964501e+06</td>\n",
       "      <td>1.066858e+06</td>\n",
       "      <td>1.463146e+06</td>\n",
       "      <td>...</td>\n",
       "      <td>1076.63980</td>\n",
       "      <td>7025.8066</td>\n",
       "      <td>1166.41400</td>\n",
       "      <td>1976.00800</td>\n",
       "      <td>5098.5890</td>\n",
       "      <td>73.272900</td>\n",
       "      <td>255.08055</td>\n",
       "      <td>237.40735</td>\n",
       "      <td>492.48790</td>\n",
       "      <td>8969.5830</td>\n",
       "    </tr>\n",
       "    <tr>\n",
       "      <th>1922-02-28</th>\n",
       "      <td>5592.3980</td>\n",
       "      <td>16573.0140</td>\n",
       "      <td>0.000000e+00</td>\n",
       "      <td>5.661319e+06</td>\n",
       "      <td>2.786177e+05</td>\n",
       "      <td>0.000000e+00</td>\n",
       "      <td>5.337932e+05</td>\n",
       "      <td>7.789075e+06</td>\n",
       "      <td>1.716434e+06</td>\n",
       "      <td>2.194158e+06</td>\n",
       "      <td>...</td>\n",
       "      <td>1775.38680</td>\n",
       "      <td>17411.7560</td>\n",
       "      <td>3411.40800</td>\n",
       "      <td>5724.09230</td>\n",
       "      <td>13322.6045</td>\n",
       "      <td>70.166000</td>\n",
       "      <td>256.13720</td>\n",
       "      <td>424.84427</td>\n",
       "      <td>680.98145</td>\n",
       "      <td>9383.8740</td>\n",
       "    </tr>\n",
       "    <tr>\n",
       "      <th>...</th>\n",
       "      <td>...</td>\n",
       "      <td>...</td>\n",
       "      <td>...</td>\n",
       "      <td>...</td>\n",
       "      <td>...</td>\n",
       "      <td>...</td>\n",
       "      <td>...</td>\n",
       "      <td>...</td>\n",
       "      <td>...</td>\n",
       "      <td>...</td>\n",
       "      <td>...</td>\n",
       "      <td>...</td>\n",
       "      <td>...</td>\n",
       "      <td>...</td>\n",
       "      <td>...</td>\n",
       "      <td>...</td>\n",
       "      <td>...</td>\n",
       "      <td>...</td>\n",
       "      <td>...</td>\n",
       "      <td>...</td>\n",
       "      <td>...</td>\n",
       "    </tr>\n",
       "    <tr>\n",
       "      <th>2003-05-31</th>\n",
       "      <td>3318.8572</td>\n",
       "      <td>18618.2580</td>\n",
       "      <td>1.874032e+06</td>\n",
       "      <td>5.704934e+06</td>\n",
       "      <td>1.099716e+06</td>\n",
       "      <td>1.183967e+07</td>\n",
       "      <td>1.493467e+07</td>\n",
       "      <td>1.223848e+07</td>\n",
       "      <td>4.522120e+06</td>\n",
       "      <td>6.261571e+06</td>\n",
       "      <td>...</td>\n",
       "      <td>7087.94900</td>\n",
       "      <td>20311.0370</td>\n",
       "      <td>8463.59300</td>\n",
       "      <td>9055.09400</td>\n",
       "      <td>22705.2600</td>\n",
       "      <td>55.135270</td>\n",
       "      <td>179.19414</td>\n",
       "      <td>207.87874</td>\n",
       "      <td>387.07288</td>\n",
       "      <td>5741.7935</td>\n",
       "    </tr>\n",
       "    <tr>\n",
       "      <th>2003-06-30</th>\n",
       "      <td>2222.6667</td>\n",
       "      <td>4923.5800</td>\n",
       "      <td>3.628755e+06</td>\n",
       "      <td>9.520898e+06</td>\n",
       "      <td>1.231732e+06</td>\n",
       "      <td>1.608900e+07</td>\n",
       "      <td>2.162981e+07</td>\n",
       "      <td>1.817971e+07</td>\n",
       "      <td>4.591179e+06</td>\n",
       "      <td>7.037492e+06</td>\n",
       "      <td>...</td>\n",
       "      <td>6301.49500</td>\n",
       "      <td>8225.8150</td>\n",
       "      <td>6258.27150</td>\n",
       "      <td>3678.68580</td>\n",
       "      <td>9518.3970</td>\n",
       "      <td>53.185272</td>\n",
       "      <td>275.99796</td>\n",
       "      <td>314.75156</td>\n",
       "      <td>590.74950</td>\n",
       "      <td>5636.2314</td>\n",
       "    </tr>\n",
       "    <tr>\n",
       "      <th>2003-07-31</th>\n",
       "      <td>1147.9255</td>\n",
       "      <td>9365.8700</td>\n",
       "      <td>4.052868e+06</td>\n",
       "      <td>1.145013e+07</td>\n",
       "      <td>3.030184e+05</td>\n",
       "      <td>1.667051e+07</td>\n",
       "      <td>2.299562e+07</td>\n",
       "      <td>2.015033e+07</td>\n",
       "      <td>3.406958e+06</td>\n",
       "      <td>6.321682e+06</td>\n",
       "      <td>...</td>\n",
       "      <td>1452.27650</td>\n",
       "      <td>5212.8720</td>\n",
       "      <td>901.28735</td>\n",
       "      <td>394.12820</td>\n",
       "      <td>2597.1577</td>\n",
       "      <td>64.092170</td>\n",
       "      <td>270.60452</td>\n",
       "      <td>228.97102</td>\n",
       "      <td>499.57556</td>\n",
       "      <td>4991.3300</td>\n",
       "    </tr>\n",
       "    <tr>\n",
       "      <th>2003-08-31</th>\n",
       "      <td>1359.1146</td>\n",
       "      <td>5336.4430</td>\n",
       "      <td>2.851372e+06</td>\n",
       "      <td>8.250568e+06</td>\n",
       "      <td>5.057250e+05</td>\n",
       "      <td>1.162066e+07</td>\n",
       "      <td>1.652348e+07</td>\n",
       "      <td>1.683312e+07</td>\n",
       "      <td>3.466934e+06</td>\n",
       "      <td>6.764329e+06</td>\n",
       "      <td>...</td>\n",
       "      <td>559.36480</td>\n",
       "      <td>4595.1377</td>\n",
       "      <td>484.66680</td>\n",
       "      <td>815.66034</td>\n",
       "      <td>2717.5884</td>\n",
       "      <td>85.212200</td>\n",
       "      <td>258.20230</td>\n",
       "      <td>139.03201</td>\n",
       "      <td>397.23430</td>\n",
       "      <td>4677.8726</td>\n",
       "    </tr>\n",
       "    <tr>\n",
       "      <th>2003-09-30</th>\n",
       "      <td>1674.8894</td>\n",
       "      <td>9031.4380</td>\n",
       "      <td>1.627183e+06</td>\n",
       "      <td>2.706211e+06</td>\n",
       "      <td>2.198163e+06</td>\n",
       "      <td>3.882223e+06</td>\n",
       "      <td>6.671960e+06</td>\n",
       "      <td>1.025345e+07</td>\n",
       "      <td>3.266936e+06</td>\n",
       "      <td>6.865081e+06</td>\n",
       "      <td>...</td>\n",
       "      <td>193.60000</td>\n",
       "      <td>4813.4136</td>\n",
       "      <td>250.57083</td>\n",
       "      <td>361.30264</td>\n",
       "      <td>1776.0951</td>\n",
       "      <td>96.611440</td>\n",
       "      <td>259.90128</td>\n",
       "      <td>139.94684</td>\n",
       "      <td>399.84810</td>\n",
       "      <td>4578.0460</td>\n",
       "    </tr>\n",
       "  </tbody>\n",
       "</table>\n",
       "<p>984 rows × 14592 columns</p>\n",
       "</div>"
      ],
      "text/plain": [
       "                     CALLITE                                           \\\n",
       "           C_SJRVER_expl0000 C_WILKNS_expl0000 DEL_CVP_PAG_N_expl0000   \n",
       "                FLOW-CHANNEL      FLOW-CHANNEL           DELIVERY-CVP   \n",
       "                        1MON              1MON                   1MON   \n",
       "                    2020D09E          2020D09E               2020D09E   \n",
       "                    PER-AVER          PER-AVER               PER-AVER   \n",
       "                         CFS               CFS                    TAF   \n",
       "1921-10-31         2505.2790         5427.5645           2.092484e+05   \n",
       "1921-11-30         1977.8469         4904.4517           0.000000e+00   \n",
       "1921-12-31         2740.8728         9056.1770           0.000000e+00   \n",
       "1922-01-31         2577.6514         6841.2305           0.000000e+00   \n",
       "1922-02-28         5592.3980        16573.0140           0.000000e+00   \n",
       "..                       ...               ...                    ...   \n",
       "2003-05-31         3318.8572        18618.2580           1.874032e+06   \n",
       "2003-06-30         2222.6667         4923.5800           3.628755e+06   \n",
       "2003-07-31         1147.9255         9365.8700           4.052868e+06   \n",
       "2003-08-31         1359.1146         5336.4430           2.851372e+06   \n",
       "2003-09-30         1674.8894         9031.4380           1.627183e+06   \n",
       "\n",
       "                                                          \\\n",
       "           DEL_CVP_PAG_S_expl0000 DEL_CVP_PRF_S_expl0000   \n",
       "                     DELIVERY-CVP           DELIVERY-CVP   \n",
       "                             1MON                   1MON   \n",
       "                         2020D09E               2020D09E   \n",
       "                         PER-AVER               PER-AVER   \n",
       "                              TAF                    TAF   \n",
       "1921-10-31           2.423343e+06           2.813381e+06   \n",
       "1921-11-30           1.848376e+06           1.812635e+06   \n",
       "1921-12-31           2.557507e+06           8.270460e+05   \n",
       "1922-01-31           4.489400e+06           3.715057e+05   \n",
       "1922-02-28           5.661319e+06           2.786177e+05   \n",
       "..                            ...                    ...   \n",
       "2003-05-31           5.704934e+06           1.099716e+06   \n",
       "2003-06-30           9.520898e+06           1.231732e+06   \n",
       "2003-07-31           1.145013e+07           3.030184e+05   \n",
       "2003-08-31           8.250568e+06           5.057250e+05   \n",
       "2003-09-30           2.706211e+06           2.198163e+06   \n",
       "\n",
       "                                                            \\\n",
       "           DEL_CVP_PSC_N_expl0000 DEL_CVP_TOTAL_N_expl0000   \n",
       "                     DELIVERY-CVP             DELIVERY-CVP   \n",
       "                             1MON                     1MON   \n",
       "                         2020D09E                 2020D09E   \n",
       "                         PER-AVER                 PER-AVER   \n",
       "                              TAF                      TAF   \n",
       "1921-10-31           2.041487e+06             3.710914e+06   \n",
       "1921-11-30           2.603797e+06             3.688032e+06   \n",
       "1921-12-31           0.000000e+00             7.394474e+05   \n",
       "1922-01-31           6.411049e+04             5.762657e+05   \n",
       "1922-02-28           0.000000e+00             5.337932e+05   \n",
       "..                            ...                      ...   \n",
       "2003-05-31           1.183967e+07             1.493467e+07   \n",
       "2003-06-30           1.608900e+07             2.162981e+07   \n",
       "2003-07-31           1.667051e+07             2.299562e+07   \n",
       "2003-08-31           1.162066e+07             1.652348e+07   \n",
       "2003-09-30           3.882223e+06             6.671960e+06   \n",
       "\n",
       "                                                                               \\\n",
       "           DEL_CVP_TOTAL_S_expl0000 DEL_SWP_MWD_expl0000 DEL_SWP_PMI_expl0000   \n",
       "                       DELIVERY-CVP         DELIVERY-SWP         DELIVERY-SWP   \n",
       "                               1MON                 1MON                 1MON   \n",
       "                           2020D09E             2020D09E             2020D09E   \n",
       "                           PER-AVER             PER-AVER             PER-AVER   \n",
       "                                TAF                  TAF                  TAF   \n",
       "1921-10-31             8.575424e+06         6.493492e+06         1.116402e+07   \n",
       "1921-11-30             5.393127e+06         6.396417e+06         1.186342e+07   \n",
       "1921-12-31             4.620543e+06         5.373313e+06         1.044180e+07   \n",
       "1922-01-31             5.964501e+06         1.066858e+06         1.463146e+06   \n",
       "1922-02-28             7.789075e+06         1.716434e+06         2.194158e+06   \n",
       "..                              ...                  ...                  ...   \n",
       "2003-05-31             1.223848e+07         4.522120e+06         6.261571e+06   \n",
       "2003-06-30             1.817971e+07         4.591179e+06         7.037492e+06   \n",
       "2003-07-31             2.015033e+07         3.406958e+06         6.321682e+06   \n",
       "2003-08-31             1.683312e+07         3.466934e+06         6.764329e+06   \n",
       "2003-09-30             1.025345e+07         3.266936e+06         6.865081e+06   \n",
       "\n",
       "            ...                                                      \\\n",
       "            ... UNIMP_SJ_CFS_DV_expl0383 UNIMP_SRBB_CFS_DV_expl0383   \n",
       "            ...          FLOW-UNIMPAIRED            FLOW-UNIMPAIRED   \n",
       "            ...                     1MON                       1MON   \n",
       "            ...                 2020D09E                   2020D09E   \n",
       "            ...                 PER-AVER                   PER-AVER   \n",
       "            ...                      CFS                        CFS   \n",
       "1921-10-31  ...                174.01881                  3935.7527   \n",
       "1921-11-30  ...                166.37500                  4856.8057   \n",
       "1921-12-31  ...                959.54300                  8814.7850   \n",
       "1922-01-31  ...               1076.63980                  7025.8066   \n",
       "1922-02-28  ...               1775.38680                 17411.7560   \n",
       "..          ...                      ...                        ...   \n",
       "2003-05-31  ...               7087.94900                 20311.0370   \n",
       "2003-06-30  ...               6301.49500                  8225.8150   \n",
       "2003-07-31  ...               1452.27650                  5212.8720   \n",
       "2003-08-31  ...                559.36480                  4595.1377   \n",
       "2003-09-30  ...                193.60000                  4813.4136   \n",
       "\n",
       "                                                                \\\n",
       "           UNIMP_TU_CFS_DV_expl0383 UNIMP_YUBA_CFS_DV_expl0383   \n",
       "                    FLOW-UNIMPAIRED            FLOW-UNIMPAIRED   \n",
       "                               1MON                       1MON   \n",
       "                           2020D09E                   2020D09E   \n",
       "                           PER-AVER                   PER-AVER   \n",
       "                                CFS                        CFS   \n",
       "1921-10-31                 94.32796                  408.21237   \n",
       "1921-11-30                102.17778                  524.33340   \n",
       "1921-12-31                887.98380                 1836.14250   \n",
       "1922-01-31               1166.41400                 1976.00800   \n",
       "1922-02-28               3411.40800                 5724.09230   \n",
       "..                              ...                        ...   \n",
       "2003-05-31               8463.59300                 9055.09400   \n",
       "2003-06-30               6258.27150                 3678.68580   \n",
       "2003-07-31                901.28735                  394.12820   \n",
       "2003-08-31                484.66680                  815.66034   \n",
       "2003-09-30                250.57083                  361.30264   \n",
       "\n",
       "                                                                               \\\n",
       "           UNIMP_YUBFEA_CFS_DV_expl0383  X2_PRV_expl0383 D_JONES_TAF_expl0383   \n",
       "                        FLOW-UNIMPAIRED X2-POSITION-PREV        FLOW-DELIVERY   \n",
       "                                   1MON             1MON                 1MON   \n",
       "                               2020D09E         2020D09E             2020D09E   \n",
       "                               PER-AVER         PER-AVER             PER-AVER   \n",
       "                                    CFS               KM                  TAF   \n",
       "1921-10-31                    1728.8037        68.202870            170.78238   \n",
       "1921-11-30                    2204.8890        67.435990            141.08742   \n",
       "1921-12-31                    4991.2500        73.796830            254.83131   \n",
       "1922-01-31                    5098.5890        73.272900            255.08055   \n",
       "1922-02-28                   13322.6045        70.166000            256.13720   \n",
       "..                                  ...              ...                  ...   \n",
       "2003-05-31                   22705.2600        55.135270            179.19414   \n",
       "2003-06-30                    9518.3970        53.185272            275.99796   \n",
       "2003-07-31                    2597.1577        64.092170            270.60452   \n",
       "2003-08-31                    2717.5884        85.212200            258.20230   \n",
       "2003-09-30                    1776.0951        96.611440            259.90128   \n",
       "\n",
       "                                                                  \n",
       "           D_BANKS_TAF_expl0383 D_TOT_expl0383 S_RESTOT_expl0383  \n",
       "                  FLOW-DELIVERY  FLOW-DELIVERY           STORAGE  \n",
       "                           1MON           1MON              1MON  \n",
       "                       2020D09E       2020D09E          2020D09E  \n",
       "                       PER-AVER       PER-AVER          PER-AVER  \n",
       "                            TAF            TAF               TAF  \n",
       "1921-10-31            403.27628      574.05865         8793.0510  \n",
       "1921-11-30            331.10460      472.19202         8698.9300  \n",
       "1921-12-31            426.15015      680.98145         8713.6930  \n",
       "1922-01-31            237.40735      492.48790         8969.5830  \n",
       "1922-02-28            424.84427      680.98145         9383.8740  \n",
       "..                          ...            ...               ...  \n",
       "2003-05-31            207.87874      387.07288         5741.7935  \n",
       "2003-06-30            314.75156      590.74950         5636.2314  \n",
       "2003-07-31            228.97102      499.57556         4991.3300  \n",
       "2003-08-31            139.03201      397.23430         4677.8726  \n",
       "2003-09-30            139.94684      399.84810         4578.0460  \n",
       "\n",
       "[984 rows x 14592 columns]"
      ]
     },
     "execution_count": 37,
     "metadata": {},
     "output_type": "execute_result"
    }
   ],
   "source": [
    "df = convert_cfs_to_taf(df)\n",
    "df"
   ]
  },
  {
   "cell_type": "markdown",
   "id": "c1ec9e0d5ba18d09",
   "metadata": {},
   "source": [
    "## Plotting Functions\n",
    "\n",
    "Need to look example file \"general_plots_v20231115.py\" is posted to the Google Drive with the example files/scripts in the Python_DSS directory (here: https://drive.google.com/drive/folders/1JbN0eYKNM0772P0XMj0S7Fyl7I9GZxfW?usp=drive_link). Also the plotting.yml file to list out and define which CalSim/CalLite studies to plot and analyze. If you want to test it out yourself, you'll need ot update the paths to your own CalLite/CalSim studies.\n"
   ]
  },
  {
   "cell_type": "code",
   "execution_count": null,
   "id": "8e8affe5f2d80944",
   "metadata": {
    "ExecuteTime": {
     "end_time": "2024-04-09T17:50:45.473055Z",
     "start_time": "2024-04-09T17:50:45.451461Z"
    }
   },
   "outputs": [],
   "source": [
    "def plot_ts(df, pTitle = 'Time Series', xLab = 'Date', lTitle = 'Studies', fTitle = 'mon_tot', pSave = True, fPath = fPath):\n",
    "    \"\"\"\n",
    "    Plots a time-series graph for a given MultiIndex dataframe (follows calsim conventions)\n",
    "    \n",
    "    The function assumes the DataFrame columns follow a specific naming\n",
    "    convention where the last part of the name indicates the study.\n",
    "    \"\"\"\n",
    "    \n",
    "    var = '_'.join(df.columns[0][1].split('_')[:-1])\n",
    "    colormap = plt.cm.tab20\n",
    "    colors = [colormap(i) for i in range(df.shape[1])]\n",
    "    colors[-1] = [0,0,0,1]\n",
    "\n",
    "    count = 0\n",
    "    \n",
    "    plt.figure(figsize=(14, 8))\n",
    "    \n",
    "    default_font_size = plt.rcParams['font.size']\n",
    "    scaled_font_size = 1.5 * default_font_size # Change it to font size you want\n",
    "    default_line_width = plt.rcParams['lines.linewidth']  \n",
    "    scaled_line_width = 1.5 * default_line_width\n",
    "    \n",
    "    studies = [col[1].split('_')[-1] for col in df.columns]\n",
    "\n",
    "    for study in studies:\n",
    "        study_cols = [col for col in df.columns if col[1].endswith(study)]\n",
    "        for col in study_cols:\n",
    "            sns.lineplot(data=df, x=df.index, y=col, label=f'{study}', color = colors[count], linewidth=scaled_line_width)\n",
    "            count+=1\n",
    "            \n",
    "    plt.title(var + ' ' + pTitle, fontsize=scaled_font_size*2)\n",
    "    plt.xlabel(xLab, fontsize=scaled_font_size*1.5)\n",
    "    plt.ylabel(var+\"\\nUnits: \" + df.columns[0][6], fontsize=scaled_font_size*1.5)\n",
    "\n",
    "    plt.legend(title=lTitle, title_fontsize = scaled_font_size*1.5, fontsize=scaled_font_size*1.25, bbox_to_anchor=(1.02, 1), loc='upper left', borderaxespad=0)\n",
    "    plt.xticks(rotation=45, fontsize=scaled_font_size)  \n",
    "    plt.yticks(fontsize=scaled_font_size)  \n",
    "    plt.tight_layout()  \n",
    "     \n",
    "    if pSave:\n",
    "        plt.savefig(f'{fPath}/{var}_{fTitle}.png', format = 'png', bbox_inches='tight', dpi=600, transparent=False)\n",
    "        \n",
    "    plt.show()\n",
    "   "
   ]
  },
  {
   "cell_type": "code",
   "execution_count": null,
   "id": "6442e314f79d6c11",
   "metadata": {
    "ExecuteTime": {
     "end_time": "2024-04-05T14:46:44.246508Z",
     "start_time": "2024-04-05T14:46:44.218752Z"
    }
   },
   "outputs": [],
   "source": [
    "def plot_annual_totals(df, xLab = 'Date', pTitle = 'Annual Totals', lTitle = 'Studies', fTitle = 'ann_tot', pSave = True, fPath = fPath):\n",
    "    \"\"\"\n",
    "    Plots a time-series graph of annual totals for a given MultiIndex Dataframe that \n",
    "    follows calsim conventions\n",
    "    \n",
    "    The function assumes the DataFrame columns follow a specific naming\n",
    "    convention where the last part of the name indicates the study. \n",
    "    \"\"\"\n",
    "    \n",
    "    annualized_df = pd.DataFrame()\n",
    "    var = '_'.join(df.columns[0][1].split('_')[:-1])\n",
    "    studies = [col[1].split('_')[-1] for col in df.columns]\n",
    "        \n",
    "    colormap = plt.cm.tab20\n",
    "    colors = [colormap(i) for i in range(df.shape[1])]\n",
    "    colors[-1] = [0,0,0,1]\n",
    "        \n",
    "    i=0\n",
    "\n",
    "    plt.figure(figsize=(14, 8))\n",
    "        \n",
    "    default_font_size = plt.rcParams['font.size']\n",
    "    scaled_font_size = 1.5 * default_font_size # Change it to font size you want\n",
    "    default_line_width = plt.rcParams['lines.linewidth']  \n",
    "    scaled_line_width = 1.5 * default_line_width\n",
    "    \n",
    "    for study in studies:\n",
    "        study_cols = [col for col in df.columns if col[1].endswith(study)]\n",
    "        for col in study_cols:\n",
    "            with redirect_stdout(open(os.devnull, 'w')):\n",
    "                df_ann = csPlots.annualize(df.loc[:, [df.columns[i]]])\n",
    "                annualized_df = pd.concat([annualized_df, df_ann], axis=1)\n",
    "                annualized_col_name = df_ann.columns[0]\n",
    "                sns.lineplot(data = df_ann, x=df_ann.index, y=annualized_col_name, label=f'{study}', color = colors[i],\n",
    "                            linewidth = scaled_line_width)\n",
    "                i+=1\n",
    "                    \n",
    "\n",
    "    plt.title(var + ' ' + pTitle, fontsize=scaled_font_size*2)\n",
    "    plt.xlabel(xLab, fontsize=scaled_font_size*1.5)\n",
    "    plt.ylabel(var+\"\\nUnits: \" + df.columns[0][6], fontsize=scaled_font_size*1.5)\n",
    "\n",
    "    plt.legend(title=lTitle, title_fontsize = scaled_font_size*1.5, fontsize=scaled_font_size*1.25, bbox_to_anchor=(1.02, 1), loc='upper left', borderaxespad=0)\n",
    "    plt.xticks(rotation=45, fontsize=scaled_font_size)  \n",
    "    plt.yticks(fontsize=scaled_font_size)  \n",
    "    plt.tight_layout()  \n",
    "        \n",
    "    if pSave:\n",
    "        plt.savefig(f'{fPath}/{var}_{fTitle}.png', format = 'png', bbox_inches='tight', dpi=600, transparent=False)\n",
    "        \n",
    "    plt.show()\n",
    "    return annualized_df "
   ]
  },
  {
   "cell_type": "code",
   "execution_count": null,
   "id": "66161cbeb3ab599e",
   "metadata": {
    "ExecuteTime": {
     "end_time": "2024-04-05T14:46:44.767662Z",
     "start_time": "2024-04-05T14:46:44.743773Z"
    }
   },
   "outputs": [],
   "source": [
    "def plot_exceedance(df, month = \"All Months\", xLab = 'Probability', pTitle = 'Exceedance Probability', lTitle = 'Studies', fTitle = 'exceed', pSave = True, fPath = fPath):\n",
    "    \"\"\"\n",
    "    Plots an exceedance graph for a given MultiIndex Dataframe that follows calsim conventions\n",
    "  \n",
    "    The function assumes the DataFrame columns follow a specific naming\n",
    "    convention where the last part of the name indicates the study. \n",
    "    \"\"\"\n",
    "    pTitle = pTitle + \" \" + month\n",
    "    fTitle = fTitle + \" \" + month\n",
    "    \n",
    "    var = '_'.join(df.columns[0][1].split('_')[:-1])\n",
    "    studies = [col[1].split('_')[-1] for col in df.columns]\n",
    "    i=0\n",
    "    \n",
    "    colormap = plt.cm.tab20\n",
    "    colors = [colormap(i) for i in range(df.shape[1])]\n",
    "    colors[-1] = [0,0,0,1]\n",
    "\n",
    "    plt.figure(figsize=(14, 8))\n",
    "            \n",
    "    default_font_size = plt.rcParams['font.size']\n",
    "    scaled_font_size = 1.5 * default_font_size # Change it to font size you want\n",
    "    default_line_width = plt.rcParams['lines.linewidth']  \n",
    "    scaled_line_width = 1.5 * default_line_width\n",
    "\n",
    "    for study in studies:\n",
    "        study_cols = [col for col in df.columns if col[1].endswith(study)]\n",
    "        for col in study_cols:\n",
    "            df_ex = csPlots.single_exceed(df, df.columns[i])\n",
    "            ex_col_name = df_ex.columns[0]\n",
    "            sns.lineplot(data = df_ex, x=df_ex.index, y=ex_col_name, label=f'{study}', color = colors[i], linewidth = scaled_line_width)\n",
    "            i+=1\n",
    "\n",
    "    plt.title(var + ' ' + pTitle, fontsize=scaled_font_size*2)\n",
    "    plt.xlabel(xLab, fontsize=scaled_font_size*1.5)\n",
    "    plt.ylabel(var+\"\\nUnits: \" + df.columns[0][6], fontsize=scaled_font_size*1.5)\n",
    "    plt.legend(title=lTitle, title_fontsize = scaled_font_size*1.5, fontsize=scaled_font_size*1.25, bbox_to_anchor=(1.02, 1), loc='upper left', borderaxespad=0)\n",
    "    plt.xticks(rotation=45, fontsize=scaled_font_size)  \n",
    "    plt.yticks(fontsize=scaled_font_size)  \n",
    "    plt.tight_layout()  \n",
    "    \n",
    "    if pSave:\n",
    "        plt.savefig(f'{fPath}/{var}_{fTitle}.png', format = 'png', bbox_inches='tight', dpi=600, transparent=False)\n",
    "        \n",
    "    plt.show()"
   ]
  },
  {
   "cell_type": "code",
   "execution_count": null,
   "id": "30ae1f9fb3d57f01",
   "metadata": {
    "ExecuteTime": {
     "end_time": "2024-04-05T14:46:45.401371Z",
     "start_time": "2024-04-05T14:46:45.345498Z"
    }
   },
   "outputs": [],
   "source": [
    "def plot_moy_averages(df, xLab = 'Month of Year', pTitle = 'Month of Year Average Totals', lTitle = 'Studies', fTitle = 'moy_avg', fPath = fPath):\n",
    "    \"\"\"\n",
    "    Plots a time-series graph of month of year averages of a study for a given MultiIndex Dataframe that follows calsim conventions. Calculates mean for 12 months across all study years and uses the plot_ts function to produce a graph.\n",
    "    \n",
    "    The function assumes the DataFrame columns follow a specific naming\n",
    "    convention where the last part of the name indicates the study. \n",
    "    \"\"\"\n",
    "    df_copy = df.copy()\n",
    "    df_copy[\"Month\"] = df.index.month\n",
    "    df_moy = df_copy.groupby('Month').mean()\n",
    "    plot_ts(df_moy, pTitle = pTitle, xLab = xLab, lTitle = lTitle, fTitle = fTitle, fPath = fPath)"
   ]
  },
  {
   "cell_type": "markdown",
   "id": "2320316619d1539c",
   "metadata": {},
   "source": [
    "### Difference From Baseline"
   ]
  },
  {
   "cell_type": "code",
   "execution_count": null,
   "id": "ba99f8c334d15165",
   "metadata": {
    "ExecuteTime": {
     "end_time": "2024-04-05T14:46:46.783005Z",
     "start_time": "2024-04-05T14:46:46.745796Z"
    }
   },
   "outputs": [],
   "source": [
    "def get_difference_from_baseline(df):\n",
    "    \"\"\"\n",
    "    Calculates the difference from baseline for a given variable\n",
    "    Assumptions: baseline column on first column, df only contains single variable\n",
    "    \"\"\"\n",
    "    df_diff = df.copy()\n",
    "    baseline_column = df_diff.iloc[:, 0]\n",
    "    \n",
    "    for i in range(1, df_diff.shape[1]):\n",
    "        df_diff.iloc[:, i] = df_diff.iloc[:, i].sub(baseline_column)\n",
    "    df_diff = df_diff.iloc[:, 1:]\n",
    "\n",
    "    return df_diff"
   ]
  },
  {
   "cell_type": "code",
   "execution_count": null,
   "id": "b1bceaefa2d2c573",
   "metadata": {
    "ExecuteTime": {
     "end_time": "2024-04-05T14:46:47.608152Z",
     "start_time": "2024-04-05T14:46:47.548269Z"
    }
   },
   "outputs": [],
   "source": [
    "def difference_from_baseline(df, plot_type, pTitle = 'Difference from Baseline ', xLab = 'Date', lTitle = 'Studies', fTitle = \"___\", pSave = True, fPath = fPath):\n",
    "    \"\"\"\n",
    "    Plots the difference from baseline of a single variable with a specific plot type\n",
    "    plot_type parameter inputs: plot_ts, plot_exceedance, plot_moy_averages, plot_annual_totals\n",
    "    \"\"\"\n",
    "    pTitle += plot_type.__name__\n",
    "    diff_df = get_difference_from_baseline(df)\n",
    "    plot_type(diff_df, pTitle = pTitle, fTitle = fTitle, fPath = fPath)"
   ]
  },
  {
   "cell_type": "markdown",
   "id": "110a388232bef8a1",
   "metadata": {},
   "source": [
    "### Looping Through All Variables to Create Plots"
   ]
  },
  {
   "cell_type": "code",
   "execution_count": null,
   "id": "240998d6a359a095",
   "metadata": {
    "ExecuteTime": {
     "end_time": "2024-04-05T14:46:52.380202Z",
     "start_time": "2024-04-05T14:46:52.353226Z"
    }
   },
   "outputs": [],
   "source": [
    "def slice_with_baseline(df, var, study_lst):\n",
    "    \"\"\"\n",
    "    Creates a subset of df based on varname and slices it according to the provided range.\n",
    "    \"\"\"\n",
    "    subset_df = create_subset(df, var)\n",
    "    df_baseline = subset_df.iloc[:,[0]]\n",
    "    df_rest = subset_df.iloc[:, study_lst]\n",
    "    return pd.concat([df_baseline, df_rest], axis = 1)"
   ]
  },
  {
   "cell_type": "code",
   "execution_count": null,
   "id": "ec18647bce8cca59",
   "metadata": {
    "ExecuteTime": {
     "end_time": "2024-03-15T16:26:22.257863Z",
     "start_time": "2024-03-15T16:26:22.223001Z"
    }
   },
   "outputs": [],
   "source": [
    "def plot_all(df, vars, studies, storyline):\n",
    "    for var in vars:\n",
    "        \n",
    "        fPath = f\"../visualizations/{storyline}/{var}\"\n",
    "        if not os.path.exists(fPath):\n",
    "            os.makedirs(fPath, exist_ok=True)\n",
    "        \n",
    "    \n",
    "        filter_df = slice_with_baseline(df, var, studies)\n",
    "\n",
    "        # Regular TS\n",
    "        plot_ts(filter_df, pTitle = 'Monthly Total', fTitle = 'Month_Tot', fPath = fPath)\n",
    "    \n",
    "        # Annualized Total\n",
    "        # plot_annual_totals(filter_df, pTitle = 'Water Year Total', fTitle = 'WY_Tot', fPath = fPath)\n",
    "    \n",
    "        # # End of Year TS\n",
    "        # copy = filter_df.copy()\n",
    "        # sep_data = copy[copy.index.month.isin([9])]\n",
    "        # plot_ts(sep_data, pTitle = 'September Total', fTitle = 'Sep_Tot', fPath = fPath)\n",
    "        # \n",
    "        # # April TS\n",
    "        # apr_data = copy[copy.index.month.isin([4])]\n",
    "        # plot_ts(apr_data, pTitle = 'April Total', fTitle = 'Apr_Tot', fPath = fPath)\n",
    "    \n",
    "        # # Summer Totals\n",
    "        # thisdata_summer = copy[copy.index.month.isin([6,7,8])]\n",
    "        # plot_annual_totals(thisdata_summer, pTitle = 'Annual Summer Totals', fTitle = 'Ann_Summ_Tot', fPath = fPath)\n",
    "    \n",
    "        # Exceedance\n",
    "        plot_exceedance(filter_df, xLab = 'Probability', pTitle = 'Monthly Exceedance Probability', fTitle = 'Mon_exceed', fPath = fPath)\n",
    "    \n",
    "        # Average MOY\n",
    "        plot_moy_averages(filter_df, pTitle = 'Month of Year Average', fTitle = 'MoY_Avg', fPath = fPath)\n",
    "    \n",
    "        # Yearly Totals\n",
    "        # copy = filter_df.copy()\n",
    "        # thisdata_yr = copy\n",
    "        # thisdata_yr[\"Year\"] = thisdata_yr.index.year\n",
    "        # thisdata_yrtot = thisdata_yr.groupby('Year').sum()\n",
    "        # plot_ts(thisdata_yrtot, xLab = 'Date', fPath = fPath)\n",
    "\n",
    "        # # Difference from baseline\n",
    "        # difference_from_baseline(filter_df, plot_ts)\n",
    "        # # difference_from_baseline(filter_df, plot_exceedance)\n",
    "        # # difference_from_baseline(filter_df, plot_moy_averages)\n",
    "        # difference_from_baseline(filter_df, plot_annual_totals)  "
   ]
  },
  {
   "cell_type": "code",
   "execution_count": null,
   "id": "42cfcec5036a7991",
   "metadata": {
    "ExecuteTime": {
     "end_time": "2024-03-15T16:26:23.704932Z",
     "start_time": "2024-03-15T16:26:23.674936Z"
    }
   },
   "outputs": [],
   "source": [
    "def plot_all_storage(df, vars, studies, storyline):\n",
    "    for var in vars:\n",
    "        \n",
    "        fPath = f\"../visualizations/{storyline}/{var}\"\n",
    "        if not os.path.exists(fPath):\n",
    "            os.makedirs(fPath, exist_ok=True)\n",
    "        \n",
    "    \n",
    "        filter_df = slice_with_baseline(df, var, studies)\n",
    "\n",
    "        # Regular TS\n",
    "        plot_ts(filter_df, pTitle = 'Monthly Total', fTitle = 'Month_Tot', fPath = fPath)\n",
    "    \n",
    "        # Annualized Total\n",
    "        plot_annual_totals(filter_df, pTitle = 'Water Year Total', fTitle = 'WY_Tot', fPath = fPath)\n",
    "    \n",
    "        # # End of Year TS\n",
    "        copy = filter_df.copy()\n",
    "        sep_data = copy[copy.index.month.isin([9])]\n",
    "        plot_ts(sep_data, pTitle = 'September Total', fTitle = 'Sep_Tot', fPath = fPath)\n",
    "        # \n",
    "        # # April TS\n",
    "        apr_data = copy[copy.index.month.isin([4])]\n",
    "        plot_ts(apr_data, pTitle = 'April Total', fTitle = 'Apr_Tot', fPath = fPath)\n",
    "    \n",
    "        # # Summer Totals\n",
    "        thisdata_summer = copy[copy.index.month.isin([6,7,8])]\n",
    "        plot_annual_totals(thisdata_summer, pTitle = 'Annual Summer Totals', fTitle = 'Ann_Summ_Tot', fPath = fPath)\n",
    "    \n",
    "        # Exceedance\n",
    "        plot_exceedance(filter_df, xLab = 'Probability', pTitle = 'Monthly Exceedance Probability', fTitle = 'Mon_exceed', fPath = fPath)\n",
    "    \n",
    "        # Average MOY\n",
    "        plot_moy_averages(filter_df, pTitle = 'Month of Year Average', fTitle = 'MoY_Avg', fPath = fPath)\n",
    "    \n",
    "        # Yearly Totals\n",
    "        copy = filter_df.copy()\n",
    "        thisdata_yr = copy\n",
    "        thisdata_yr[\"Year\"] = thisdata_yr.index.year\n",
    "        thisdata_yrtot = thisdata_yr.groupby('Year').sum()\n",
    "        plot_ts(thisdata_yrtot, xLab = 'Date', fPath = fPath)\n",
    "\n",
    "        # # Difference from baseline\n",
    "        # difference_from_baseline(filter_df, plot_ts)\n",
    "        # # difference_from_baseline(filter_df, plot_exceedance)\n",
    "        # # difference_from_baseline(filter_df, plot_moy_averages)\n",
    "        # difference_from_baseline(filter_df, plot_annual_totals)  "
   ]
  },
  {
   "cell_type": "code",
   "execution_count": null,
   "id": "b4458ec12615318e",
   "metadata": {
    "ExecuteTime": {
     "end_time": "2024-03-15T16:26:26.874432Z",
     "start_time": "2024-03-15T16:26:26.836457Z"
    }
   },
   "outputs": [],
   "source": [
    "var_storage = var_list[0:2]\n",
    "var_storage"
   ]
  },
  {
   "cell_type": "code",
   "execution_count": null,
   "id": "da8999ab-3ec7-40b2-a35a-3986f013574c",
   "metadata": {
    "ExecuteTime": {
     "end_time": "2024-03-15T16:26:26.889747Z",
     "start_time": "2024-03-15T16:26:26.844220Z"
    }
   },
   "outputs": [],
   "source": [
    "var_del = var_list[2:4]\n",
    "var_del"
   ]
  },
  {
   "cell_type": "markdown",
   "id": "65d14d5d",
   "metadata": {},
   "source": [
    "### Plot Vars Across 384 Studies"
   ]
  },
  {
   "cell_type": "code",
   "execution_count": null,
   "id": "4db4280199e2e77e",
   "metadata": {
    "ExecuteTime": {
     "end_time": "2024-03-07T20:37:32.099461Z",
     "start_time": "2024-03-07T20:36:45.460420900Z"
    }
   },
   "outputs": [],
   "source": [
    "plot_all_storage(df, var_storage, [], 'Baseline')"
   ]
  },
  {
   "cell_type": "code",
   "execution_count": null,
   "id": "44a92694d7a32f16",
   "metadata": {
    "ExecuteTime": {
     "end_time": "2024-03-07T21:11:43.362479100Z",
     "start_time": "2024-03-07T21:11:41.329480300Z"
    }
   },
   "outputs": [],
   "source": [
    "def plot_all_ndo(df, vars, studies, storyline):\n",
    "    for var in vars:\n",
    "\n",
    "        fPath = f\"../visualizations/{storyline}/{var}\"\n",
    "        if not os.path.exists(fPath):\n",
    "            os.makedirs(fPath, exist_ok=True)\n",
    "\n",
    "\n",
    "        filter_df = slice_with_baseline(df, var, studies)\n",
    "\n",
    "        # Regular TS\n",
    "        plot_ts(filter_df, pTitle = 'Monthly Total', fTitle = 'Month_Tot', fPath = fPath)\n",
    "\n",
    "        # Annualized Total\n",
    "        plot_annual_totals(filter_df, pTitle = 'Water Year Total', fTitle = 'WY_Tot', fPath = fPath)\n",
    "\n",
    "        # # End of Year TS\n",
    "        copy = filter_df.copy()\n",
    "        sep_data = copy[copy.index.month.isin([9])]\n",
    "        plot_ts(sep_data, pTitle = 'September Total', fTitle = 'Sep_Tot', fPath = fPath)\n",
    "        #\n",
    "        # # April TS\n",
    "        apr_data = copy[copy.index.month.isin([4])]\n",
    "        plot_ts(apr_data, pTitle = 'April Total', fTitle = 'Apr_Tot', fPath = fPath)\n",
    "\n",
    "        # # Summer Totals\n",
    "        thisdata_summer = copy[copy.index.month.isin([6,7,8])]\n",
    "        plot_annual_totals(thisdata_summer, pTitle = 'Annual Summer Totals', fTitle = 'Ann_Summ_Tot', fPath = fPath)\n",
    "\n",
    "        # Exceedance\n",
    "        plot_exceedance(filter_df, xLab = 'Probability', pTitle = 'Monthly Exceedance Probability', fTitle = 'Mon_exceed', fPath = fPath)\n",
    "\n",
    "        # Average MOY\n",
    "        plot_moy_averages(filter_df, pTitle = 'Month of Year Average', fTitle = 'MoY_Avg', fPath = fPath)\n",
    "\n",
    "        # Yearly Totals\n",
    "        copy = filter_df.copy()\n",
    "        thisdata_yr = copy\n",
    "        thisdata_yr[\"Year\"] = thisdata_yr.index.year\n",
    "        thisdata_yrtot = thisdata_yr.groupby('Year').sum()\n",
    "        plot_ts(thisdata_yrtot, xLab = 'Date', fPath = fPath)\n",
    "\n",
    "        # # Difference from baseline\n",
    "        # difference_from_baseline(filter_df, plot_ts)\n",
    "        # # difference_from_baseline(filter_df, plot_exceedance)\n",
    "        # # difference_from_baseline(filter_df, plot_moy_averages)\n",
    "        # difference_from_baseline(filter_df, plot_annual_totals)"
   ]
  },
  {
   "cell_type": "code",
   "execution_count": null,
   "id": "b3325f619c3c0234",
   "metadata": {
    "ExecuteTime": {
     "end_time": "2024-03-07T21:13:55.108054400Z",
     "start_time": "2024-03-07T21:13:52.244828700Z"
    }
   },
   "outputs": [],
   "source": [
    "var_list_ndo = [\"NDO\"]\n",
    "var_list_ndo"
   ]
  },
  {
   "cell_type": "code",
   "execution_count": null,
   "id": "8e832c020f56de6d",
   "metadata": {
    "ExecuteTime": {
     "start_time": "2024-03-07T21:15:16.801300300Z"
    },
    "is_executing": true
   },
   "outputs": [],
   "source": [
    "plot_all_ndo(df, var_list_ndo, [], \"NDO EDA\")"
   ]
  },
  {
   "cell_type": "markdown",
   "id": "9b3d0241ccdfddb2",
   "metadata": {},
   "source": [
    "### Storyline 1 - Natural Flows"
   ]
  },
  {
   "cell_type": "markdown",
   "id": "4efd363ebfb87318",
   "metadata": {},
   "source": [
    "##### Single Strategy"
   ]
  },
  {
   "cell_type": "code",
   "execution_count": null,
   "id": "8267e834b4dfb5a4",
   "metadata": {
    "ExecuteTime": {
     "end_time": "2024-02-22T19:30:11.479240Z",
     "start_time": "2024-02-22T19:30:11.396750300Z"
    }
   },
   "outputs": [],
   "source": [
    "var_list"
   ]
  },
  {
   "cell_type": "code",
   "execution_count": null,
   "id": "c71d699fe411e607",
   "metadata": {
    "ExecuteTime": {
     "end_time": "2024-02-22T19:30:14.646759500Z",
     "start_time": "2024-02-22T19:30:14.595383800Z"
    }
   },
   "outputs": [],
   "source": [
    "var_list_storage = var_list[:3]\n",
    "var_list_storage"
   ]
  },
  {
   "cell_type": "code",
   "execution_count": null,
   "id": "4166392b8c904eb",
   "metadata": {
    "ExecuteTime": {
     "end_time": "2024-02-22T19:30:18.256167600Z",
     "start_time": "2024-02-22T19:30:18.194362800Z"
    }
   },
   "outputs": [],
   "source": [
    "var_list_delivery = var_list[3:6]\n",
    "var_list_delivery"
   ]
  },
  {
   "cell_type": "code",
   "execution_count": null,
   "id": "eb826804b0f3e82a",
   "metadata": {
    "ExecuteTime": {
     "end_time": "2024-02-22T19:30:19.836894100Z",
     "start_time": "2024-02-22T19:30:19.776652800Z"
    }
   },
   "outputs": [],
   "source": [
    "var_list_c_vars = var_list[7:9]\n",
    "var_list_c_vars"
   ]
  },
  {
   "cell_type": "code",
   "execution_count": null,
   "id": "802d8394a6c9d570",
   "metadata": {},
   "outputs": [],
   "source": []
  },
  {
   "cell_type": "markdown",
   "id": "dc7ed84296f482a2",
   "metadata": {},
   "source": [
    "##### C_VARS"
   ]
  },
  {
   "cell_type": "code",
   "execution_count": null,
   "id": "30c1e8895face646",
   "metadata": {
    "ExecuteTime": {
     "end_time": "2024-02-22T19:30:28.831447200Z",
     "start_time": "2024-02-22T19:30:28.809227500Z"
    }
   },
   "outputs": [],
   "source": [
    "def plot_all(df, vars, studies, storyline):\n",
    "    for var in vars:\n",
    "\n",
    "        fPath = f\"../visualizations/{storyline}/{var}\"\n",
    "        if not os.path.exists(fPath):\n",
    "            os.makedirs(fPath, exist_ok=True)\n",
    "\n",
    "\n",
    "        filter_df = slice_with_baseline(df, var, studies)\n",
    "\n",
    "        # Regular TS\n",
    "        plot_ts(filter_df, pTitle = 'Monthly Total', fTitle = 'Month_Tot', fPath = fPath)\n",
    "\n",
    "        # Average MOY\n",
    "        plot_moy_averages(filter_df, pTitle = 'Month of Year Average', fTitle = 'MoY_Avg', fPath = fPath)\n",
    "\n",
    "        # January Exceedance\n",
    "        copy = filter_df.copy()\n",
    "        jan_data = copy[copy.index.month.isin([1])]\n",
    "        plot_exceedance(jan_data, month=\"January\", xLab = 'Probability', pTitle = 'Monthly Exceedance Probability', fTitle = 'Mon_exceed', fPath = fPath)\n",
    "\n",
    "        # May Exceedance\n",
    "        copy = filter_df.copy()\n",
    "        may_data = copy[copy.index.month.isin([5])]\n",
    "        plot_exceedance(may_data, month=\"May\", xLab = 'Probability', pTitle = 'Monthly Exceedance Probability', fTitle = 'Mon_exceed', fPath = fPath)\n",
    "\n",
    "        # October Exceedance\n",
    "        copy = filter_df.copy()\n",
    "        oct_data = copy[copy.index.month.isin([10])]\n",
    "        plot_exceedance(oct_data, month=\"October\", xLab = 'Probability', pTitle = 'Monthly Exceedance Probability', fTitle = 'Mon_exceed', fPath = fPath) "
   ]
  },
  {
   "cell_type": "code",
   "execution_count": null,
   "id": "a3b22f5bdf37acf2",
   "metadata": {
    "ExecuteTime": {
     "end_time": "2024-02-22T19:30:31.060547300Z",
     "start_time": "2024-02-22T19:30:30.991384400Z"
    }
   },
   "outputs": [],
   "source": [
    "study_lst = [1, 2, 3]"
   ]
  },
  {
   "cell_type": "code",
   "execution_count": null,
   "id": "494ddfaf1177b728",
   "metadata": {
    "ExecuteTime": {
     "end_time": "2024-02-22T19:31:01.781606800Z",
     "start_time": "2024-02-22T19:30:32.663146Z"
    }
   },
   "outputs": [],
   "source": [
    "plot_all(df, var_list_c_vars, study_lst, \"Storyline #1 Single Strategy\")"
   ]
  },
  {
   "cell_type": "markdown",
   "id": "fd3d2ad96827e19b",
   "metadata": {},
   "source": [
    "##### Combination Strategy"
   ]
  },
  {
   "cell_type": "code",
   "execution_count": null,
   "id": "5252e6706f3d9d26",
   "metadata": {
    "ExecuteTime": {
     "end_time": "2024-02-22T19:31:01.791007800Z",
     "start_time": "2024-02-22T19:31:01.784049300Z"
    }
   },
   "outputs": [],
   "source": [
    "study_lst = [2, 14, 302]"
   ]
  },
  {
   "cell_type": "code",
   "execution_count": null,
   "id": "d7af3e204479485a",
   "metadata": {
    "ExecuteTime": {
     "end_time": "2024-02-22T19:31:27.832466500Z",
     "start_time": "2024-02-22T19:31:01.788934500Z"
    }
   },
   "outputs": [],
   "source": [
    "plot_all(df, var_list_c_vars, study_lst, \"Storyline #1 Combination Strategy\")"
   ]
  },
  {
   "cell_type": "markdown",
   "id": "8afa5532f0ed9ee9",
   "metadata": {},
   "source": [
    "##### Storage"
   ]
  },
  {
   "cell_type": "code",
   "execution_count": null,
   "id": "5db1803037279104",
   "metadata": {
    "ExecuteTime": {
     "end_time": "2024-02-22T19:31:27.842371100Z",
     "start_time": "2024-02-22T19:31:27.838198900Z"
    }
   },
   "outputs": [],
   "source": [
    "def plot_all(df, vars, studies, storyline):\n",
    "    for var in vars:\n",
    "\n",
    "        fPath = f\"../visualizations/{storyline}/{var}\"\n",
    "        if not os.path.exists(fPath):\n",
    "            os.makedirs(fPath, exist_ok=True)\n",
    "\n",
    "\n",
    "        filter_df = slice_with_baseline(df, var, studies)\n",
    "\n",
    "        # Regular TS\n",
    "        plot_ts(filter_df, pTitle = 'Monthly Total', fTitle = 'Month_Tot', fPath = fPath)\n",
    "\n",
    "        # April Exceedance\n",
    "        copy = filter_df.copy()\n",
    "        apr_data = copy[copy.index.month.isin([4])]\n",
    "        plot_exceedance(apr_data, month=\"April\", xLab = 'Probability', pTitle = 'Monthly Exceedance Probability', fTitle = 'Mon_exceed', fPath = fPath)\n",
    "\n",
    "        # September Exceedance\n",
    "        copy = filter_df.copy()\n",
    "        sep_data = copy[copy.index.month.isin([9])]\n",
    "        plot_exceedance(sep_data, month=\"September\", xLab = 'Probability', pTitle = 'Monthly Exceedance Probability', fTitle = 'Mon_exceed', fPath = fPath)"
   ]
  },
  {
   "cell_type": "code",
   "execution_count": null,
   "id": "27719691be113fef",
   "metadata": {
    "ExecuteTime": {
     "end_time": "2024-02-22T19:31:27.865335Z",
     "start_time": "2024-02-22T19:31:27.841611Z"
    }
   },
   "outputs": [],
   "source": [
    "study_lst = [1, 2, 3]"
   ]
  },
  {
   "cell_type": "code",
   "execution_count": null,
   "id": "d578d15ab1fdbf9a",
   "metadata": {
    "ExecuteTime": {
     "end_time": "2024-02-22T19:31:52.147606700Z",
     "start_time": "2024-02-22T19:31:27.856177400Z"
    }
   },
   "outputs": [],
   "source": [
    "plot_all(df, var_list_storage, study_lst, \"Storyline #1 Single Strategy\")"
   ]
  },
  {
   "cell_type": "markdown",
   "id": "64ff9000620b917a",
   "metadata": {},
   "source": [
    "##### Combination Strategy"
   ]
  },
  {
   "cell_type": "code",
   "execution_count": null,
   "id": "a3b0094291fb791a",
   "metadata": {
    "ExecuteTime": {
     "end_time": "2024-02-22T19:31:52.156306300Z",
     "start_time": "2024-02-22T19:31:52.147606700Z"
    }
   },
   "outputs": [],
   "source": [
    "study_lst = [2, 14, 302]"
   ]
  },
  {
   "cell_type": "code",
   "execution_count": null,
   "id": "7f79840913524981",
   "metadata": {
    "ExecuteTime": {
     "end_time": "2024-02-22T19:32:16.787329400Z",
     "start_time": "2024-02-22T19:31:52.153157300Z"
    }
   },
   "outputs": [],
   "source": [
    "plot_all(df, var_list_storage, study_lst, \"Storyline #1 Combination Strategy\")"
   ]
  },
  {
   "cell_type": "markdown",
   "id": "2648cff4d76dc35a",
   "metadata": {},
   "source": [
    "##### Storyline #2 Single Strategy"
   ]
  },
  {
   "cell_type": "code",
   "execution_count": null,
   "id": "b0fa2fc54eca68f7",
   "metadata": {
    "ExecuteTime": {
     "end_time": "2024-02-22T19:32:16.795442500Z",
     "start_time": "2024-02-22T19:32:16.787999900Z"
    }
   },
   "outputs": [],
   "source": [
    "study_lst = [32, 64]"
   ]
  },
  {
   "cell_type": "code",
   "execution_count": null,
   "id": "1fbabffcf98857de",
   "metadata": {
    "ExecuteTime": {
     "end_time": "2024-02-22T19:32:40.375388Z",
     "start_time": "2024-02-22T19:32:16.793263100Z"
    }
   },
   "outputs": [],
   "source": [
    "plot_all(df, var_list_storage, study_lst, \"Storyline #2 Single Strategy\")"
   ]
  },
  {
   "cell_type": "markdown",
   "id": "89222de6eb887eca",
   "metadata": {},
   "source": [
    "##### Storyline #2 Combination Strategy"
   ]
  },
  {
   "cell_type": "code",
   "execution_count": null,
   "id": "79b583ec31be6b21",
   "metadata": {
    "ExecuteTime": {
     "end_time": "2024-02-22T19:32:40.381761900Z",
     "start_time": "2024-02-22T19:32:40.374167900Z"
    }
   },
   "outputs": [],
   "source": [
    "study_lst = [64, 80, 368]"
   ]
  },
  {
   "cell_type": "code",
   "execution_count": null,
   "id": "4c67341b788fb3c6",
   "metadata": {
    "ExecuteTime": {
     "end_time": "2024-02-22T19:33:04.685172800Z",
     "start_time": "2024-02-22T19:32:40.377519Z"
    }
   },
   "outputs": [],
   "source": [
    "plot_all(df, var_list_storage, study_lst, \"Storyline #2 Combination Strategy\")"
   ]
  },
  {
   "cell_type": "markdown",
   "id": "bb86deb42e044326",
   "metadata": {},
   "source": [
    "##### Storyline #3 Single Strategy"
   ]
  },
  {
   "cell_type": "code",
   "execution_count": null,
   "id": "b2525aa21b2501b0",
   "metadata": {
    "ExecuteTime": {
     "end_time": "2024-02-22T19:33:04.694082900Z",
     "start_time": "2024-02-22T19:33:04.686983100Z"
    }
   },
   "outputs": [],
   "source": [
    "study_lst = [16]"
   ]
  },
  {
   "cell_type": "code",
   "execution_count": null,
   "id": "cf9ca52a153692ea",
   "metadata": {
    "ExecuteTime": {
     "end_time": "2024-02-22T19:33:27.871420200Z",
     "start_time": "2024-02-22T19:33:04.689702800Z"
    }
   },
   "outputs": [],
   "source": [
    "plot_all(df, var_list_storage, study_lst, \"Storyline #3 Single Strategy\")"
   ]
  },
  {
   "cell_type": "markdown",
   "id": "46da104158d0e646",
   "metadata": {},
   "source": [
    "##### Storyline #3 Combination Strategy"
   ]
  },
  {
   "cell_type": "code",
   "execution_count": null,
   "id": "fa9e28ef9fb0c398",
   "metadata": {
    "ExecuteTime": {
     "end_time": "2024-02-22T19:33:27.879908Z",
     "start_time": "2024-02-22T19:33:27.872418700Z"
    }
   },
   "outputs": [],
   "source": [
    "study_lst = [16, 80, 210]"
   ]
  },
  {
   "cell_type": "code",
   "execution_count": null,
   "id": "a47c2a3c9bdf44c4",
   "metadata": {
    "ExecuteTime": {
     "end_time": "2024-02-22T19:33:52.866538600Z",
     "start_time": "2024-02-22T19:33:27.877797400Z"
    }
   },
   "outputs": [],
   "source": [
    "plot_all(df, var_list_storage, study_lst, \"Storyline #3 Combination Strategy\")"
   ]
  },
  {
   "cell_type": "markdown",
   "id": "d7e8d1315db68c4",
   "metadata": {},
   "source": [
    "##### Deliveries"
   ]
  },
  {
   "cell_type": "code",
   "execution_count": null,
   "id": "56126ee4fe782179",
   "metadata": {
    "ExecuteTime": {
     "end_time": "2024-02-22T19:33:52.875402600Z",
     "start_time": "2024-02-22T19:33:52.868039700Z"
    }
   },
   "outputs": [],
   "source": [
    "def plot_all(df, vars, studies, storyline):\n",
    "    for var in vars:\n",
    "\n",
    "        fPath = f\"../visualizations/{storyline}/{var}\"\n",
    "        if not os.path.exists(fPath):\n",
    "            os.makedirs(fPath, exist_ok=True)\n",
    "\n",
    "\n",
    "        filter_df = slice_with_baseline(df, var, studies)\n",
    "\n",
    "        # Regular TS\n",
    "        plot_ts(filter_df, pTitle = 'Monthly Total', fTitle = 'Month_Tot', fPath = fPath)\n",
    "\n",
    "        #Exceedance\n",
    "        plot_exceedance(filter_df, xLab = 'Probability', pTitle = 'Monthly Exceedance Probability', fTitle = 'Mon_exceed', fPath = fPath)"
   ]
  },
  {
   "cell_type": "code",
   "execution_count": null,
   "id": "f3accb34f49deb44",
   "metadata": {
    "ExecuteTime": {
     "end_time": "2024-02-22T19:33:52.883584600Z",
     "start_time": "2024-02-22T19:33:52.873316700Z"
    }
   },
   "outputs": [],
   "source": [
    "study_lst = [1, 2, 3]"
   ]
  },
  {
   "cell_type": "code",
   "execution_count": null,
   "id": "84b20079542e48d",
   "metadata": {
    "ExecuteTime": {
     "end_time": "2024-02-22T19:34:10.576450800Z",
     "start_time": "2024-02-22T19:33:52.883584600Z"
    }
   },
   "outputs": [],
   "source": [
    "plot_all(df, var_list_delivery, study_lst, \"Storyline #1 Single Strategy\")"
   ]
  },
  {
   "cell_type": "markdown",
   "id": "103b881ee6bb3de",
   "metadata": {},
   "source": [
    "##### Combination Strategy"
   ]
  },
  {
   "cell_type": "code",
   "execution_count": null,
   "id": "fd5f8a8943cac51a",
   "metadata": {
    "ExecuteTime": {
     "end_time": "2024-02-22T19:34:10.586084100Z",
     "start_time": "2024-02-22T19:34:10.578709200Z"
    }
   },
   "outputs": [],
   "source": [
    "study_lst = [2, 14, 302]"
   ]
  },
  {
   "cell_type": "code",
   "execution_count": null,
   "id": "57b82a11588f48fc",
   "metadata": {
    "ExecuteTime": {
     "end_time": "2024-02-22T19:34:28.190100700Z",
     "start_time": "2024-02-22T19:34:10.582991100Z"
    }
   },
   "outputs": [],
   "source": [
    "plot_all(df, var_list_delivery, study_lst, \"Storyline #1 Combination Strategy\")"
   ]
  },
  {
   "cell_type": "markdown",
   "id": "89fd1cae9f588346",
   "metadata": {},
   "source": [
    "##### Scenario #2 Single Strategy"
   ]
  },
  {
   "cell_type": "code",
   "execution_count": null,
   "id": "cd6305a7d5d5b3d3",
   "metadata": {
    "ExecuteTime": {
     "end_time": "2024-02-22T19:34:28.197719100Z",
     "start_time": "2024-02-22T19:34:28.192413200Z"
    }
   },
   "outputs": [],
   "source": [
    "study_lst = [32, 64]"
   ]
  },
  {
   "cell_type": "code",
   "execution_count": null,
   "id": "eb21693063f38731",
   "metadata": {
    "ExecuteTime": {
     "end_time": "2024-02-22T19:34:44.887006300Z",
     "start_time": "2024-02-22T19:34:28.195594500Z"
    }
   },
   "outputs": [],
   "source": [
    "plot_all(df, var_list_delivery, study_lst, \"Storyline #2 Single Strategy\")"
   ]
  },
  {
   "cell_type": "markdown",
   "id": "c92a9b9a31f5f436",
   "metadata": {},
   "source": [
    "##### Storyline #2 Combination Strategy"
   ]
  },
  {
   "cell_type": "code",
   "execution_count": null,
   "id": "7c44a80177ffa0e5",
   "metadata": {
    "ExecuteTime": {
     "end_time": "2024-02-22T19:34:44.894952400Z",
     "start_time": "2024-02-22T19:34:44.888004900Z"
    }
   },
   "outputs": [],
   "source": [
    "study_lst = [64, 80, 368]"
   ]
  },
  {
   "cell_type": "code",
   "execution_count": null,
   "id": "4abeaa951752b3be",
   "metadata": {
    "ExecuteTime": {
     "end_time": "2024-02-22T19:35:02.452394800Z",
     "start_time": "2024-02-22T19:34:44.891866400Z"
    }
   },
   "outputs": [],
   "source": [
    "plot_all(df, var_list_delivery, study_lst, \"Storyline #2 Combination Strategy\")"
   ]
  },
  {
   "cell_type": "markdown",
   "id": "4b69c6d0fb9fca1b",
   "metadata": {},
   "source": [
    "##### Strategy #3 Single Strategy"
   ]
  },
  {
   "cell_type": "code",
   "execution_count": null,
   "id": "db13629b18a0eb95",
   "metadata": {
    "ExecuteTime": {
     "end_time": "2024-02-22T19:35:02.461012700Z",
     "start_time": "2024-02-22T19:35:02.453498500Z"
    }
   },
   "outputs": [],
   "source": [
    "study_lst = [16]"
   ]
  },
  {
   "cell_type": "code",
   "execution_count": null,
   "id": "a5ab186763140d2f",
   "metadata": {
    "ExecuteTime": {
     "end_time": "2024-02-22T19:35:02.475003200Z",
     "start_time": "2024-02-22T19:35:02.457891100Z"
    }
   },
   "outputs": [],
   "source": [
    "var_list_delivery = var_list[3:7]\n",
    "var_list_delivery"
   ]
  },
  {
   "cell_type": "code",
   "execution_count": null,
   "id": "fb24cde99e5852b4",
   "metadata": {
    "ExecuteTime": {
     "end_time": "2024-02-22T19:35:24.616847500Z",
     "start_time": "2024-02-22T19:35:02.478239200Z"
    }
   },
   "outputs": [],
   "source": [
    "plot_all(df, var_list_delivery, study_lst, \"Storyline #3 Single Strategy\")"
   ]
  },
  {
   "cell_type": "markdown",
   "id": "8416a857775d6506",
   "metadata": {},
   "source": [
    "##### Storyline 3 Combination Strategy"
   ]
  },
  {
   "cell_type": "code",
   "execution_count": null,
   "id": "108817295f6ad2c5",
   "metadata": {
    "ExecuteTime": {
     "end_time": "2024-02-22T19:35:24.624568200Z",
     "start_time": "2024-02-22T19:35:24.617852300Z"
    }
   },
   "outputs": [],
   "source": [
    "study_lst = [16, 80, 210]"
   ]
  },
  {
   "cell_type": "code",
   "execution_count": null,
   "id": "8c959679c03931c",
   "metadata": {
    "ExecuteTime": {
     "end_time": "2024-02-22T19:35:47.840204700Z",
     "start_time": "2024-02-22T19:35:24.622507500Z"
    }
   },
   "outputs": [],
   "source": [
    "plot_all(df, var_list_delivery, study_lst, \"Storyline #3 Combination Strategy\")"
   ]
  },
  {
   "cell_type": "markdown",
   "id": "b3a327fda8a3bac2",
   "metadata": {},
   "source": [
    "##### NDO"
   ]
  },
  {
   "cell_type": "code",
   "execution_count": null,
   "id": "7b527b7627516077",
   "metadata": {
    "ExecuteTime": {
     "end_time": "2024-02-22T19:35:47.847991400Z",
     "start_time": "2024-02-22T19:35:47.842706500Z"
    }
   },
   "outputs": [],
   "source": [
    "study_lst = [32, 64]"
   ]
  },
  {
   "cell_type": "code",
   "execution_count": null,
   "id": "13e68c870787d13e",
   "metadata": {
    "ExecuteTime": {
     "end_time": "2024-02-22T19:35:47.862141200Z",
     "start_time": "2024-02-22T19:35:47.844892Z"
    }
   },
   "outputs": [],
   "source": [
    "var_list_ndo = [var_list[9]]\n",
    "var_list_ndo"
   ]
  },
  {
   "cell_type": "code",
   "execution_count": null,
   "id": "d0cf003ead19e6d2",
   "metadata": {
    "ExecuteTime": {
     "end_time": "2024-02-22T19:35:48.034598600Z",
     "start_time": "2024-02-22T19:35:47.863204500Z"
    }
   },
   "outputs": [],
   "source": [
    "def plot_all(df, vars, studies, storyline):\n",
    "    for var in vars:\n",
    "\n",
    "        fPath = f\"../visualizations/{storyline}/{var}\"\n",
    "        if not os.path.exists(fPath):\n",
    "            os.makedirs(fPath, exist_ok=True)\n",
    "\n",
    "\n",
    "        filter_df = slice_with_baseline(df, var, studies)\n",
    "\n",
    "        # Regular TS\n",
    "        plot_ts(filter_df, pTitle = 'Monthly Total', fTitle = 'Month_Tot', fPath = fPath)\n",
    "\n",
    "        #Exceedance\n",
    "        plot_exceedance(filter_df, xLab = 'Probability', pTitle = 'Monthly Exceedance Probability', fTitle = 'Mon_exceed', fPath = fPath)"
   ]
  },
  {
   "cell_type": "code",
   "execution_count": null,
   "id": "ae77e99bf5f1d3a4",
   "metadata": {
    "ExecuteTime": {
     "end_time": "2024-02-22T19:35:53.109937700Z",
     "start_time": "2024-02-22T19:35:47.867770200Z"
    }
   },
   "outputs": [],
   "source": [
    "plot_all(df, var_list_ndo, study_lst, \"Storyline #2 Single Strategy\")"
   ]
  },
  {
   "cell_type": "markdown",
   "id": "dade5fe528c1a39f",
   "metadata": {},
   "source": [
    "##### Storyline #2 Combination Strategy"
   ]
  },
  {
   "cell_type": "code",
   "execution_count": null,
   "id": "88f7f76db93218ce",
   "metadata": {
    "ExecuteTime": {
     "end_time": "2024-02-22T19:35:53.116272300Z",
     "start_time": "2024-02-22T19:35:53.108831800Z"
    }
   },
   "outputs": [],
   "source": [
    "study_lst = [64, 80, 368]"
   ]
  },
  {
   "cell_type": "code",
   "execution_count": null,
   "id": "2c924e74a4205450",
   "metadata": {
    "ExecuteTime": {
     "end_time": "2024-02-22T19:35:58.491341800Z",
     "start_time": "2024-02-22T19:35:53.114213700Z"
    }
   },
   "outputs": [],
   "source": [
    "plot_all(df, var_list_ndo, study_lst, \"Storyline #2 Combination Strategy\")"
   ]
  },
  {
   "cell_type": "markdown",
   "id": "fa385efe6c667f1d",
   "metadata": {},
   "source": [
    "##### Storyline #3 Single Strategy "
   ]
  },
  {
   "cell_type": "code",
   "execution_count": null,
   "id": "6790d997051484b6",
   "metadata": {
    "ExecuteTime": {
     "end_time": "2024-02-22T19:35:58.500174400Z",
     "start_time": "2024-02-22T19:35:58.493434500Z"
    }
   },
   "outputs": [],
   "source": [
    "study_lst = [16]"
   ]
  },
  {
   "cell_type": "code",
   "execution_count": null,
   "id": "aa514e030574c98d",
   "metadata": {
    "ExecuteTime": {
     "end_time": "2024-02-22T19:36:03.658838400Z",
     "start_time": "2024-02-22T19:35:58.497086200Z"
    }
   },
   "outputs": [],
   "source": [
    "plot_all(df, var_list_ndo, study_lst, \"Storyline #3 Single Strategy\")"
   ]
  },
  {
   "cell_type": "markdown",
   "id": "d418f5245e65ac7d",
   "metadata": {},
   "source": [
    "##### Storyline #3 Combination Strategy"
   ]
  },
  {
   "cell_type": "code",
   "execution_count": null,
   "id": "f256996f7b90edf5",
   "metadata": {
    "ExecuteTime": {
     "end_time": "2024-02-22T19:36:03.666743100Z",
     "start_time": "2024-02-22T19:36:03.659900600Z"
    }
   },
   "outputs": [],
   "source": [
    "study_lst = [16, 80, 210]"
   ]
  },
  {
   "cell_type": "code",
   "execution_count": null,
   "id": "7041d062c7a4f93c",
   "metadata": {
    "ExecuteTime": {
     "end_time": "2024-02-22T19:36:09.038139500Z",
     "start_time": "2024-02-22T19:36:03.664643300Z"
    }
   },
   "outputs": [],
   "source": [
    "plot_all(df, var_list_ndo, study_lst, \"Storyline #3 Combination Strategy\")"
   ]
  },
  {
   "cell_type": "markdown",
   "id": "1f07f6b3c51d8a9b",
   "metadata": {},
   "source": [
    "### Unused Code"
   ]
  },
  {
   "cell_type": "code",
   "execution_count": null,
   "id": "3eb391cb50d2d67a",
   "metadata": {},
   "outputs": [],
   "source": [
    "# def preprocess_data(df, addsl=False):\n",
    "#     dvar_list = []\n",
    "#     combined_df = pnd.DataFrame()\n",
    "#     \n",
    "#     for i, r in df.iterrows():\n",
    "#         dvar_list.append(f'/{r[\"DSS Part B\"]}/{r[\"DSS Part C\"]}/')\n",
    "# \n",
    "#     for study_name, launch_name, alias_name in zip(study_names, launch_names, alias):\n",
    "# \n",
    "#         launchFP_study = os.path.join(launch_base_directory, study_name)\n",
    "#         launchFP = os.path.join(launchFP_study, launch_name)\n",
    "#         print(launchFP)\n",
    "#         \n",
    "#         # Create a python \"calsim\" object\n",
    "#         thiscs3 = cs3.calsim(launchFP=launchFP, csvers=3, reorg=True)\n",
    "# \n",
    "#         # Retrieve the DSS data variables from the DSS file\n",
    "#         thiscs3.DVdata.getDVts(filter=dvar_list)\n",
    "# \n",
    "#         df = thiscs3.DVdata.DVtsDF.copy(deep=True)\n",
    "#         \n",
    "#         # if storage add the 2 variables to create a new one\n",
    "#         # Add S_SLSCVP and S_SLSWP into S_SLTOT\n",
    "# \n",
    "#         if addsl:\n",
    "#             df[('CALLITE', 'S_SLTOT', 'STORAGE', '1MON', '2020D09E', 'PER-AVER', 'TAF')] = df.loc[:,[('CALLITE', 'S_SLCVP', 'STORAGE', '1MON', '2020D09E', 'PER-AVER', 'TAF'),('CALLITE', 'S_SLSWP', 'STORAGE', '1MON', '2020D09E', 'PER-AVER', 'TAF')]].sum(axis=1)\n",
    "#       \n",
    "#         new_columns = [(col[0], f'{col[1]}_{alias_name}', *col[2:]) if len(col) > 1 else (col[0], '') for col in df.columns]\n",
    "#         df.columns = pnd.MultiIndex.from_tuples(new_columns)\n",
    "#         df.columns.names = ['A', 'B', 'C', 'D', 'E', 'F', 'Units']\n",
    "#         combined_df = pnd.concat([combined_df, df], axis=1)\n",
    "#     \n",
    "#     return combined_df"
   ]
  }
 ],
 "metadata": {
  "kernelspec": {
   "display_name": "Python 3 (ipykernel)",
   "language": "python",
   "name": "python3"
  },
  "language_info": {
   "codemirror_mode": {
    "name": "ipython",
    "version": 3
   },
   "file_extension": ".py",
   "mimetype": "text/x-python",
   "name": "python",
   "nbconvert_exporter": "python",
   "pygments_lexer": "ipython3",
   "version": "3.11.7"
  }
 },
 "nbformat": 4,
 "nbformat_minor": 5
}
