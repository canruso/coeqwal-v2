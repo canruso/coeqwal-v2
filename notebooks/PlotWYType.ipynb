{
 "cells": [
  {
   "cell_type": "code",
   "execution_count": 1,
   "id": "93c91bd1a1e8beca",
   "metadata": {
    "ExecuteTime": {
     "end_time": "2024-05-15T18:28:17.345488Z",
     "start_time": "2024-05-15T18:28:17.343297Z"
    }
   },
   "outputs": [],
   "source": [
    "# Import standard libraries\n",
    "import os\n",
    "import sys\n",
    "import importlib\n",
    "import datetime as dt\n",
    "import time\n",
    "from pathlib import Path\n",
    "from contextlib import redirect_stdout\n",
    "\n",
    "# Import data manipulation libraries\n",
    "import numpy as np\n",
    "import pandas as pd\n",
    "\n",
    "# Import visualization libraries\n",
    "import matplotlib.pyplot as plt\n",
    "import seaborn as sns"
   ]
  },
  {
   "cell_type": "code",
   "execution_count": null,
   "outputs": [],
   "source": [
    "# Import custom modules - NEED WINDOWS OS\n",
    "from CoEQWAL.imports import AuxFunctions as af, cs3, csPlots, cs_util as util, dss3_functions_reference as dss"
   ],
   "metadata": {
    "collapsed": false
   },
   "id": "ac7a4a349a4e7354"
  },
  {
   "cell_type": "markdown",
   "source": [
    "### Import Water Year Type Table"
   ],
   "metadata": {
    "collapsed": false
   },
   "id": "dc302946973d495a"
  },
  {
   "cell_type": "code",
   "execution_count": 4,
   "id": "b5ff1f38a6b354aa",
   "metadata": {
    "ExecuteTime": {
     "end_time": "2024-05-15T18:28:27.331732Z",
     "start_time": "2024-05-15T18:28:27.246084Z"
    }
   },
   "outputs": [
    {
     "data": {
      "text/plain": "    WATERYEAR  SACindex_0  SJRindex_0  SHASTAindex_0  AmerD893_0  \\\n0        1920           2           2              1           1   \n1        1921           2           2              1           1   \n2        1922           2           1              1           1   \n3        1923           3           2              3           1   \n4        1924           5           5              4           2   \n..        ...         ...         ...            ...         ...   \n79       1999           1           2              1           1   \n80       2000           2           2              1           1   \n81       2001           4           4              1           2   \n82       2003           2           3              1           1   \n83       2002           4           4              1           1   \n\n    FEATHERindex_0  Trinityindex_0  Amer403030_0  SACindex_1  SJRindex_1  ...  \\\n0                0               3             2           2           2  ...   \n1                0               3             2           2           2  ...   \n2                0               4             2           2           2  ...   \n3                0               4             3           4           3  ...   \n4                1               5             6           5           5  ...   \n..             ...             ...           ...         ...         ...  ...   \n79               0               2             0           1           3  ...   \n80               0               2             0           2           3  ...   \n81               0               4             0           5           5  ...   \n82               0               2             0           3           5  ...   \n83               0               3             0           5           5  ...   \n\n    Trinityindex_9  Amer403030_9  SACindex_10  SJRindex_10  SHASTAindex_10  \\\n0                3             2            2            2               1   \n1                3             2            2            2               1   \n2                3             2            1            1               1   \n3                4             3            3            2               3   \n4                5             6            5            5               4   \n..             ...           ...          ...          ...             ...   \n79               1             0            1            2               1   \n80               1             0            2            3               1   \n81               3             0            4            5               2   \n82               1             0            3            5               1   \n83               2             0            4            5               1   \n\n    AmerD893_10  FEATHERindex_10  Trinityindex_10  Amer403030_10  DriestYrs  \n0             1                0                3              2          0  \n1             1                0                3              2          0  \n2             1                0                4              2          0  \n3             1                0                4              3          0  \n4             2                1                5              6          0  \n..          ...              ...              ...            ...        ...  \n79            1                0                2              0          0  \n80            1                0                1              0          0  \n81            2                0                4              0          0  \n82            1                0                1              0          0  \n83            1                0                3              0          0  \n\n[84 rows x 79 columns]",
      "text/html": "<div>\n<style scoped>\n    .dataframe tbody tr th:only-of-type {\n        vertical-align: middle;\n    }\n\n    .dataframe tbody tr th {\n        vertical-align: top;\n    }\n\n    .dataframe thead th {\n        text-align: right;\n    }\n</style>\n<table border=\"1\" class=\"dataframe\">\n  <thead>\n    <tr style=\"text-align: right;\">\n      <th></th>\n      <th>WATERYEAR</th>\n      <th>SACindex_0</th>\n      <th>SJRindex_0</th>\n      <th>SHASTAindex_0</th>\n      <th>AmerD893_0</th>\n      <th>FEATHERindex_0</th>\n      <th>Trinityindex_0</th>\n      <th>Amer403030_0</th>\n      <th>SACindex_1</th>\n      <th>SJRindex_1</th>\n      <th>...</th>\n      <th>Trinityindex_9</th>\n      <th>Amer403030_9</th>\n      <th>SACindex_10</th>\n      <th>SJRindex_10</th>\n      <th>SHASTAindex_10</th>\n      <th>AmerD893_10</th>\n      <th>FEATHERindex_10</th>\n      <th>Trinityindex_10</th>\n      <th>Amer403030_10</th>\n      <th>DriestYrs</th>\n    </tr>\n  </thead>\n  <tbody>\n    <tr>\n      <th>0</th>\n      <td>1920</td>\n      <td>2</td>\n      <td>2</td>\n      <td>1</td>\n      <td>1</td>\n      <td>0</td>\n      <td>3</td>\n      <td>2</td>\n      <td>2</td>\n      <td>2</td>\n      <td>...</td>\n      <td>3</td>\n      <td>2</td>\n      <td>2</td>\n      <td>2</td>\n      <td>1</td>\n      <td>1</td>\n      <td>0</td>\n      <td>3</td>\n      <td>2</td>\n      <td>0</td>\n    </tr>\n    <tr>\n      <th>1</th>\n      <td>1921</td>\n      <td>2</td>\n      <td>2</td>\n      <td>1</td>\n      <td>1</td>\n      <td>0</td>\n      <td>3</td>\n      <td>2</td>\n      <td>2</td>\n      <td>2</td>\n      <td>...</td>\n      <td>3</td>\n      <td>2</td>\n      <td>2</td>\n      <td>2</td>\n      <td>1</td>\n      <td>1</td>\n      <td>0</td>\n      <td>3</td>\n      <td>2</td>\n      <td>0</td>\n    </tr>\n    <tr>\n      <th>2</th>\n      <td>1922</td>\n      <td>2</td>\n      <td>1</td>\n      <td>1</td>\n      <td>1</td>\n      <td>0</td>\n      <td>4</td>\n      <td>2</td>\n      <td>2</td>\n      <td>2</td>\n      <td>...</td>\n      <td>3</td>\n      <td>2</td>\n      <td>1</td>\n      <td>1</td>\n      <td>1</td>\n      <td>1</td>\n      <td>0</td>\n      <td>4</td>\n      <td>2</td>\n      <td>0</td>\n    </tr>\n    <tr>\n      <th>3</th>\n      <td>1923</td>\n      <td>3</td>\n      <td>2</td>\n      <td>3</td>\n      <td>1</td>\n      <td>0</td>\n      <td>4</td>\n      <td>3</td>\n      <td>4</td>\n      <td>3</td>\n      <td>...</td>\n      <td>4</td>\n      <td>3</td>\n      <td>3</td>\n      <td>2</td>\n      <td>3</td>\n      <td>1</td>\n      <td>0</td>\n      <td>4</td>\n      <td>3</td>\n      <td>0</td>\n    </tr>\n    <tr>\n      <th>4</th>\n      <td>1924</td>\n      <td>5</td>\n      <td>5</td>\n      <td>4</td>\n      <td>2</td>\n      <td>1</td>\n      <td>5</td>\n      <td>6</td>\n      <td>5</td>\n      <td>5</td>\n      <td>...</td>\n      <td>5</td>\n      <td>6</td>\n      <td>5</td>\n      <td>5</td>\n      <td>4</td>\n      <td>2</td>\n      <td>1</td>\n      <td>5</td>\n      <td>6</td>\n      <td>0</td>\n    </tr>\n    <tr>\n      <th>...</th>\n      <td>...</td>\n      <td>...</td>\n      <td>...</td>\n      <td>...</td>\n      <td>...</td>\n      <td>...</td>\n      <td>...</td>\n      <td>...</td>\n      <td>...</td>\n      <td>...</td>\n      <td>...</td>\n      <td>...</td>\n      <td>...</td>\n      <td>...</td>\n      <td>...</td>\n      <td>...</td>\n      <td>...</td>\n      <td>...</td>\n      <td>...</td>\n      <td>...</td>\n      <td>...</td>\n    </tr>\n    <tr>\n      <th>79</th>\n      <td>1999</td>\n      <td>1</td>\n      <td>2</td>\n      <td>1</td>\n      <td>1</td>\n      <td>0</td>\n      <td>2</td>\n      <td>0</td>\n      <td>1</td>\n      <td>3</td>\n      <td>...</td>\n      <td>1</td>\n      <td>0</td>\n      <td>1</td>\n      <td>2</td>\n      <td>1</td>\n      <td>1</td>\n      <td>0</td>\n      <td>2</td>\n      <td>0</td>\n      <td>0</td>\n    </tr>\n    <tr>\n      <th>80</th>\n      <td>2000</td>\n      <td>2</td>\n      <td>2</td>\n      <td>1</td>\n      <td>1</td>\n      <td>0</td>\n      <td>2</td>\n      <td>0</td>\n      <td>2</td>\n      <td>3</td>\n      <td>...</td>\n      <td>1</td>\n      <td>0</td>\n      <td>2</td>\n      <td>3</td>\n      <td>1</td>\n      <td>1</td>\n      <td>0</td>\n      <td>1</td>\n      <td>0</td>\n      <td>0</td>\n    </tr>\n    <tr>\n      <th>81</th>\n      <td>2001</td>\n      <td>4</td>\n      <td>4</td>\n      <td>1</td>\n      <td>2</td>\n      <td>0</td>\n      <td>4</td>\n      <td>0</td>\n      <td>5</td>\n      <td>5</td>\n      <td>...</td>\n      <td>3</td>\n      <td>0</td>\n      <td>4</td>\n      <td>5</td>\n      <td>2</td>\n      <td>2</td>\n      <td>0</td>\n      <td>4</td>\n      <td>0</td>\n      <td>0</td>\n    </tr>\n    <tr>\n      <th>82</th>\n      <td>2003</td>\n      <td>2</td>\n      <td>3</td>\n      <td>1</td>\n      <td>1</td>\n      <td>0</td>\n      <td>2</td>\n      <td>0</td>\n      <td>3</td>\n      <td>5</td>\n      <td>...</td>\n      <td>1</td>\n      <td>0</td>\n      <td>3</td>\n      <td>5</td>\n      <td>1</td>\n      <td>1</td>\n      <td>0</td>\n      <td>1</td>\n      <td>0</td>\n      <td>0</td>\n    </tr>\n    <tr>\n      <th>83</th>\n      <td>2002</td>\n      <td>4</td>\n      <td>4</td>\n      <td>1</td>\n      <td>1</td>\n      <td>0</td>\n      <td>3</td>\n      <td>0</td>\n      <td>5</td>\n      <td>5</td>\n      <td>...</td>\n      <td>2</td>\n      <td>0</td>\n      <td>4</td>\n      <td>5</td>\n      <td>1</td>\n      <td>1</td>\n      <td>0</td>\n      <td>3</td>\n      <td>0</td>\n      <td>0</td>\n    </tr>\n  </tbody>\n</table>\n<p>84 rows × 79 columns</p>\n</div>"
     },
     "execution_count": 4,
     "metadata": {},
     "output_type": "execute_result"
    }
   ],
   "source": [
    "df_wy = pd.read_csv(\"../data/wytypestable.csv\")\n",
    "df_wy"
   ]
  },
  {
   "cell_type": "code",
   "execution_count": 5,
   "id": "dc1e9fae98976c3d",
   "metadata": {
    "ExecuteTime": {
     "end_time": "2024-05-15T18:28:33.025938Z",
     "start_time": "2024-05-15T18:28:32.956686Z"
    }
   },
   "outputs": [
    {
     "data": {
      "text/plain": "   SACindex_0  SJRindex_0  SHASTAindex_0  AmerD893_0  FEATHERindex_0  \\\n0           2           2              1           1               0   \n1           2           2              1           1               0   \n2           2           1              1           1               0   \n3           3           2              3           1               0   \n4           5           5              4           2               1   \n\n   Trinityindex_0  Amer403030_0  WATERYEAR  \n0               3             2       1920  \n1               3             2       1921  \n2               4             2       1922  \n3               4             3       1923  \n4               5             6       1924  ",
      "text/html": "<div>\n<style scoped>\n    .dataframe tbody tr th:only-of-type {\n        vertical-align: middle;\n    }\n\n    .dataframe tbody tr th {\n        vertical-align: top;\n    }\n\n    .dataframe thead th {\n        text-align: right;\n    }\n</style>\n<table border=\"1\" class=\"dataframe\">\n  <thead>\n    <tr style=\"text-align: right;\">\n      <th></th>\n      <th>SACindex_0</th>\n      <th>SJRindex_0</th>\n      <th>SHASTAindex_0</th>\n      <th>AmerD893_0</th>\n      <th>FEATHERindex_0</th>\n      <th>Trinityindex_0</th>\n      <th>Amer403030_0</th>\n      <th>WATERYEAR</th>\n    </tr>\n  </thead>\n  <tbody>\n    <tr>\n      <th>0</th>\n      <td>2</td>\n      <td>2</td>\n      <td>1</td>\n      <td>1</td>\n      <td>0</td>\n      <td>3</td>\n      <td>2</td>\n      <td>1920</td>\n    </tr>\n    <tr>\n      <th>1</th>\n      <td>2</td>\n      <td>2</td>\n      <td>1</td>\n      <td>1</td>\n      <td>0</td>\n      <td>3</td>\n      <td>2</td>\n      <td>1921</td>\n    </tr>\n    <tr>\n      <th>2</th>\n      <td>2</td>\n      <td>1</td>\n      <td>1</td>\n      <td>1</td>\n      <td>0</td>\n      <td>4</td>\n      <td>2</td>\n      <td>1922</td>\n    </tr>\n    <tr>\n      <th>3</th>\n      <td>3</td>\n      <td>2</td>\n      <td>3</td>\n      <td>1</td>\n      <td>0</td>\n      <td>4</td>\n      <td>3</td>\n      <td>1923</td>\n    </tr>\n    <tr>\n      <th>4</th>\n      <td>5</td>\n      <td>5</td>\n      <td>4</td>\n      <td>2</td>\n      <td>1</td>\n      <td>5</td>\n      <td>6</td>\n      <td>1924</td>\n    </tr>\n  </tbody>\n</table>\n</div>"
     },
     "execution_count": 5,
     "metadata": {},
     "output_type": "execute_result"
    }
   ],
   "source": [
    "baseline_cols = [col for col in df_wy.columns if col.endswith('_0')]\n",
    "baseline_cols.append(\"WATERYEAR\")\n",
    "df_wy_filter = df_wy[baseline_cols]\n",
    "df_wy_filter.head(5)"
   ]
  },
  {
   "cell_type": "code",
   "execution_count": 24,
   "id": "d10872ed80acd9d6",
   "metadata": {
    "ExecuteTime": {
     "end_time": "2024-04-09T21:21:39.268567Z",
     "start_time": "2024-04-09T21:21:35.938457Z"
    }
   },
   "outputs": [],
   "source": [
    "df = pd.read_csv(\"../data/EDA_data_04_09_24.csv\", header=[0, 1, 2, 3, 4, 5, 6], index_col=0, parse_dates=True)\n",
    "df = df.loc[:, ~df.columns.get_level_values(6).str.contains('CFS.1')]\n",
    "var_df = pd.read_csv(\"EDA_vars_04_09_24.csv\")\n",
    "dss_names = pd.read_csv(\"dss_names.csv\")[\"0\"].tolist()\n",
    "df.head(5)\n",
    "var_list = var_df[\"DSS Part B\"].tolist()"
   ]
  },
  {
   "cell_type": "code",
   "execution_count": 25,
   "id": "84bf7c87d5e5408d",
   "metadata": {
    "ExecuteTime": {
     "end_time": "2024-04-09T01:54:18.794408Z",
     "start_time": "2024-04-09T01:54:18.786262Z"
    }
   },
   "outputs": [
    {
     "data": {
      "text/html": [
       "<div>\n",
       "<style scoped>\n",
       "    .dataframe tbody tr th:only-of-type {\n",
       "        vertical-align: middle;\n",
       "    }\n",
       "\n",
       "    .dataframe tbody tr th {\n",
       "        vertical-align: top;\n",
       "    }\n",
       "\n",
       "    .dataframe thead th {\n",
       "        text-align: right;\n",
       "    }\n",
       "</style>\n",
       "<table border=\"1\" class=\"dataframe\">\n",
       "  <thead>\n",
       "    <tr style=\"text-align: right;\">\n",
       "      <th></th>\n",
       "      <th>Unnamed: 0</th>\n",
       "      <th>DSS Part B</th>\n",
       "      <th>DSS Part C</th>\n",
       "    </tr>\n",
       "  </thead>\n",
       "  <tbody>\n",
       "    <tr>\n",
       "      <th>0</th>\n",
       "      <td>0</td>\n",
       "      <td>S_SHSTA</td>\n",
       "      <td>STORAGE</td>\n",
       "    </tr>\n",
       "    <tr>\n",
       "      <th>1</th>\n",
       "      <td>1</td>\n",
       "      <td>S_OROVL</td>\n",
       "      <td>STORAGE</td>\n",
       "    </tr>\n",
       "    <tr>\n",
       "      <th>2</th>\n",
       "      <td>2</td>\n",
       "      <td>S_TRNTY</td>\n",
       "      <td>STORAGE</td>\n",
       "    </tr>\n",
       "    <tr>\n",
       "      <th>3</th>\n",
       "      <td>3</td>\n",
       "      <td>S_MELON</td>\n",
       "      <td>STORAGE</td>\n",
       "    </tr>\n",
       "    <tr>\n",
       "      <th>4</th>\n",
       "      <td>4</td>\n",
       "      <td>S_MLRTN</td>\n",
       "      <td>STORAGE</td>\n",
       "    </tr>\n",
       "    <tr>\n",
       "      <th>5</th>\n",
       "      <td>5</td>\n",
       "      <td>S_SHSTALEVEL1DV</td>\n",
       "      <td>STORAGE-LEVEL</td>\n",
       "    </tr>\n",
       "    <tr>\n",
       "      <th>6</th>\n",
       "      <td>6</td>\n",
       "      <td>S_SHSTALEVEL5DV</td>\n",
       "      <td>STORAGE-LEVEL</td>\n",
       "    </tr>\n",
       "    <tr>\n",
       "      <th>7</th>\n",
       "      <td>7</td>\n",
       "      <td>S_OROVLLEVEL1DV</td>\n",
       "      <td>STORAGE-LEVEL</td>\n",
       "    </tr>\n",
       "    <tr>\n",
       "      <th>8</th>\n",
       "      <td>8</td>\n",
       "      <td>S_TRNTYLEVEL1DV</td>\n",
       "      <td>STORAGE-LEVEL</td>\n",
       "    </tr>\n",
       "    <tr>\n",
       "      <th>9</th>\n",
       "      <td>9</td>\n",
       "      <td>S_MELONLEVEL1DV</td>\n",
       "      <td>STORAGE-LEVEL</td>\n",
       "    </tr>\n",
       "    <tr>\n",
       "      <th>10</th>\n",
       "      <td>10</td>\n",
       "      <td>S_MELONLEVEL4DV</td>\n",
       "      <td>STORAGE-LEVEL</td>\n",
       "    </tr>\n",
       "    <tr>\n",
       "      <th>11</th>\n",
       "      <td>11</td>\n",
       "      <td>S_MLRTNLEVEL1DV</td>\n",
       "      <td>STORAGE-LEVEL</td>\n",
       "    </tr>\n",
       "    <tr>\n",
       "      <th>12</th>\n",
       "      <td>12</td>\n",
       "      <td>DEL_CVP_TOTAL_N</td>\n",
       "      <td>DELIVERY-CVP</td>\n",
       "    </tr>\n",
       "    <tr>\n",
       "      <th>13</th>\n",
       "      <td>13</td>\n",
       "      <td>DEL_CVP_TOTAL_S</td>\n",
       "      <td>DELIVERY-CVP</td>\n",
       "    </tr>\n",
       "    <tr>\n",
       "      <th>14</th>\n",
       "      <td>14</td>\n",
       "      <td>DEL_CVP_PAG_S</td>\n",
       "      <td>DELIVERY-CVP</td>\n",
       "    </tr>\n",
       "    <tr>\n",
       "      <th>15</th>\n",
       "      <td>15</td>\n",
       "      <td>DEL_CVP_PAG_N</td>\n",
       "      <td>DELIVERY-CVP</td>\n",
       "    </tr>\n",
       "    <tr>\n",
       "      <th>16</th>\n",
       "      <td>16</td>\n",
       "      <td>DEL_CVP_PRF_S</td>\n",
       "      <td>DELIVERY-CVP</td>\n",
       "    </tr>\n",
       "    <tr>\n",
       "      <th>17</th>\n",
       "      <td>17</td>\n",
       "      <td>DEL_CVP_PEX_S</td>\n",
       "      <td>DELIVERY-CVP</td>\n",
       "    </tr>\n",
       "    <tr>\n",
       "      <th>18</th>\n",
       "      <td>18</td>\n",
       "      <td>DEL_CVP_PSC_N</td>\n",
       "      <td>DELIVERY-CVP</td>\n",
       "    </tr>\n",
       "    <tr>\n",
       "      <th>19</th>\n",
       "      <td>19</td>\n",
       "      <td>DEL_SWP_PMI</td>\n",
       "      <td>DELIVERY-SWP</td>\n",
       "    </tr>\n",
       "    <tr>\n",
       "      <th>20</th>\n",
       "      <td>20</td>\n",
       "      <td>DEL_SWP_MWD</td>\n",
       "      <td>DELIVERY-SWP</td>\n",
       "    </tr>\n",
       "    <tr>\n",
       "      <th>21</th>\n",
       "      <td>21</td>\n",
       "      <td>C_WILKNS</td>\n",
       "      <td>FLOW-CHANNEL</td>\n",
       "    </tr>\n",
       "    <tr>\n",
       "      <th>22</th>\n",
       "      <td>22</td>\n",
       "      <td>C_SJRVER</td>\n",
       "      <td>FLOW-CHANNEL</td>\n",
       "    </tr>\n",
       "    <tr>\n",
       "      <th>23</th>\n",
       "      <td>23</td>\n",
       "      <td>D_BANKS</td>\n",
       "      <td>FLOW-DELIVERY</td>\n",
       "    </tr>\n",
       "    <tr>\n",
       "      <th>24</th>\n",
       "      <td>24</td>\n",
       "      <td>D_JONES</td>\n",
       "      <td>FLOW-DELIVERY</td>\n",
       "    </tr>\n",
       "    <tr>\n",
       "      <th>25</th>\n",
       "      <td>25</td>\n",
       "      <td>NDO</td>\n",
       "      <td>FLOW-NDO</td>\n",
       "    </tr>\n",
       "    <tr>\n",
       "      <th>26</th>\n",
       "      <td>26</td>\n",
       "      <td>X2_PRV</td>\n",
       "      <td>X2-POSITION-PREV</td>\n",
       "    </tr>\n",
       "    <tr>\n",
       "      <th>27</th>\n",
       "      <td>27</td>\n",
       "      <td>UNIMP_SRBB_CFS_DV</td>\n",
       "      <td>FLOW-UNIMPAIRED</td>\n",
       "    </tr>\n",
       "    <tr>\n",
       "      <th>28</th>\n",
       "      <td>28</td>\n",
       "      <td>UNIMP_YUBA_CFS_DV</td>\n",
       "      <td>FLOW-UNIMPAIRED</td>\n",
       "    </tr>\n",
       "    <tr>\n",
       "      <th>29</th>\n",
       "      <td>29</td>\n",
       "      <td>UNIMP_FEA_CFS_DV</td>\n",
       "      <td>FLOW-UNIMPAIRED</td>\n",
       "    </tr>\n",
       "    <tr>\n",
       "      <th>30</th>\n",
       "      <td>30</td>\n",
       "      <td>UNIMP_YUBFEA_CFS_DV</td>\n",
       "      <td>FLOW-UNIMPAIRED</td>\n",
       "    </tr>\n",
       "    <tr>\n",
       "      <th>31</th>\n",
       "      <td>31</td>\n",
       "      <td>UNIMP_FOLS_CFS_DV</td>\n",
       "      <td>FLOW-UNIMPAIRED</td>\n",
       "    </tr>\n",
       "    <tr>\n",
       "      <th>32</th>\n",
       "      <td>32</td>\n",
       "      <td>UNIMP_ST_CCFS_DV</td>\n",
       "      <td>FLOW-UNIMPAIRED</td>\n",
       "    </tr>\n",
       "    <tr>\n",
       "      <th>33</th>\n",
       "      <td>33</td>\n",
       "      <td>UNIMP_TU_CFS_DV</td>\n",
       "      <td>FLOW-UNIMPAIRED</td>\n",
       "    </tr>\n",
       "    <tr>\n",
       "      <th>34</th>\n",
       "      <td>34</td>\n",
       "      <td>UNIMP_ME_CFS_DV</td>\n",
       "      <td>FLOW-UNIMPAIRED</td>\n",
       "    </tr>\n",
       "    <tr>\n",
       "      <th>35</th>\n",
       "      <td>35</td>\n",
       "      <td>UNIMP_SJ_CFS_DV</td>\n",
       "      <td>FLOW-UNIMPAIRED</td>\n",
       "    </tr>\n",
       "  </tbody>\n",
       "</table>\n",
       "</div>"
      ],
      "text/plain": [
       "    Unnamed: 0           DSS Part B        DSS Part C\n",
       "0            0              S_SHSTA           STORAGE\n",
       "1            1              S_OROVL           STORAGE\n",
       "2            2              S_TRNTY           STORAGE\n",
       "3            3              S_MELON           STORAGE\n",
       "4            4              S_MLRTN           STORAGE\n",
       "5            5      S_SHSTALEVEL1DV     STORAGE-LEVEL\n",
       "6            6      S_SHSTALEVEL5DV     STORAGE-LEVEL\n",
       "7            7      S_OROVLLEVEL1DV     STORAGE-LEVEL\n",
       "8            8      S_TRNTYLEVEL1DV     STORAGE-LEVEL\n",
       "9            9      S_MELONLEVEL1DV     STORAGE-LEVEL\n",
       "10          10      S_MELONLEVEL4DV     STORAGE-LEVEL\n",
       "11          11      S_MLRTNLEVEL1DV     STORAGE-LEVEL\n",
       "12          12      DEL_CVP_TOTAL_N      DELIVERY-CVP\n",
       "13          13      DEL_CVP_TOTAL_S      DELIVERY-CVP\n",
       "14          14        DEL_CVP_PAG_S      DELIVERY-CVP\n",
       "15          15        DEL_CVP_PAG_N      DELIVERY-CVP\n",
       "16          16        DEL_CVP_PRF_S      DELIVERY-CVP\n",
       "17          17       DEL_CVP_PEX_S       DELIVERY-CVP\n",
       "18          18        DEL_CVP_PSC_N      DELIVERY-CVP\n",
       "19          19          DEL_SWP_PMI      DELIVERY-SWP\n",
       "20          20          DEL_SWP_MWD      DELIVERY-SWP\n",
       "21          21             C_WILKNS      FLOW-CHANNEL\n",
       "22          22             C_SJRVER      FLOW-CHANNEL\n",
       "23          23              D_BANKS     FLOW-DELIVERY\n",
       "24          24              D_JONES     FLOW-DELIVERY\n",
       "25          25                  NDO          FLOW-NDO\n",
       "26          26               X2_PRV  X2-POSITION-PREV\n",
       "27          27    UNIMP_SRBB_CFS_DV   FLOW-UNIMPAIRED\n",
       "28          28    UNIMP_YUBA_CFS_DV   FLOW-UNIMPAIRED\n",
       "29          29     UNIMP_FEA_CFS_DV   FLOW-UNIMPAIRED\n",
       "30          30  UNIMP_YUBFEA_CFS_DV   FLOW-UNIMPAIRED\n",
       "31          31    UNIMP_FOLS_CFS_DV   FLOW-UNIMPAIRED\n",
       "32          32     UNIMP_ST_CCFS_DV   FLOW-UNIMPAIRED\n",
       "33          33      UNIMP_TU_CFS_DV   FLOW-UNIMPAIRED\n",
       "34          34      UNIMP_ME_CFS_DV   FLOW-UNIMPAIRED\n",
       "35          35      UNIMP_SJ_CFS_DV   FLOW-UNIMPAIRED"
      ]
     },
     "execution_count": 25,
     "metadata": {},
     "output_type": "execute_result"
    }
   ],
   "source": [
    "var_df"
   ]
  },
  {
   "cell_type": "markdown",
   "id": "cce0ec91acb5f32",
   "metadata": {},
   "source": [
    "## Subset by variable across studies"
   ]
  },
  {
   "cell_type": "code",
   "execution_count": 26,
   "id": "6f525fa4b6b731fc",
   "metadata": {
    "ExecuteTime": {
     "end_time": "2024-04-09T21:18:21.766863Z",
     "start_time": "2024-04-09T21:18:21.734600Z"
    }
   },
   "outputs": [],
   "source": [
    "def create_subset(df, varname):\n",
    "    \"\"\" \n",
    "    Filters df to return columns that contain the string varname\n",
    "    :param df: Dataframe to filter\n",
    "    :param varname: variable of interest, e.g. S_SHSTA\n",
    "    \"\"\"\n",
    "    filtered_columns = df.columns.get_level_values(1).str.contains(varname)\n",
    "    return df.loc[:, filtered_columns]"
   ]
  },
  {
   "cell_type": "code",
   "execution_count": 27,
   "id": "f72a1386c74efa53",
   "metadata": {
    "ExecuteTime": {
     "end_time": "2024-04-09T21:18:21.910238Z",
     "start_time": "2024-04-09T21:18:21.878531Z"
    },
    "collapsed": false
   },
   "outputs": [],
   "source": [
    "def create_subset_list(df, var_names):\n",
    "    \"\"\" \n",
    "    Filters df to return columns that contain any of the strings in var_names.\n",
    "    :param df: Dataframe to filter.\n",
    "    :param var_names: List of variables of interest, e.g. ['S_SHSTA', 'S_OROVL'].\n",
    "    \"\"\"\n",
    "    filtered_columns = df.columns.get_level_values(1).str.contains('|'.join(var_names))\n",
    "    return df.loc[:, filtered_columns]"
   ]
  },
  {
   "cell_type": "code",
   "execution_count": 28,
   "id": "afbb343d19bfe120",
   "metadata": {
    "ExecuteTime": {
     "end_time": "2024-04-09T21:18:23.296654Z",
     "start_time": "2024-04-09T21:18:23.268560Z"
    },
    "collapsed": false
   },
   "outputs": [],
   "source": [
    "def compute_annual_means(df, variable_list, study_lst, months=None):\n",
    "    subset_df = create_subset_list(df, variable_list).iloc[:, study_lst]\n",
    "    if months is not None:\n",
    "        subset_df = subset_df[subset_df.index.month.isin(months)]\n",
    "    sum_df = subset_df.sum(axis=1)\n",
    "    \n",
    "    annual_mean = sum_df.resample('Y').mean() / len(study_lst)\n",
    "\n",
    "    return annual_mean.to_frame(name='Annual Mean')"
   ]
  },
  {
   "cell_type": "code",
   "execution_count": 29,
   "id": "9fac0ea443befde6",
   "metadata": {
    "ExecuteTime": {
     "end_time": "2024-04-09T21:19:44.551837Z",
     "start_time": "2024-04-09T21:19:44.503301Z"
    },
    "collapsed": false
   },
   "outputs": [],
   "source": [
    "def compute_mean(df, variable_list, study_lst, months):\n",
    "    df = compute_annual_means(df, variable_list, study_lst, months)\n",
    "    return sum(df[\"Annual Mean\"]) / df.shape[0]"
   ]
  },
  {
   "cell_type": "code",
   "execution_count": 34,
   "outputs": [],
   "source": [
    "fPath = \"../visualizations\""
   ],
   "metadata": {
    "collapsed": false
   },
   "id": "73dfb876b115cb59"
  },
  {
   "cell_type": "code",
   "execution_count": 35,
   "id": "91414460-87fa-4063-90d5-66ca74cd0b42",
   "metadata": {},
   "outputs": [],
   "source": [
    "SECS_IN_MONTH = 2628000\n",
    "\n",
    "def convert_cfs_to_taf(df):\n",
    "    \n",
    "#    columns_to_convert = [col for col in df.columns if ('DEL' in col[1] or 'NDO' in col[1]) and 'CFS' in col[6]]\n",
    "    columns_to_convert = [col for col in df.columns if 'DEL' in col[1] and 'CFS' in col[6]]\n",
    "    for column in columns_to_convert:\n",
    "        df[column] = (df[column] * SECS_IN_MONTH) / 1000\n",
    "\n",
    "    new_columns = []\n",
    "    for col in df.columns:\n",
    "        if col in columns_to_convert:\n",
    "            new_col = col[:6] + ('TAF',) + col[7:]  \n",
    "            new_columns.append(new_col)\n",
    "        else:\n",
    "            new_columns.append(col)\n",
    "\n",
    "    df.columns = pd.MultiIndex.from_tuples(new_columns) \n",
    "\n",
    "    return df"
   ]
  },
  {
   "cell_type": "code",
   "execution_count": 37,
   "id": "930bca1e-b998-4cd6-8c68-1d60d0970426",
   "metadata": {},
   "outputs": [
    {
     "data": {
      "text/html": [
       "<div>\n",
       "<style scoped>\n",
       "    .dataframe tbody tr th:only-of-type {\n",
       "        vertical-align: middle;\n",
       "    }\n",
       "\n",
       "    .dataframe tbody tr th {\n",
       "        vertical-align: top;\n",
       "    }\n",
       "\n",
       "    .dataframe thead tr th {\n",
       "        text-align: left;\n",
       "    }\n",
       "</style>\n",
       "<table border=\"1\" class=\"dataframe\">\n",
       "  <thead>\n",
       "    <tr>\n",
       "      <th></th>\n",
       "      <th colspan=\"21\" halign=\"left\">CALLITE</th>\n",
       "    </tr>\n",
       "    <tr>\n",
       "      <th></th>\n",
       "      <th>C_SJRVER_expl0000</th>\n",
       "      <th>C_WILKNS_expl0000</th>\n",
       "      <th>DEL_CVP_PAG_N_expl0000</th>\n",
       "      <th>DEL_CVP_PAG_S_expl0000</th>\n",
       "      <th>DEL_CVP_PRF_S_expl0000</th>\n",
       "      <th>DEL_CVP_PSC_N_expl0000</th>\n",
       "      <th>DEL_CVP_TOTAL_N_expl0000</th>\n",
       "      <th>DEL_CVP_TOTAL_S_expl0000</th>\n",
       "      <th>DEL_SWP_MWD_expl0000</th>\n",
       "      <th>DEL_SWP_PMI_expl0000</th>\n",
       "      <th>...</th>\n",
       "      <th>UNIMP_SJ_CFS_DV_expl0383</th>\n",
       "      <th>UNIMP_SRBB_CFS_DV_expl0383</th>\n",
       "      <th>UNIMP_TU_CFS_DV_expl0383</th>\n",
       "      <th>UNIMP_YUBA_CFS_DV_expl0383</th>\n",
       "      <th>UNIMP_YUBFEA_CFS_DV_expl0383</th>\n",
       "      <th>X2_PRV_expl0383</th>\n",
       "      <th>D_JONES_TAF_expl0383</th>\n",
       "      <th>D_BANKS_TAF_expl0383</th>\n",
       "      <th>D_TOT_expl0383</th>\n",
       "      <th>S_RESTOT_expl0383</th>\n",
       "    </tr>\n",
       "    <tr>\n",
       "      <th></th>\n",
       "      <th>FLOW-CHANNEL</th>\n",
       "      <th>FLOW-CHANNEL</th>\n",
       "      <th>DELIVERY-CVP</th>\n",
       "      <th>DELIVERY-CVP</th>\n",
       "      <th>DELIVERY-CVP</th>\n",
       "      <th>DELIVERY-CVP</th>\n",
       "      <th>DELIVERY-CVP</th>\n",
       "      <th>DELIVERY-CVP</th>\n",
       "      <th>DELIVERY-SWP</th>\n",
       "      <th>DELIVERY-SWP</th>\n",
       "      <th>...</th>\n",
       "      <th>FLOW-UNIMPAIRED</th>\n",
       "      <th>FLOW-UNIMPAIRED</th>\n",
       "      <th>FLOW-UNIMPAIRED</th>\n",
       "      <th>FLOW-UNIMPAIRED</th>\n",
       "      <th>FLOW-UNIMPAIRED</th>\n",
       "      <th>X2-POSITION-PREV</th>\n",
       "      <th>FLOW-DELIVERY</th>\n",
       "      <th>FLOW-DELIVERY</th>\n",
       "      <th>FLOW-DELIVERY</th>\n",
       "      <th>STORAGE</th>\n",
       "    </tr>\n",
       "    <tr>\n",
       "      <th></th>\n",
       "      <th>1MON</th>\n",
       "      <th>1MON</th>\n",
       "      <th>1MON</th>\n",
       "      <th>1MON</th>\n",
       "      <th>1MON</th>\n",
       "      <th>1MON</th>\n",
       "      <th>1MON</th>\n",
       "      <th>1MON</th>\n",
       "      <th>1MON</th>\n",
       "      <th>1MON</th>\n",
       "      <th>...</th>\n",
       "      <th>1MON</th>\n",
       "      <th>1MON</th>\n",
       "      <th>1MON</th>\n",
       "      <th>1MON</th>\n",
       "      <th>1MON</th>\n",
       "      <th>1MON</th>\n",
       "      <th>1MON</th>\n",
       "      <th>1MON</th>\n",
       "      <th>1MON</th>\n",
       "      <th>1MON</th>\n",
       "    </tr>\n",
       "    <tr>\n",
       "      <th></th>\n",
       "      <th>2020D09E</th>\n",
       "      <th>2020D09E</th>\n",
       "      <th>2020D09E</th>\n",
       "      <th>2020D09E</th>\n",
       "      <th>2020D09E</th>\n",
       "      <th>2020D09E</th>\n",
       "      <th>2020D09E</th>\n",
       "      <th>2020D09E</th>\n",
       "      <th>2020D09E</th>\n",
       "      <th>2020D09E</th>\n",
       "      <th>...</th>\n",
       "      <th>2020D09E</th>\n",
       "      <th>2020D09E</th>\n",
       "      <th>2020D09E</th>\n",
       "      <th>2020D09E</th>\n",
       "      <th>2020D09E</th>\n",
       "      <th>2020D09E</th>\n",
       "      <th>2020D09E</th>\n",
       "      <th>2020D09E</th>\n",
       "      <th>2020D09E</th>\n",
       "      <th>2020D09E</th>\n",
       "    </tr>\n",
       "    <tr>\n",
       "      <th></th>\n",
       "      <th>PER-AVER</th>\n",
       "      <th>PER-AVER</th>\n",
       "      <th>PER-AVER</th>\n",
       "      <th>PER-AVER</th>\n",
       "      <th>PER-AVER</th>\n",
       "      <th>PER-AVER</th>\n",
       "      <th>PER-AVER</th>\n",
       "      <th>PER-AVER</th>\n",
       "      <th>PER-AVER</th>\n",
       "      <th>PER-AVER</th>\n",
       "      <th>...</th>\n",
       "      <th>PER-AVER</th>\n",
       "      <th>PER-AVER</th>\n",
       "      <th>PER-AVER</th>\n",
       "      <th>PER-AVER</th>\n",
       "      <th>PER-AVER</th>\n",
       "      <th>PER-AVER</th>\n",
       "      <th>PER-AVER</th>\n",
       "      <th>PER-AVER</th>\n",
       "      <th>PER-AVER</th>\n",
       "      <th>PER-AVER</th>\n",
       "    </tr>\n",
       "    <tr>\n",
       "      <th></th>\n",
       "      <th>CFS</th>\n",
       "      <th>CFS</th>\n",
       "      <th>TAF</th>\n",
       "      <th>TAF</th>\n",
       "      <th>TAF</th>\n",
       "      <th>TAF</th>\n",
       "      <th>TAF</th>\n",
       "      <th>TAF</th>\n",
       "      <th>TAF</th>\n",
       "      <th>TAF</th>\n",
       "      <th>...</th>\n",
       "      <th>CFS</th>\n",
       "      <th>CFS</th>\n",
       "      <th>CFS</th>\n",
       "      <th>CFS</th>\n",
       "      <th>CFS</th>\n",
       "      <th>KM</th>\n",
       "      <th>TAF</th>\n",
       "      <th>TAF</th>\n",
       "      <th>TAF</th>\n",
       "      <th>TAF</th>\n",
       "    </tr>\n",
       "  </thead>\n",
       "  <tbody>\n",
       "    <tr>\n",
       "      <th>1921-10-31</th>\n",
       "      <td>2505.2790</td>\n",
       "      <td>5427.5645</td>\n",
       "      <td>2.092484e+05</td>\n",
       "      <td>2.423343e+06</td>\n",
       "      <td>2.813381e+06</td>\n",
       "      <td>2.041487e+06</td>\n",
       "      <td>3.710914e+06</td>\n",
       "      <td>8.575424e+06</td>\n",
       "      <td>6.493492e+06</td>\n",
       "      <td>1.116402e+07</td>\n",
       "      <td>...</td>\n",
       "      <td>174.01881</td>\n",
       "      <td>3935.7527</td>\n",
       "      <td>94.32796</td>\n",
       "      <td>408.21237</td>\n",
       "      <td>1728.8037</td>\n",
       "      <td>68.202870</td>\n",
       "      <td>170.78238</td>\n",
       "      <td>403.27628</td>\n",
       "      <td>574.05865</td>\n",
       "      <td>8793.0510</td>\n",
       "    </tr>\n",
       "    <tr>\n",
       "      <th>1921-11-30</th>\n",
       "      <td>1977.8469</td>\n",
       "      <td>4904.4517</td>\n",
       "      <td>0.000000e+00</td>\n",
       "      <td>1.848376e+06</td>\n",
       "      <td>1.812635e+06</td>\n",
       "      <td>2.603797e+06</td>\n",
       "      <td>3.688032e+06</td>\n",
       "      <td>5.393127e+06</td>\n",
       "      <td>6.396417e+06</td>\n",
       "      <td>1.186342e+07</td>\n",
       "      <td>...</td>\n",
       "      <td>166.37500</td>\n",
       "      <td>4856.8057</td>\n",
       "      <td>102.17778</td>\n",
       "      <td>524.33340</td>\n",
       "      <td>2204.8890</td>\n",
       "      <td>67.435990</td>\n",
       "      <td>141.08742</td>\n",
       "      <td>331.10460</td>\n",
       "      <td>472.19202</td>\n",
       "      <td>8698.9300</td>\n",
       "    </tr>\n",
       "    <tr>\n",
       "      <th>1921-12-31</th>\n",
       "      <td>2740.8728</td>\n",
       "      <td>9056.1770</td>\n",
       "      <td>0.000000e+00</td>\n",
       "      <td>2.557507e+06</td>\n",
       "      <td>8.270460e+05</td>\n",
       "      <td>0.000000e+00</td>\n",
       "      <td>7.394474e+05</td>\n",
       "      <td>4.620543e+06</td>\n",
       "      <td>5.373313e+06</td>\n",
       "      <td>1.044180e+07</td>\n",
       "      <td>...</td>\n",
       "      <td>959.54300</td>\n",
       "      <td>8814.7850</td>\n",
       "      <td>887.98380</td>\n",
       "      <td>1836.14250</td>\n",
       "      <td>4991.2500</td>\n",
       "      <td>73.796830</td>\n",
       "      <td>254.83131</td>\n",
       "      <td>426.15015</td>\n",
       "      <td>680.98145</td>\n",
       "      <td>8713.6930</td>\n",
       "    </tr>\n",
       "    <tr>\n",
       "      <th>1922-01-31</th>\n",
       "      <td>2577.6514</td>\n",
       "      <td>6841.2305</td>\n",
       "      <td>0.000000e+00</td>\n",
       "      <td>4.489400e+06</td>\n",
       "      <td>3.715057e+05</td>\n",
       "      <td>6.411049e+04</td>\n",
       "      <td>5.762657e+05</td>\n",
       "      <td>5.964501e+06</td>\n",
       "      <td>1.066858e+06</td>\n",
       "      <td>1.463146e+06</td>\n",
       "      <td>...</td>\n",
       "      <td>1076.63980</td>\n",
       "      <td>7025.8066</td>\n",
       "      <td>1166.41400</td>\n",
       "      <td>1976.00800</td>\n",
       "      <td>5098.5890</td>\n",
       "      <td>73.272900</td>\n",
       "      <td>255.08055</td>\n",
       "      <td>237.40735</td>\n",
       "      <td>492.48790</td>\n",
       "      <td>8969.5830</td>\n",
       "    </tr>\n",
       "    <tr>\n",
       "      <th>1922-02-28</th>\n",
       "      <td>5592.3980</td>\n",
       "      <td>16573.0140</td>\n",
       "      <td>0.000000e+00</td>\n",
       "      <td>5.661319e+06</td>\n",
       "      <td>2.786177e+05</td>\n",
       "      <td>0.000000e+00</td>\n",
       "      <td>5.337932e+05</td>\n",
       "      <td>7.789075e+06</td>\n",
       "      <td>1.716434e+06</td>\n",
       "      <td>2.194158e+06</td>\n",
       "      <td>...</td>\n",
       "      <td>1775.38680</td>\n",
       "      <td>17411.7560</td>\n",
       "      <td>3411.40800</td>\n",
       "      <td>5724.09230</td>\n",
       "      <td>13322.6045</td>\n",
       "      <td>70.166000</td>\n",
       "      <td>256.13720</td>\n",
       "      <td>424.84427</td>\n",
       "      <td>680.98145</td>\n",
       "      <td>9383.8740</td>\n",
       "    </tr>\n",
       "    <tr>\n",
       "      <th>...</th>\n",
       "      <td>...</td>\n",
       "      <td>...</td>\n",
       "      <td>...</td>\n",
       "      <td>...</td>\n",
       "      <td>...</td>\n",
       "      <td>...</td>\n",
       "      <td>...</td>\n",
       "      <td>...</td>\n",
       "      <td>...</td>\n",
       "      <td>...</td>\n",
       "      <td>...</td>\n",
       "      <td>...</td>\n",
       "      <td>...</td>\n",
       "      <td>...</td>\n",
       "      <td>...</td>\n",
       "      <td>...</td>\n",
       "      <td>...</td>\n",
       "      <td>...</td>\n",
       "      <td>...</td>\n",
       "      <td>...</td>\n",
       "      <td>...</td>\n",
       "    </tr>\n",
       "    <tr>\n",
       "      <th>2003-05-31</th>\n",
       "      <td>3318.8572</td>\n",
       "      <td>18618.2580</td>\n",
       "      <td>1.874032e+06</td>\n",
       "      <td>5.704934e+06</td>\n",
       "      <td>1.099716e+06</td>\n",
       "      <td>1.183967e+07</td>\n",
       "      <td>1.493467e+07</td>\n",
       "      <td>1.223848e+07</td>\n",
       "      <td>4.522120e+06</td>\n",
       "      <td>6.261571e+06</td>\n",
       "      <td>...</td>\n",
       "      <td>7087.94900</td>\n",
       "      <td>20311.0370</td>\n",
       "      <td>8463.59300</td>\n",
       "      <td>9055.09400</td>\n",
       "      <td>22705.2600</td>\n",
       "      <td>55.135270</td>\n",
       "      <td>179.19414</td>\n",
       "      <td>207.87874</td>\n",
       "      <td>387.07288</td>\n",
       "      <td>5741.7935</td>\n",
       "    </tr>\n",
       "    <tr>\n",
       "      <th>2003-06-30</th>\n",
       "      <td>2222.6667</td>\n",
       "      <td>4923.5800</td>\n",
       "      <td>3.628755e+06</td>\n",
       "      <td>9.520898e+06</td>\n",
       "      <td>1.231732e+06</td>\n",
       "      <td>1.608900e+07</td>\n",
       "      <td>2.162981e+07</td>\n",
       "      <td>1.817971e+07</td>\n",
       "      <td>4.591179e+06</td>\n",
       "      <td>7.037492e+06</td>\n",
       "      <td>...</td>\n",
       "      <td>6301.49500</td>\n",
       "      <td>8225.8150</td>\n",
       "      <td>6258.27150</td>\n",
       "      <td>3678.68580</td>\n",
       "      <td>9518.3970</td>\n",
       "      <td>53.185272</td>\n",
       "      <td>275.99796</td>\n",
       "      <td>314.75156</td>\n",
       "      <td>590.74950</td>\n",
       "      <td>5636.2314</td>\n",
       "    </tr>\n",
       "    <tr>\n",
       "      <th>2003-07-31</th>\n",
       "      <td>1147.9255</td>\n",
       "      <td>9365.8700</td>\n",
       "      <td>4.052868e+06</td>\n",
       "      <td>1.145013e+07</td>\n",
       "      <td>3.030184e+05</td>\n",
       "      <td>1.667051e+07</td>\n",
       "      <td>2.299562e+07</td>\n",
       "      <td>2.015033e+07</td>\n",
       "      <td>3.406958e+06</td>\n",
       "      <td>6.321682e+06</td>\n",
       "      <td>...</td>\n",
       "      <td>1452.27650</td>\n",
       "      <td>5212.8720</td>\n",
       "      <td>901.28735</td>\n",
       "      <td>394.12820</td>\n",
       "      <td>2597.1577</td>\n",
       "      <td>64.092170</td>\n",
       "      <td>270.60452</td>\n",
       "      <td>228.97102</td>\n",
       "      <td>499.57556</td>\n",
       "      <td>4991.3300</td>\n",
       "    </tr>\n",
       "    <tr>\n",
       "      <th>2003-08-31</th>\n",
       "      <td>1359.1146</td>\n",
       "      <td>5336.4430</td>\n",
       "      <td>2.851372e+06</td>\n",
       "      <td>8.250568e+06</td>\n",
       "      <td>5.057250e+05</td>\n",
       "      <td>1.162066e+07</td>\n",
       "      <td>1.652348e+07</td>\n",
       "      <td>1.683312e+07</td>\n",
       "      <td>3.466934e+06</td>\n",
       "      <td>6.764329e+06</td>\n",
       "      <td>...</td>\n",
       "      <td>559.36480</td>\n",
       "      <td>4595.1377</td>\n",
       "      <td>484.66680</td>\n",
       "      <td>815.66034</td>\n",
       "      <td>2717.5884</td>\n",
       "      <td>85.212200</td>\n",
       "      <td>258.20230</td>\n",
       "      <td>139.03201</td>\n",
       "      <td>397.23430</td>\n",
       "      <td>4677.8726</td>\n",
       "    </tr>\n",
       "    <tr>\n",
       "      <th>2003-09-30</th>\n",
       "      <td>1674.8894</td>\n",
       "      <td>9031.4380</td>\n",
       "      <td>1.627183e+06</td>\n",
       "      <td>2.706211e+06</td>\n",
       "      <td>2.198163e+06</td>\n",
       "      <td>3.882223e+06</td>\n",
       "      <td>6.671960e+06</td>\n",
       "      <td>1.025345e+07</td>\n",
       "      <td>3.266936e+06</td>\n",
       "      <td>6.865081e+06</td>\n",
       "      <td>...</td>\n",
       "      <td>193.60000</td>\n",
       "      <td>4813.4136</td>\n",
       "      <td>250.57083</td>\n",
       "      <td>361.30264</td>\n",
       "      <td>1776.0951</td>\n",
       "      <td>96.611440</td>\n",
       "      <td>259.90128</td>\n",
       "      <td>139.94684</td>\n",
       "      <td>399.84810</td>\n",
       "      <td>4578.0460</td>\n",
       "    </tr>\n",
       "  </tbody>\n",
       "</table>\n",
       "<p>984 rows × 14592 columns</p>\n",
       "</div>"
      ],
      "text/plain": [
       "                     CALLITE                                           \\\n",
       "           C_SJRVER_expl0000 C_WILKNS_expl0000 DEL_CVP_PAG_N_expl0000   \n",
       "                FLOW-CHANNEL      FLOW-CHANNEL           DELIVERY-CVP   \n",
       "                        1MON              1MON                   1MON   \n",
       "                    2020D09E          2020D09E               2020D09E   \n",
       "                    PER-AVER          PER-AVER               PER-AVER   \n",
       "                         CFS               CFS                    TAF   \n",
       "1921-10-31         2505.2790         5427.5645           2.092484e+05   \n",
       "1921-11-30         1977.8469         4904.4517           0.000000e+00   \n",
       "1921-12-31         2740.8728         9056.1770           0.000000e+00   \n",
       "1922-01-31         2577.6514         6841.2305           0.000000e+00   \n",
       "1922-02-28         5592.3980        16573.0140           0.000000e+00   \n",
       "..                       ...               ...                    ...   \n",
       "2003-05-31         3318.8572        18618.2580           1.874032e+06   \n",
       "2003-06-30         2222.6667         4923.5800           3.628755e+06   \n",
       "2003-07-31         1147.9255         9365.8700           4.052868e+06   \n",
       "2003-08-31         1359.1146         5336.4430           2.851372e+06   \n",
       "2003-09-30         1674.8894         9031.4380           1.627183e+06   \n",
       "\n",
       "                                                          \\\n",
       "           DEL_CVP_PAG_S_expl0000 DEL_CVP_PRF_S_expl0000   \n",
       "                     DELIVERY-CVP           DELIVERY-CVP   \n",
       "                             1MON                   1MON   \n",
       "                         2020D09E               2020D09E   \n",
       "                         PER-AVER               PER-AVER   \n",
       "                              TAF                    TAF   \n",
       "1921-10-31           2.423343e+06           2.813381e+06   \n",
       "1921-11-30           1.848376e+06           1.812635e+06   \n",
       "1921-12-31           2.557507e+06           8.270460e+05   \n",
       "1922-01-31           4.489400e+06           3.715057e+05   \n",
       "1922-02-28           5.661319e+06           2.786177e+05   \n",
       "..                            ...                    ...   \n",
       "2003-05-31           5.704934e+06           1.099716e+06   \n",
       "2003-06-30           9.520898e+06           1.231732e+06   \n",
       "2003-07-31           1.145013e+07           3.030184e+05   \n",
       "2003-08-31           8.250568e+06           5.057250e+05   \n",
       "2003-09-30           2.706211e+06           2.198163e+06   \n",
       "\n",
       "                                                            \\\n",
       "           DEL_CVP_PSC_N_expl0000 DEL_CVP_TOTAL_N_expl0000   \n",
       "                     DELIVERY-CVP             DELIVERY-CVP   \n",
       "                             1MON                     1MON   \n",
       "                         2020D09E                 2020D09E   \n",
       "                         PER-AVER                 PER-AVER   \n",
       "                              TAF                      TAF   \n",
       "1921-10-31           2.041487e+06             3.710914e+06   \n",
       "1921-11-30           2.603797e+06             3.688032e+06   \n",
       "1921-12-31           0.000000e+00             7.394474e+05   \n",
       "1922-01-31           6.411049e+04             5.762657e+05   \n",
       "1922-02-28           0.000000e+00             5.337932e+05   \n",
       "..                            ...                      ...   \n",
       "2003-05-31           1.183967e+07             1.493467e+07   \n",
       "2003-06-30           1.608900e+07             2.162981e+07   \n",
       "2003-07-31           1.667051e+07             2.299562e+07   \n",
       "2003-08-31           1.162066e+07             1.652348e+07   \n",
       "2003-09-30           3.882223e+06             6.671960e+06   \n",
       "\n",
       "                                                                               \\\n",
       "           DEL_CVP_TOTAL_S_expl0000 DEL_SWP_MWD_expl0000 DEL_SWP_PMI_expl0000   \n",
       "                       DELIVERY-CVP         DELIVERY-SWP         DELIVERY-SWP   \n",
       "                               1MON                 1MON                 1MON   \n",
       "                           2020D09E             2020D09E             2020D09E   \n",
       "                           PER-AVER             PER-AVER             PER-AVER   \n",
       "                                TAF                  TAF                  TAF   \n",
       "1921-10-31             8.575424e+06         6.493492e+06         1.116402e+07   \n",
       "1921-11-30             5.393127e+06         6.396417e+06         1.186342e+07   \n",
       "1921-12-31             4.620543e+06         5.373313e+06         1.044180e+07   \n",
       "1922-01-31             5.964501e+06         1.066858e+06         1.463146e+06   \n",
       "1922-02-28             7.789075e+06         1.716434e+06         2.194158e+06   \n",
       "..                              ...                  ...                  ...   \n",
       "2003-05-31             1.223848e+07         4.522120e+06         6.261571e+06   \n",
       "2003-06-30             1.817971e+07         4.591179e+06         7.037492e+06   \n",
       "2003-07-31             2.015033e+07         3.406958e+06         6.321682e+06   \n",
       "2003-08-31             1.683312e+07         3.466934e+06         6.764329e+06   \n",
       "2003-09-30             1.025345e+07         3.266936e+06         6.865081e+06   \n",
       "\n",
       "            ...                                                      \\\n",
       "            ... UNIMP_SJ_CFS_DV_expl0383 UNIMP_SRBB_CFS_DV_expl0383   \n",
       "            ...          FLOW-UNIMPAIRED            FLOW-UNIMPAIRED   \n",
       "            ...                     1MON                       1MON   \n",
       "            ...                 2020D09E                   2020D09E   \n",
       "            ...                 PER-AVER                   PER-AVER   \n",
       "            ...                      CFS                        CFS   \n",
       "1921-10-31  ...                174.01881                  3935.7527   \n",
       "1921-11-30  ...                166.37500                  4856.8057   \n",
       "1921-12-31  ...                959.54300                  8814.7850   \n",
       "1922-01-31  ...               1076.63980                  7025.8066   \n",
       "1922-02-28  ...               1775.38680                 17411.7560   \n",
       "..          ...                      ...                        ...   \n",
       "2003-05-31  ...               7087.94900                 20311.0370   \n",
       "2003-06-30  ...               6301.49500                  8225.8150   \n",
       "2003-07-31  ...               1452.27650                  5212.8720   \n",
       "2003-08-31  ...                559.36480                  4595.1377   \n",
       "2003-09-30  ...                193.60000                  4813.4136   \n",
       "\n",
       "                                                                \\\n",
       "           UNIMP_TU_CFS_DV_expl0383 UNIMP_YUBA_CFS_DV_expl0383   \n",
       "                    FLOW-UNIMPAIRED            FLOW-UNIMPAIRED   \n",
       "                               1MON                       1MON   \n",
       "                           2020D09E                   2020D09E   \n",
       "                           PER-AVER                   PER-AVER   \n",
       "                                CFS                        CFS   \n",
       "1921-10-31                 94.32796                  408.21237   \n",
       "1921-11-30                102.17778                  524.33340   \n",
       "1921-12-31                887.98380                 1836.14250   \n",
       "1922-01-31               1166.41400                 1976.00800   \n",
       "1922-02-28               3411.40800                 5724.09230   \n",
       "..                              ...                        ...   \n",
       "2003-05-31               8463.59300                 9055.09400   \n",
       "2003-06-30               6258.27150                 3678.68580   \n",
       "2003-07-31                901.28735                  394.12820   \n",
       "2003-08-31                484.66680                  815.66034   \n",
       "2003-09-30                250.57083                  361.30264   \n",
       "\n",
       "                                                                               \\\n",
       "           UNIMP_YUBFEA_CFS_DV_expl0383  X2_PRV_expl0383 D_JONES_TAF_expl0383   \n",
       "                        FLOW-UNIMPAIRED X2-POSITION-PREV        FLOW-DELIVERY   \n",
       "                                   1MON             1MON                 1MON   \n",
       "                               2020D09E         2020D09E             2020D09E   \n",
       "                               PER-AVER         PER-AVER             PER-AVER   \n",
       "                                    CFS               KM                  TAF   \n",
       "1921-10-31                    1728.8037        68.202870            170.78238   \n",
       "1921-11-30                    2204.8890        67.435990            141.08742   \n",
       "1921-12-31                    4991.2500        73.796830            254.83131   \n",
       "1922-01-31                    5098.5890        73.272900            255.08055   \n",
       "1922-02-28                   13322.6045        70.166000            256.13720   \n",
       "..                                  ...              ...                  ...   \n",
       "2003-05-31                   22705.2600        55.135270            179.19414   \n",
       "2003-06-30                    9518.3970        53.185272            275.99796   \n",
       "2003-07-31                    2597.1577        64.092170            270.60452   \n",
       "2003-08-31                    2717.5884        85.212200            258.20230   \n",
       "2003-09-30                    1776.0951        96.611440            259.90128   \n",
       "\n",
       "                                                                  \n",
       "           D_BANKS_TAF_expl0383 D_TOT_expl0383 S_RESTOT_expl0383  \n",
       "                  FLOW-DELIVERY  FLOW-DELIVERY           STORAGE  \n",
       "                           1MON           1MON              1MON  \n",
       "                       2020D09E       2020D09E          2020D09E  \n",
       "                       PER-AVER       PER-AVER          PER-AVER  \n",
       "                            TAF            TAF               TAF  \n",
       "1921-10-31            403.27628      574.05865         8793.0510  \n",
       "1921-11-30            331.10460      472.19202         8698.9300  \n",
       "1921-12-31            426.15015      680.98145         8713.6930  \n",
       "1922-01-31            237.40735      492.48790         8969.5830  \n",
       "1922-02-28            424.84427      680.98145         9383.8740  \n",
       "..                          ...            ...               ...  \n",
       "2003-05-31            207.87874      387.07288         5741.7935  \n",
       "2003-06-30            314.75156      590.74950         5636.2314  \n",
       "2003-07-31            228.97102      499.57556         4991.3300  \n",
       "2003-08-31            139.03201      397.23430         4677.8726  \n",
       "2003-09-30            139.94684      399.84810         4578.0460  \n",
       "\n",
       "[984 rows x 14592 columns]"
      ]
     },
     "execution_count": 37,
     "metadata": {},
     "output_type": "execute_result"
    }
   ],
   "source": [
    "df = convert_cfs_to_taf(df)\n",
    "df"
   ]
  },
  {
   "cell_type": "markdown",
   "id": "c1ec9e0d5ba18d09",
   "metadata": {},
   "source": [
    "## Plotting Functions\n",
    "\n",
    "Need to look example file \"general_plots_v20231115.py\" is posted to the Google Drive with the example files/scripts in the Python_DSS directory (here: https://drive.google.com/drive/folders/1JbN0eYKNM0772P0XMj0S7Fyl7I9GZxfW?usp=drive_link). Also the plotting.yml file to list out and define which CalSim/CalLite studies to plot and analyze. If you want to test it out yourself, you'll need ot update the paths to your own CalLite/CalSim studies.\n"
   ]
  },
  {
   "cell_type": "code",
   "execution_count": null,
   "id": "8e8affe5f2d80944",
   "metadata": {
    "ExecuteTime": {
     "end_time": "2024-04-09T17:50:45.473055Z",
     "start_time": "2024-04-09T17:50:45.451461Z"
    }
   },
   "outputs": [],
   "source": [
    "def plot_ts(df, pTitle = 'Time Series', xLab = 'Date', lTitle = 'Studies', fTitle = 'mon_tot', pSave = True, fPath = fPath):\n",
    "    \"\"\"\n",
    "    Plots a time-series graph for a given MultiIndex dataframe (follows calsim conventions)\n",
    "    \n",
    "    The function assumes the DataFrame columns follow a specific naming\n",
    "    convention where the last part of the name indicates the study.\n",
    "    \"\"\"\n",
    "    \n",
    "    var = '_'.join(df.columns[0][1].split('_')[:-1])\n",
    "    colormap = plt.cm.tab20\n",
    "    colors = [colormap(i) for i in range(df.shape[1])]\n",
    "    colors[-1] = [0,0,0,1]\n",
    "\n",
    "    count = 0\n",
    "    \n",
    "    plt.figure(figsize=(14, 8))\n",
    "    \n",
    "    default_font_size = plt.rcParams['font.size']\n",
    "    scaled_font_size = 1.5 * default_font_size # Change it to font size you want\n",
    "    default_line_width = plt.rcParams['lines.linewidth']  \n",
    "    scaled_line_width = 1.5 * default_line_width\n",
    "    \n",
    "    studies = [col[1].split('_')[-1] for col in df.columns]\n",
    "\n",
    "    for study in studies:\n",
    "        study_cols = [col for col in df.columns if col[1].endswith(study)]\n",
    "        for col in study_cols:\n",
    "            sns.lineplot(data=df, x=df.index, y=col, label=f'{study}', color = colors[count], linewidth=scaled_line_width)\n",
    "            count+=1\n",
    "            \n",
    "    plt.title(var + ' ' + pTitle, fontsize=scaled_font_size*2)\n",
    "    plt.xlabel(xLab, fontsize=scaled_font_size*1.5)\n",
    "    plt.ylabel(var+\"\\nUnits: \" + df.columns[0][6], fontsize=scaled_font_size*1.5)\n",
    "\n",
    "    plt.legend(title=lTitle, title_fontsize = scaled_font_size*1.5, fontsize=scaled_font_size*1.25, bbox_to_anchor=(1.02, 1), loc='upper left', borderaxespad=0)\n",
    "    plt.xticks(rotation=45, fontsize=scaled_font_size)  \n",
    "    plt.yticks(fontsize=scaled_font_size)  \n",
    "    plt.tight_layout()  \n",
    "     \n",
    "    if pSave:\n",
    "        plt.savefig(f'{fPath}/{var}_{fTitle}.png', format = 'png', bbox_inches='tight', dpi=600, transparent=False)\n",
    "        \n",
    "    plt.show()\n",
    "   "
   ]
  },
  {
   "cell_type": "code",
   "execution_count": null,
   "id": "6442e314f79d6c11",
   "metadata": {
    "ExecuteTime": {
     "end_time": "2024-04-05T14:46:44.246508Z",
     "start_time": "2024-04-05T14:46:44.218752Z"
    }
   },
   "outputs": [],
   "source": [
    "def plot_annual_totals(df, xLab = 'Date', pTitle = 'Annual Totals', lTitle = 'Studies', fTitle = 'ann_tot', pSave = True, fPath = fPath):\n",
    "    \"\"\"\n",
    "    Plots a time-series graph of annual totals for a given MultiIndex Dataframe that \n",
    "    follows calsim conventions\n",
    "    \n",
    "    The function assumes the DataFrame columns follow a specific naming\n",
    "    convention where the last part of the name indicates the study. \n",
    "    \"\"\"\n",
    "    \n",
    "    annualized_df = pd.DataFrame()\n",
    "    var = '_'.join(df.columns[0][1].split('_')[:-1])\n",
    "    studies = [col[1].split('_')[-1] for col in df.columns]\n",
    "        \n",
    "    colormap = plt.cm.tab20\n",
    "    colors = [colormap(i) for i in range(df.shape[1])]\n",
    "    colors[-1] = [0,0,0,1]\n",
    "        \n",
    "    i=0\n",
    "\n",
    "    plt.figure(figsize=(14, 8))\n",
    "        \n",
    "    default_font_size = plt.rcParams['font.size']\n",
    "    scaled_font_size = 1.5 * default_font_size # Change it to font size you want\n",
    "    default_line_width = plt.rcParams['lines.linewidth']  \n",
    "    scaled_line_width = 1.5 * default_line_width\n",
    "    \n",
    "    for study in studies:\n",
    "        study_cols = [col for col in df.columns if col[1].endswith(study)]\n",
    "        for col in study_cols:\n",
    "            with redirect_stdout(open(os.devnull, 'w')):\n",
    "                df_ann = csPlots.annualize(df.loc[:, [df.columns[i]]])\n",
    "                annualized_df = pd.concat([annualized_df, df_ann], axis=1)\n",
    "                annualized_col_name = df_ann.columns[0]\n",
    "                sns.lineplot(data = df_ann, x=df_ann.index, y=annualized_col_name, label=f'{study}', color = colors[i],\n",
    "                            linewidth = scaled_line_width)\n",
    "                i+=1\n",
    "                    \n",
    "\n",
    "    plt.title(var + ' ' + pTitle, fontsize=scaled_font_size*2)\n",
    "    plt.xlabel(xLab, fontsize=scaled_font_size*1.5)\n",
    "    plt.ylabel(var+\"\\nUnits: \" + df.columns[0][6], fontsize=scaled_font_size*1.5)\n",
    "\n",
    "    plt.legend(title=lTitle, title_fontsize = scaled_font_size*1.5, fontsize=scaled_font_size*1.25, bbox_to_anchor=(1.02, 1), loc='upper left', borderaxespad=0)\n",
    "    plt.xticks(rotation=45, fontsize=scaled_font_size)  \n",
    "    plt.yticks(fontsize=scaled_font_size)  \n",
    "    plt.tight_layout()  \n",
    "        \n",
    "    if pSave:\n",
    "        plt.savefig(f'{fPath}/{var}_{fTitle}.png', format = 'png', bbox_inches='tight', dpi=600, transparent=False)\n",
    "        \n",
    "    plt.show()\n",
    "    return annualized_df "
   ]
  },
  {
   "cell_type": "code",
   "execution_count": null,
   "id": "66161cbeb3ab599e",
   "metadata": {
    "ExecuteTime": {
     "end_time": "2024-04-05T14:46:44.767662Z",
     "start_time": "2024-04-05T14:46:44.743773Z"
    }
   },
   "outputs": [],
   "source": [
    "def plot_exceedance(df, month = \"All Months\", xLab = 'Probability', pTitle = 'Exceedance Probability', lTitle = 'Studies', fTitle = 'exceed', pSave = True, fPath = fPath):\n",
    "    \"\"\"\n",
    "    Plots an exceedance graph for a given MultiIndex Dataframe that follows calsim conventions\n",
    "  \n",
    "    The function assumes the DataFrame columns follow a specific naming\n",
    "    convention where the last part of the name indicates the study. \n",
    "    \"\"\"\n",
    "    pTitle = pTitle + \" \" + month\n",
    "    fTitle = fTitle + \" \" + month\n",
    "    \n",
    "    var = '_'.join(df.columns[0][1].split('_')[:-1])\n",
    "    studies = [col[1].split('_')[-1] for col in df.columns]\n",
    "    i=0\n",
    "    \n",
    "    colormap = plt.cm.tab20\n",
    "    colors = [colormap(i) for i in range(df.shape[1])]\n",
    "    colors[-1] = [0,0,0,1]\n",
    "\n",
    "    plt.figure(figsize=(14, 8))\n",
    "            \n",
    "    default_font_size = plt.rcParams['font.size']\n",
    "    scaled_font_size = 1.5 * default_font_size # Change it to font size you want\n",
    "    default_line_width = plt.rcParams['lines.linewidth']  \n",
    "    scaled_line_width = 1.5 * default_line_width\n",
    "\n",
    "    for study in studies:\n",
    "        study_cols = [col for col in df.columns if col[1].endswith(study)]\n",
    "        for col in study_cols:\n",
    "            df_ex = csPlots.single_exceed(df, df.columns[i])\n",
    "            ex_col_name = df_ex.columns[0]\n",
    "            sns.lineplot(data = df_ex, x=df_ex.index, y=ex_col_name, label=f'{study}', color = colors[i], linewidth = scaled_line_width)\n",
    "            i+=1\n",
    "\n",
    "    plt.title(var + ' ' + pTitle, fontsize=scaled_font_size*2)\n",
    "    plt.xlabel(xLab, fontsize=scaled_font_size*1.5)\n",
    "    plt.ylabel(var+\"\\nUnits: \" + df.columns[0][6], fontsize=scaled_font_size*1.5)\n",
    "    plt.legend(title=lTitle, title_fontsize = scaled_font_size*1.5, fontsize=scaled_font_size*1.25, bbox_to_anchor=(1.02, 1), loc='upper left', borderaxespad=0)\n",
    "    plt.xticks(rotation=45, fontsize=scaled_font_size)  \n",
    "    plt.yticks(fontsize=scaled_font_size)  \n",
    "    plt.tight_layout()  \n",
    "    \n",
    "    if pSave:\n",
    "        plt.savefig(f'{fPath}/{var}_{fTitle}.png', format = 'png', bbox_inches='tight', dpi=600, transparent=False)\n",
    "        \n",
    "    plt.show()"
   ]
  },
  {
   "cell_type": "code",
   "execution_count": null,
   "id": "30ae1f9fb3d57f01",
   "metadata": {
    "ExecuteTime": {
     "end_time": "2024-04-05T14:46:45.401371Z",
     "start_time": "2024-04-05T14:46:45.345498Z"
    }
   },
   "outputs": [],
   "source": [
    "def plot_moy_averages(df, xLab = 'Month of Year', pTitle = 'Month of Year Average Totals', lTitle = 'Studies', fTitle = 'moy_avg', fPath = fPath):\n",
    "    \"\"\"\n",
    "    Plots a time-series graph of month of year averages of a study for a given MultiIndex Dataframe that follows calsim conventions. Calculates mean for 12 months across all study years and uses the plot_ts function to produce a graph.\n",
    "    \n",
    "    The function assumes the DataFrame columns follow a specific naming\n",
    "    convention where the last part of the name indicates the study. \n",
    "    \"\"\"\n",
    "    df_copy = df.copy()\n",
    "    df_copy[\"Month\"] = df.index.month\n",
    "    df_moy = df_copy.groupby('Month').mean()\n",
    "    plot_ts(df_moy, pTitle = pTitle, xLab = xLab, lTitle = lTitle, fTitle = fTitle, fPath = fPath)"
   ]
  },
  {
   "cell_type": "markdown",
   "id": "2320316619d1539c",
   "metadata": {},
   "source": [
    "### Difference From Baseline"
   ]
  },
  {
   "cell_type": "code",
   "execution_count": null,
   "id": "ba99f8c334d15165",
   "metadata": {
    "ExecuteTime": {
     "end_time": "2024-04-05T14:46:46.783005Z",
     "start_time": "2024-04-05T14:46:46.745796Z"
    }
   },
   "outputs": [],
   "source": [
    "def get_difference_from_baseline(df):\n",
    "    \"\"\"\n",
    "    Calculates the difference from baseline for a given variable\n",
    "    Assumptions: baseline column on first column, df only contains single variable\n",
    "    \"\"\"\n",
    "    df_diff = df.copy()\n",
    "    baseline_column = df_diff.iloc[:, 0]\n",
    "    \n",
    "    for i in range(1, df_diff.shape[1]):\n",
    "        df_diff.iloc[:, i] = df_diff.iloc[:, i].sub(baseline_column)\n",
    "    df_diff = df_diff.iloc[:, 1:]\n",
    "\n",
    "    return df_diff"
   ]
  },
  {
   "cell_type": "code",
   "execution_count": null,
   "id": "b1bceaefa2d2c573",
   "metadata": {
    "ExecuteTime": {
     "end_time": "2024-04-05T14:46:47.608152Z",
     "start_time": "2024-04-05T14:46:47.548269Z"
    }
   },
   "outputs": [],
   "source": [
    "def difference_from_baseline(df, plot_type, pTitle = 'Difference from Baseline ', xLab = 'Date', lTitle = 'Studies', fTitle = \"___\", pSave = True, fPath = fPath):\n",
    "    \"\"\"\n",
    "    Plots the difference from baseline of a single variable with a specific plot type\n",
    "    plot_type parameter inputs: plot_ts, plot_exceedance, plot_moy_averages, plot_annual_totals\n",
    "    \"\"\"\n",
    "    pTitle += plot_type.__name__\n",
    "    diff_df = get_difference_from_baseline(df)\n",
    "    plot_type(diff_df, pTitle = pTitle, fTitle = fTitle, fPath = fPath)"
   ]
  },
  {
   "cell_type": "code",
   "execution_count": null,
   "id": "240998d6a359a095",
   "metadata": {
    "ExecuteTime": {
     "end_time": "2024-04-05T14:46:52.380202Z",
     "start_time": "2024-04-05T14:46:52.353226Z"
    }
   },
   "outputs": [],
   "source": [
    "def slice_with_baseline(df, var, study_lst):\n",
    "    \"\"\"\n",
    "    Creates a subset of df based on varname and slices it according to the provided range.\n",
    "    \"\"\"\n",
    "    subset_df = create_subset(df, var)\n",
    "    df_baseline = subset_df.iloc[:,[0]]\n",
    "    df_rest = subset_df.iloc[:, study_lst]\n",
    "    return pd.concat([df_baseline, df_rest], axis = 1)"
   ]
  },
  {
   "cell_type": "code",
   "execution_count": null,
   "outputs": [],
   "source": [
    "def get_water_year(date):\n",
    "    date = pd.to_datetime(date)\n",
    "    return date.year if date.month < 10 else date.year + 1"
   ],
   "metadata": {
    "collapsed": false
   },
   "id": "a0408ff1432c710a"
  },
  {
   "cell_type": "markdown",
   "source": [
    "##### Plots Across WY Type"
   ],
   "metadata": {
    "collapsed": false
   },
   "id": "e1d7312dc5eb1c47"
  },
  {
   "cell_type": "code",
   "execution_count": null,
   "id": "e42cfa669fc9c2d8",
   "metadata": {
    "ExecuteTime": {
     "end_time": "2024-04-05T14:47:44.712752Z",
     "start_time": "2024-04-05T14:47:44.674129Z"
    }
   },
   "outputs": [],
   "source": [
    "def plot_ts_wy(df, titlelabel = '', fPath = '../visualizations', pSave = True):\n",
    "    \"\"\"\n",
    "    Plots time series data for each water year type on the same graph.\n",
    "    \"\"\"\n",
    "\n",
    "    plt.figure(figsize=(10, 6))  \n",
    "    \n",
    "    year_types = df[\"Water Year Type\"].unique()\n",
    "\n",
    "    for year_type in year_types:\n",
    "        subset = df[df[\"Water Year Type\"] == year_type]\n",
    "        plt.plot(subset.index, subset.iloc[:, [0]], label=year_type)\n",
    "\n",
    "    plt.title('Time Series by Water Year Type'+' '+titlelabel)\n",
    "    plt.xlabel('Date')\n",
    "    plt.ylabel(\"Storage (TAF)\")\n",
    "    plt.legend()\n",
    "    plt.grid(True)\n",
    "    plt.xticks(rotation=45)  \n",
    "    plt.tight_layout() \n",
    "    if pSave:\n",
    "        plt.savefig(f'{fPath}/TS_WY_{titlelabel}.png', format = 'png', bbox_inches='tight', dpi=600, transparent=False)\n",
    "\n",
    "    plt.show()"
   ]
  },
  {
   "cell_type": "code",
   "execution_count": null,
   "id": "76a2a11becc1b355",
   "metadata": {
    "ExecuteTime": {
     "end_time": "2024-04-05T14:47:45.045090Z",
     "start_time": "2024-04-05T14:47:45.017124Z"
    }
   },
   "outputs": [],
   "source": [
    "def plot_moy_wy(df, titlelabel = '', fPath = '../visualizations', pSave = True):\n",
    "    \"\"\"\n",
    "    Plots the month-of-year averages for each water year type.\n",
    "    \"\"\"\n",
    "    \n",
    "    df['Month'] = df.index.month\n",
    "    df['Water Year Type'] = df.iloc[:, 1]  \n",
    "    df_moy = df.groupby(['Month', 'Water Year Type']).mean().reset_index()\n",
    "\n",
    "    sns.set(style=\"whitegrid\")\n",
    "    plt.figure(figsize=(12, 6))\n",
    "\n",
    "    water_year_types = df_moy['Water Year Type'].unique()\n",
    "    for wy_type in water_year_types:\n",
    "        subset = df_moy[df_moy['Water Year Type'] == wy_type]\n",
    "        sns.lineplot(x='Month', y=df.columns[0], data=subset, label=wy_type)\n",
    "\n",
    "    plt.title('Month-of-Year Averages by Water Year Type'+' '+titlelabel)\n",
    "    plt.xlabel('Month')\n",
    "    plt.ylabel('Average Value')\n",
    "    plt.legend(title='Water Year Type')\n",
    "    plt.xticks(range(1, 13), ['Jan', 'Feb', 'Mar', 'Apr', 'May', 'Jun', 'Jul', 'Aug', 'Sep', 'Oct', 'Nov', 'Dec'], rotation=45)\n",
    "    plt.tight_layout()\n",
    "    if pSave:\n",
    "        plt.savefig(f'{fPath}/MoY_WY_{titlelabel}.png', format = 'png', bbox_inches='tight', dpi=600, transparent=False)\n",
    "    plt.show()"
   ]
  },
  {
   "cell_type": "code",
   "execution_count": null,
   "outputs": [],
   "source": [
    "df_shsta = slice_with_baseline(df, \"S_SHSTA\", [])\n",
    "df_orovl = slice_with_baseline(df, \"S_OROVL\", [])\n",
    "df_shsta.head(2)"
   ],
   "metadata": {
    "collapsed": false,
    "ExecuteTime": {
     "start_time": "2024-04-05T14:47:21.534968Z"
    }
   },
   "id": "19bf1f099d7cdb2c"
  },
  {
   "cell_type": "code",
   "execution_count": null,
   "outputs": [],
   "source": [
    "plot_ts(df_shsta, pTitle = 'Monthly Total', fTitle = 'Month_Tot', fPath = '../visualizations')"
   ],
   "metadata": {
    "collapsed": false
   },
   "id": "54402cad-e7ce-42d1-8f72-90870f9d7950"
  },
  {
   "cell_type": "code",
   "execution_count": null,
   "outputs": [],
   "source": [
    "df_del_cvp_pag_n = slice_with_baseline(df, \"DEL_CVP_PAG_N\", [])\n",
    "df_del_cvp_pag_s = slice_with_baseline(df, \"DEL_CVP_PAG_S\", [])\n",
    "df_del_cvp_pag_n.head(2)"
   ],
   "metadata": {
    "collapsed": false,
    "ExecuteTime": {
     "start_time": "2024-04-05T14:47:31.893529Z"
    }
   },
   "id": "dd0dc2f7-f65c-46bc-a2d6-a227cf654039"
  },
  {
   "cell_type": "code",
   "execution_count": null,
   "outputs": [],
   "source": [
    "df_wy_filter.head(2)"
   ],
   "metadata": {
    "collapsed": false,
    "ExecuteTime": {
     "start_time": "2024-04-05T14:47:35.275104Z"
    }
   },
   "id": "904f85c93a43cf0f"
  },
  {
   "cell_type": "code",
   "execution_count": null,
   "outputs": [],
   "source": [
    "wy_value_map = {\n",
    "    1: \"Wet\",\n",
    "    2: \"Above normal\",\n",
    "    3: \"Below normal\",\n",
    "    4: \"Dry\",\n",
    "    5: \"Critical\",\n",
    "}"
   ],
   "metadata": {
    "collapsed": false,
    "ExecuteTime": {
     "start_time": "2024-04-05T14:47:37.256083Z"
    }
   },
   "id": "c94aaa0b"
  },
  {
   "cell_type": "code",
   "execution_count": null,
   "outputs": [],
   "source": [
    "water_year_type_map = df_wy_filter.set_index(\"WATERYEAR\")\n",
    "water_year_type_map = water_year_type_map.to_dict()\n",
    "water_year_type_map_shasta = water_year_type_map[\"SACindex_0\"]\n",
    "water_year_type_map_orovl = water_year_type_map[\"SACindex_0\"]\n",
    "water_year_type_map_del_cvp_pag_n = water_year_type_map[\"SACindex_0\"]\n",
    "water_year_type_map_del_cvp_pag_s = water_year_type_map[\"SACindex_0\"]"
   ],
   "metadata": {
    "collapsed": false,
    "ExecuteTime": {
     "start_time": "2024-04-05T14:47:37.622071Z"
    }
   },
   "id": "5fc2be10ab3c95cb"
  },
  {
   "cell_type": "code",
   "execution_count": null,
   "outputs": [],
   "source": [
    "water_year_type_map_shasta = {year: wy_value_map[value] for year, value in water_year_type_map_shasta.items()}"
   ],
   "metadata": {
    "collapsed": false,
    "ExecuteTime": {
     "start_time": "2024-04-05T14:47:39.259860Z"
    }
   },
   "id": "555fa483"
  },
  {
   "cell_type": "code",
   "execution_count": null,
   "outputs": [],
   "source": [
    "water_year_type_map_orovl = {year: wy_value_map[value] for year, value in water_year_type_map_orovl.items()}"
   ],
   "metadata": {
    "collapsed": false,
    "ExecuteTime": {
     "start_time": "2024-04-05T14:47:39.666514Z"
    }
   },
   "id": "a675a001"
  },
  {
   "cell_type": "code",
   "execution_count": null,
   "outputs": [],
   "source": [
    "water_year_type_map_del_cvp_pag_n = {year: wy_value_map[value] for year, value in water_year_type_map_del_cvp_pag_n.items()}\n",
    "water_year_type_map_del_cvp_pag_s = {year: wy_value_map[value] for year, value in water_year_type_map_del_cvp_pag_s.items()}"
   ],
   "metadata": {
    "collapsed": false,
    "ExecuteTime": {
     "start_time": "2024-04-05T14:47:40.078706Z"
    }
   },
   "id": "3be93b04-40c8-4fad-949a-7f8c1e1390c6"
  },
  {
   "cell_type": "code",
   "execution_count": null,
   "outputs": [],
   "source": [
    "df_shsta['Water Year'] = df_shsta.index.map(get_water_year)\n",
    "df_orovl['Water Year'] = df_orovl.index.map(get_water_year)\n",
    "df_del_cvp_pag_n['Water Year'] = df_del_cvp_pag_n.index.map(get_water_year)\n",
    "df_del_cvp_pag_s['Water Year'] = df_del_cvp_pag_s.index.map(get_water_year)\n",
    "\n",
    "df_shsta['Water Year Type'] = df_shsta[\"Water Year\"].map(water_year_type_map_shasta)\n",
    "df_orovl['Water Year Type'] = df_orovl[\"Water Year\"].map(water_year_type_map_orovl)\n",
    "df_del_cvp_pag_n['Water Year Type'] = df_del_cvp_pag_n[\"Water Year\"].map(water_year_type_map_del_cvp_pag_n)\n",
    "df_del_cvp_pag_s['Water Year Type'] = df_del_cvp_pag_s[\"Water Year\"].map(water_year_type_map_del_cvp_pag_s)\n",
    "\n",
    "df_shsta = df_shsta.drop(columns = [\"Water Year\"], axis=1)\n",
    "df_orovl = df_orovl.drop(columns = [\"Water Year\"], axis=1)\n",
    "df_del_cvp_pag_n = df_del_cvp_pag_n.drop(columns = [\"Water Year\"], axis=1)\n",
    "df_del_cvp_pag_s = df_del_cvp_pag_s.drop(columns = [\"Water Year\"], axis=1)\n",
    "\n",
    "df_shsta.head(5)"
   ],
   "metadata": {
    "collapsed": false,
    "ExecuteTime": {
     "start_time": "2024-04-05T14:47:40.550900Z"
    }
   },
   "id": "988785b6df3e6848"
  },
  {
   "cell_type": "code",
   "execution_count": null,
   "id": "26a2e8aa",
   "metadata": {
    "ExecuteTime": {
     "end_time": "2024-04-05T14:47:45.794096Z",
     "start_time": "2024-04-05T14:47:45.754060Z"
    }
   },
   "outputs": [],
   "source": [
    "def plot_exceedance_wy(df, titlelabel = '', fPath = '../visualizations', pSave = True):\n",
    "    \"\"\"\n",
    "    Plots an exceedance graph across different water year types.\n",
    "    \"\"\"\n",
    "    wy_types = df['Water Year Type'].unique()\n",
    "    \n",
    "    plt.figure(figsize=(12, 6))\n",
    "    \n",
    "    for wy_type in wy_types:\n",
    "        subset = df[df['Water Year Type'] == wy_type]\n",
    "        \n",
    "        df_ex = csPlots.single_exceed(subset, subset.columns[0])\n",
    "        sns.lineplot(x=df_ex.index, y=df_ex.columns[0], data=df_ex, label=wy_type)\n",
    "    \n",
    "    plt.title('Exceedance by Water Year Type'+' '+titlelabel)\n",
    "    plt.xlabel('Exceedance Probability')\n",
    "    plt.ylabel('Value')\n",
    "    plt.legend(title='Water Year Type')\n",
    "    plt.tight_layout()\n",
    "    if pSave:\n",
    "        plt.savefig(f'{fPath}/Exc_WY_{titlelabel}.png', format = 'png', bbox_inches='tight', dpi=600, transparent=False)\n",
    "    plt.show()"
   ]
  },
  {
   "cell_type": "code",
   "execution_count": null,
   "id": "4ada0b16",
   "metadata": {
    "ExecuteTime": {
     "end_time": "2024-04-05T14:47:46.494196Z",
     "start_time": "2024-04-05T14:47:46.459570Z"
    }
   },
   "outputs": [],
   "source": [
    "def plot_annualized_wy(df, titlelabel = '', fPath = '../visualizations', pSave = True):\n",
    "    \"\"\"\n",
    "    Plots annualized calculation results across different water year types.\n",
    "    \"\"\"\n",
    "    wy_types = df['Water Year Type'].unique()\n",
    "    \n",
    "    plt.figure(figsize=(12, 6))\n",
    "    \n",
    "    for wy_type in wy_types:\n",
    "        subset = df[df['Water Year Type'] == wy_type]\n",
    "        \n",
    "        with redirect_stdout(open(os.devnull, 'w')):\n",
    "        \n",
    "            df_ann = csPlots.annualize(subset.loc[:, [df.columns[0]]])\n",
    "\n",
    "            sns.lineplot(x=df_ann.index, y=df_ann.columns[0], data=df_ann, label=wy_type)\n",
    "    \n",
    "    plt.title('Annualized Values by Water Year Type'+' '+titlelabel)\n",
    "    plt.xlabel('Year')\n",
    "    plt.ylabel('Annualized Value')\n",
    "    plt.legend(title='Water Year Type')\n",
    "    plt.tight_layout()\n",
    "    if pSave:\n",
    "        plt.savefig(f'{fPath}/Ann_WY_{titlelabel}.png', format = 'png', bbox_inches='tight', dpi=600, transparent=False)\n",
    "    plt.show()"
   ]
  },
  {
   "cell_type": "code",
   "execution_count": null,
   "id": "94b30abc61f549d8",
   "metadata": {
    "ExecuteTime": {
     "end_time": "2024-04-05T14:47:47.056129Z",
     "start_time": "2024-04-05T14:47:47.029751Z"
    }
   },
   "outputs": [],
   "source": [
    "def plot_boxplots_wy(df, titlelabel='', pSave = True):\n",
    "    \"\"\"\n",
    "    Creates boxplots for a specified value column, grouped by water year type.\n",
    "    \"\"\"\n",
    "    \n",
    "    df['Water Year Type'] = pd.Categorical(df['Water Year Type'], categories=df['Water Year Type'].unique(), ordered=True)\n",
    "    plt.figure(figsize=(12, 6))\n",
    "    sns.boxplot(x='Water Year Type', y=df.columns[0], data=df)\n",
    "\n",
    "    plt.title(f'Boxplots by Water Year Type {titlelabel}')\n",
    "    plt.xlabel('Water Year Type')\n",
    "    plt.ylabel(\"Value\")\n",
    "    plt.xticks(rotation=45)\n",
    "    plt.tight_layout()\n",
    "    if pSave:\n",
    "        plt.savefig(f'{fPath}/Box_WY_{titlelabel}.png', format = 'png', bbox_inches='tight', dpi=600, transparent=False)\n",
    "    plt.show()\n"
   ]
  },
  {
   "cell_type": "code",
   "execution_count": null,
   "id": "4c4eb887c8fa61ea",
   "metadata": {
    "ExecuteTime": {
     "end_time": "2024-03-14T17:02:47.122912Z",
     "start_time": "2024-03-14T17:02:45.777305Z"
    }
   },
   "outputs": [],
   "source": [
    "#plot_ts_wy(df_shsta, 'Shasta')"
   ]
  },
  {
   "cell_type": "code",
   "execution_count": null,
   "id": "515d23fa5f4cb469",
   "metadata": {
    "ExecuteTime": {
     "end_time": "2024-03-14T17:02:47.317576Z",
     "start_time": "2024-03-14T17:02:47.056575Z"
    }
   },
   "outputs": [],
   "source": [
    "#plot_ts_wy(df_orovl, 'Oroville')"
   ]
  },
  {
   "cell_type": "code",
   "execution_count": null,
   "id": "3c0090c443020df4",
   "metadata": {
    "ExecuteTime": {
     "end_time": "2024-04-05T14:47:52.499261Z",
     "start_time": "2024-04-05T14:47:51.025235Z"
    }
   },
   "outputs": [],
   "source": [
    "plot_moy_wy(df_shsta, 'Shasta')"
   ]
  },
  {
   "cell_type": "code",
   "execution_count": null,
   "id": "3e6f0970cacca7a7",
   "metadata": {
    "ExecuteTime": {
     "end_time": "2024-03-14T17:03:26.663007Z",
     "start_time": "2024-03-14T17:03:26.466645Z"
    }
   },
   "outputs": [],
   "source": [
    "plot_moy_wy(df_orovl, 'Oroville')"
   ]
  },
  {
   "cell_type": "code",
   "execution_count": null,
   "id": "617ae926",
   "metadata": {},
   "outputs": [],
   "source": [
    "#plot_annualized_wy(df_shsta, 'Shasta')"
   ]
  },
  {
   "cell_type": "code",
   "execution_count": null,
   "id": "202a0722",
   "metadata": {},
   "outputs": [],
   "source": [
    "#plot_annualized_wy(df_orovl, 'Oroville')"
   ]
  },
  {
   "cell_type": "code",
   "execution_count": null,
   "id": "c29f132e",
   "metadata": {},
   "outputs": [],
   "source": [
    "# April TS\n",
    "copy = df_shsta.copy()\n",
    "apr_shsta = copy[copy.index.month.isin([4])]\n",
    "#plot_ts_wy(apr_shsta, 'Shasta April Storage')"
   ]
  },
  {
   "cell_type": "code",
   "execution_count": null,
   "id": "aeda7486",
   "metadata": {},
   "outputs": [],
   "source": [
    "plot_exceedance_wy(apr_shsta, 'Shasta April Storage')"
   ]
  },
  {
   "cell_type": "code",
   "execution_count": null,
   "id": "8e55a2fe",
   "metadata": {},
   "outputs": [],
   "source": [
    "copy = df_shsta.copy()\n",
    "sep_shsta = copy[copy.index.month.isin([9])]\n",
    "#plot_ts_wy(sep_shsta, 'Shasta September Storage')"
   ]
  },
  {
   "cell_type": "code",
   "execution_count": null,
   "id": "09408546",
   "metadata": {},
   "outputs": [],
   "source": [
    "plot_exceedance_wy(sep_shsta, 'Shasta September Storage')"
   ]
  },
  {
   "cell_type": "code",
   "execution_count": null,
   "id": "9951818a-cd84-41cd-b97d-7990ab90fe6c",
   "metadata": {},
   "outputs": [],
   "source": [
    "# April TS\n",
    "copy = df_orovl.copy()\n",
    "apr_orovl = copy[copy.index.month.isin([4])]\n",
    "#plot_ts_wy(apr_orovl, 'Oroville April Storage')"
   ]
  },
  {
   "cell_type": "code",
   "execution_count": null,
   "id": "e27adfd3-52d7-437a-9bdc-9c0a3b0c4897",
   "metadata": {},
   "outputs": [],
   "source": [
    "plot_exceedance_wy(apr_orovl, 'Oroville September Storage')"
   ]
  },
  {
   "cell_type": "code",
   "execution_count": null,
   "id": "dbb8da2e-832a-413a-800e-03c01b683b77",
   "metadata": {},
   "outputs": [],
   "source": [
    "copy = df_orovl.copy()\n",
    "sep_orovl = copy[copy.index.month.isin([9])]\n",
    "#plot_ts_wy(sep_orovl, 'Oroville September Storage')"
   ]
  },
  {
   "cell_type": "code",
   "execution_count": null,
   "id": "e05de76a-82a0-4078-b7be-dc7b4b4d6182",
   "metadata": {},
   "outputs": [],
   "source": [
    "plot_exceedance_wy(sep_orovl, 'Oroville September Storage')"
   ]
  },
  {
   "cell_type": "code",
   "execution_count": null,
   "id": "41173bd3-88a9-46e0-aedc-829300e61938",
   "metadata": {},
   "outputs": [],
   "source": [
    "plot_moy_wy(df_del_cvp_pag_n, 'del_cvp_pag_n')"
   ]
  },
  {
   "cell_type": "code",
   "execution_count": null,
   "id": "e45bf96f-e35d-4bd2-a35e-8d9c4ff549bd",
   "metadata": {},
   "outputs": [],
   "source": [
    "plot_moy_wy(df_del_cvp_pag_s, 'del_cvp_pag_s')"
   ]
  },
  {
   "cell_type": "code",
   "execution_count": null,
   "id": "8294d4bd-2254-492b-bf0f-b6df7cc16943",
   "metadata": {},
   "outputs": [],
   "source": [
    "plot_exceedance_wy(df_del_cvp_pag_n, 'del_cvp_pag_n')"
   ]
  },
  {
   "cell_type": "code",
   "execution_count": null,
   "id": "7beb45d1-e3de-452d-9acb-c2cdeff4244f",
   "metadata": {},
   "outputs": [],
   "source": [
    "plot_exceedance_wy(df_del_cvp_pag_s, 'del_cvp_pag_s')"
   ]
  },
  {
   "cell_type": "code",
   "execution_count": null,
   "id": "e3b1853c5bb8e124",
   "metadata": {
    "ExecuteTime": {
     "end_time": "2024-03-15T16:36:21.304833Z",
     "start_time": "2024-03-15T16:36:20.205021Z"
    }
   },
   "outputs": [],
   "source": [
    "plot_boxplots_wy(df_shsta, \"Shasta\")"
   ]
  },
  {
   "cell_type": "code",
   "execution_count": null,
   "id": "aed876580208d63a",
   "metadata": {
    "ExecuteTime": {
     "end_time": "2024-03-15T16:36:21.396494Z",
     "start_time": "2024-03-15T16:36:21.283724Z"
    }
   },
   "outputs": [],
   "source": [
    "plot_boxplots_wy(df_orovl, \"Orovl\")"
   ]
  },
  {
   "cell_type": "code",
   "execution_count": null,
   "outputs": [],
   "source": [
    "plot_boxplots_wy(df_del_cvp_pag_s, \"Del_cvp_pag_s\")"
   ],
   "metadata": {
    "collapsed": false
   },
   "id": "cf4fd401f72110e6"
  },
  {
   "cell_type": "code",
   "execution_count": null,
   "outputs": [],
   "source": [
    "plot_boxplots_wy(df_del_cvp_pag_n, \"Del_cvp_pag_n\")"
   ],
   "metadata": {
    "collapsed": false
   },
   "id": "9c8e97becd897522"
  }
 ],
 "metadata": {
  "kernelspec": {
   "display_name": "Python 3 (ipykernel)",
   "language": "python",
   "name": "python3"
  },
  "language_info": {
   "codemirror_mode": {
    "name": "ipython",
    "version": 3
   },
   "file_extension": ".py",
   "mimetype": "text/x-python",
   "name": "python",
   "nbconvert_exporter": "python",
   "pygments_lexer": "ipython3",
   "version": "3.11.7"
  }
 },
 "nbformat": 4,
 "nbformat_minor": 5
}
